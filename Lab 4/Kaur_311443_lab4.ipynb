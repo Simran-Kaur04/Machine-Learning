{
 "cells": [
  {
   "cell_type": "markdown",
   "id": "3c6678e0",
   "metadata": {},
   "source": [
    "# Machine Learning Lab\n",
    "\n",
    "# Assignment 4\n",
    "\n",
    "# Simran Kaur\n",
    "\n",
    "# 311443"
   ]
  },
  {
   "cell_type": "markdown",
   "id": "66038271",
   "metadata": {},
   "source": [
    "# Exercise 0: Dataset preprocessing"
   ]
  },
  {
   "cell_type": "markdown",
   "id": "1fdfa326",
   "metadata": {},
   "source": [
    "Importing all the Libraries"
   ]
  },
  {
   "cell_type": "code",
   "execution_count": 751,
   "id": "54f30617",
   "metadata": {},
   "outputs": [],
   "source": [
    "import pandas as pd\n",
    "import matplotlib.pyplot as plt\n",
    "import numpy as np\n",
    "import random\n",
    "import math"
   ]
  },
  {
   "cell_type": "code",
   "execution_count": 218,
   "id": "46f21979",
   "metadata": {
    "scrolled": true
   },
   "outputs": [
    {
     "name": "stdout",
     "output_type": "stream",
     "text": [
      "1. Title: Tic-Tac-Toe Endgame database\n",
      "\n",
      "2. Source Information\n",
      "   -- Creator: David W. Aha (aha@cs.jhu.edu)\n",
      "   -- Donor: David W. Aha (aha@cs.jhu.edu)\n",
      "   -- Date: 19 August 1991\n",
      " \n",
      "3. Known Past Usage: \n",
      "   1. Matheus,~C.~J., \\& Rendell,~L.~A. (1989).  Constructive\n",
      "      induction on decision trees.  In {\\it Proceedings of the\n",
      "      Eleventh International Joint Conference on Artificial Intelligence} \n",
      "      (pp. 645--650).  Detroit, MI: Morgan Kaufmann.\n",
      "      -- CITRE was applied to 100-instance training and 200-instance test\n",
      "         sets.  In a study using various amounts of domain-specific\n",
      "         knowledge, its highest average accuracy was 76.7% (using the\n",
      "         final decision tree created for testing).\n",
      "\n",
      "   2. Matheus,~C.~J. (1990). Adding domain knowledge to SBL through\n",
      "      feature construction.  In {\\it Proceedings of the Eighth National\n",
      "      Conference on Artificial Intelligence} (pp. 803--808). \n",
      "      Boston, MA: AAAI Press.\n",
      "      -- Similar experiments with CITRE, includes learning curves up\n",
      "         to 500-instance training sets but used _all_ instances in the\n",
      "         database for testing.  Accuracies reached above 90%, but specific\n",
      "         values are not given (see Chris's dissertation for more details).\n",
      "\n",
      "   3. Aha,~D.~W. (1991). Incremental constructive induction: An instance-based\n",
      "      approach.  In {\\it Proceedings of the Eighth International Workshop\n",
      "      on Machine Learning} (pp. 117--121).  Evanston, ILL: Morgan Kaufmann.\n",
      "      -- Used 70% for training, 30% of the instances for testing, evaluated\n",
      "         over 10 trials.  Results reported for six algorithms:\n",
      "         -- NewID:   84.0%\n",
      "         -- CN2:     98.1%  \n",
      "         -- MBRtalk: 88.4%\n",
      "         -- IB1:     98.1% \n",
      "         -- IB3:     82.0%\n",
      "         -- IB3-CI:  99.1%\n",
      "      -- Results also reported when adding an additional 10 irrelevant \n",
      "         ternary-valued attributes; similar _relative_ results except that\n",
      "         IB1's performance degraded more quickly than the others.\n",
      "\n",
      "4. Relevant Information:\n",
      "\n",
      "   This database encodes the complete set of possible board configurations\n",
      "   at the end of tic-tac-toe games, where \"x\" is assumed to have played\n",
      "   first.  The target concept is \"win for x\" (i.e., true when \"x\" has one\n",
      "   of 8 possible ways to create a \"three-in-a-row\").  \n",
      "\n",
      "   Interestingly, this raw database gives a stripped-down decision tree\n",
      "   algorithm (e.g., ID3) fits.  However, the rule-based CN2 algorithm, the\n",
      "   simple IB1 instance-based learning algorithm, and the CITRE \n",
      "   feature-constructing decision tree algorithm perform well on it.\n",
      "\n",
      "5. Number of Instances: 958 (legal tic-tac-toe endgame boards)\n",
      "\n",
      "6. Number of Attributes: 9, each corresponding to one tic-tac-toe square\n",
      "\n",
      "7. Attribute Information: (x=player x has taken, o=player o has taken, b=blank)\n",
      "\n",
      "    1. top-left-square: {x,o,b}\n",
      "    2. top-middle-square: {x,o,b}\n",
      "    3. top-right-square: {x,o,b}\n",
      "    4. middle-left-square: {x,o,b}\n",
      "    5. middle-middle-square: {x,o,b}\n",
      "    6. middle-right-square: {x,o,b}\n",
      "    7. bottom-left-square: {x,o,b}\n",
      "    8. bottom-middle-square: {x,o,b}\n",
      "    9. bottom-right-square: {x,o,b}\n",
      "   10. Class: {positive,negative}\n",
      "\n",
      "8. Missing Attribute Values: None\n",
      "\n",
      "9. Class Distribution: About 65.3% are positive (i.e., wins for \"x\")\n",
      "\n"
     ]
    }
   ],
   "source": [
    "with open(\"tic-tac-toe.names\") as f:\n",
    "    print(f.read())"
   ]
  },
  {
   "cell_type": "markdown",
   "id": "92bfcdd8",
   "metadata": {},
   "source": [
    "Tic-tac-toe dataframe"
   ]
  },
  {
   "cell_type": "code",
   "execution_count": 752,
   "id": "f20370b5",
   "metadata": {},
   "outputs": [
    {
     "data": {
      "text/html": [
       "<div>\n",
       "<style scoped>\n",
       "    .dataframe tbody tr th:only-of-type {\n",
       "        vertical-align: middle;\n",
       "    }\n",
       "\n",
       "    .dataframe tbody tr th {\n",
       "        vertical-align: top;\n",
       "    }\n",
       "\n",
       "    .dataframe thead th {\n",
       "        text-align: right;\n",
       "    }\n",
       "</style>\n",
       "<table border=\"1\" class=\"dataframe\">\n",
       "  <thead>\n",
       "    <tr style=\"text-align: right;\">\n",
       "      <th></th>\n",
       "      <th>top-left-square</th>\n",
       "      <th>top-middle-square</th>\n",
       "      <th>top-right-square</th>\n",
       "      <th>middle-left-square</th>\n",
       "      <th>middle-middle-square</th>\n",
       "      <th>middle-right-square</th>\n",
       "      <th>bottom-left-square</th>\n",
       "      <th>bottom-middle-square</th>\n",
       "      <th>bottom-right-square</th>\n",
       "      <th>Class</th>\n",
       "    </tr>\n",
       "  </thead>\n",
       "  <tbody>\n",
       "    <tr>\n",
       "      <th>0</th>\n",
       "      <td>x</td>\n",
       "      <td>x</td>\n",
       "      <td>x</td>\n",
       "      <td>x</td>\n",
       "      <td>o</td>\n",
       "      <td>o</td>\n",
       "      <td>x</td>\n",
       "      <td>o</td>\n",
       "      <td>o</td>\n",
       "      <td>positive</td>\n",
       "    </tr>\n",
       "    <tr>\n",
       "      <th>1</th>\n",
       "      <td>x</td>\n",
       "      <td>x</td>\n",
       "      <td>x</td>\n",
       "      <td>x</td>\n",
       "      <td>o</td>\n",
       "      <td>o</td>\n",
       "      <td>o</td>\n",
       "      <td>x</td>\n",
       "      <td>o</td>\n",
       "      <td>positive</td>\n",
       "    </tr>\n",
       "    <tr>\n",
       "      <th>2</th>\n",
       "      <td>x</td>\n",
       "      <td>x</td>\n",
       "      <td>x</td>\n",
       "      <td>x</td>\n",
       "      <td>o</td>\n",
       "      <td>o</td>\n",
       "      <td>o</td>\n",
       "      <td>o</td>\n",
       "      <td>x</td>\n",
       "      <td>positive</td>\n",
       "    </tr>\n",
       "    <tr>\n",
       "      <th>3</th>\n",
       "      <td>x</td>\n",
       "      <td>x</td>\n",
       "      <td>x</td>\n",
       "      <td>x</td>\n",
       "      <td>o</td>\n",
       "      <td>o</td>\n",
       "      <td>o</td>\n",
       "      <td>b</td>\n",
       "      <td>b</td>\n",
       "      <td>positive</td>\n",
       "    </tr>\n",
       "    <tr>\n",
       "      <th>4</th>\n",
       "      <td>x</td>\n",
       "      <td>x</td>\n",
       "      <td>x</td>\n",
       "      <td>x</td>\n",
       "      <td>o</td>\n",
       "      <td>o</td>\n",
       "      <td>b</td>\n",
       "      <td>o</td>\n",
       "      <td>b</td>\n",
       "      <td>positive</td>\n",
       "    </tr>\n",
       "    <tr>\n",
       "      <th>...</th>\n",
       "      <td>...</td>\n",
       "      <td>...</td>\n",
       "      <td>...</td>\n",
       "      <td>...</td>\n",
       "      <td>...</td>\n",
       "      <td>...</td>\n",
       "      <td>...</td>\n",
       "      <td>...</td>\n",
       "      <td>...</td>\n",
       "      <td>...</td>\n",
       "    </tr>\n",
       "    <tr>\n",
       "      <th>953</th>\n",
       "      <td>o</td>\n",
       "      <td>x</td>\n",
       "      <td>x</td>\n",
       "      <td>x</td>\n",
       "      <td>o</td>\n",
       "      <td>o</td>\n",
       "      <td>o</td>\n",
       "      <td>x</td>\n",
       "      <td>x</td>\n",
       "      <td>negative</td>\n",
       "    </tr>\n",
       "    <tr>\n",
       "      <th>954</th>\n",
       "      <td>o</td>\n",
       "      <td>x</td>\n",
       "      <td>o</td>\n",
       "      <td>x</td>\n",
       "      <td>x</td>\n",
       "      <td>o</td>\n",
       "      <td>x</td>\n",
       "      <td>o</td>\n",
       "      <td>x</td>\n",
       "      <td>negative</td>\n",
       "    </tr>\n",
       "    <tr>\n",
       "      <th>955</th>\n",
       "      <td>o</td>\n",
       "      <td>x</td>\n",
       "      <td>o</td>\n",
       "      <td>x</td>\n",
       "      <td>o</td>\n",
       "      <td>x</td>\n",
       "      <td>x</td>\n",
       "      <td>o</td>\n",
       "      <td>x</td>\n",
       "      <td>negative</td>\n",
       "    </tr>\n",
       "    <tr>\n",
       "      <th>956</th>\n",
       "      <td>o</td>\n",
       "      <td>x</td>\n",
       "      <td>o</td>\n",
       "      <td>o</td>\n",
       "      <td>x</td>\n",
       "      <td>x</td>\n",
       "      <td>x</td>\n",
       "      <td>o</td>\n",
       "      <td>x</td>\n",
       "      <td>negative</td>\n",
       "    </tr>\n",
       "    <tr>\n",
       "      <th>957</th>\n",
       "      <td>o</td>\n",
       "      <td>o</td>\n",
       "      <td>x</td>\n",
       "      <td>x</td>\n",
       "      <td>x</td>\n",
       "      <td>o</td>\n",
       "      <td>o</td>\n",
       "      <td>x</td>\n",
       "      <td>x</td>\n",
       "      <td>negative</td>\n",
       "    </tr>\n",
       "  </tbody>\n",
       "</table>\n",
       "<p>958 rows × 10 columns</p>\n",
       "</div>"
      ],
      "text/plain": [
       "    top-left-square top-middle-square top-right-square middle-left-square  \\\n",
       "0                 x                 x                x                  x   \n",
       "1                 x                 x                x                  x   \n",
       "2                 x                 x                x                  x   \n",
       "3                 x                 x                x                  x   \n",
       "4                 x                 x                x                  x   \n",
       "..              ...               ...              ...                ...   \n",
       "953               o                 x                x                  x   \n",
       "954               o                 x                o                  x   \n",
       "955               o                 x                o                  x   \n",
       "956               o                 x                o                  o   \n",
       "957               o                 o                x                  x   \n",
       "\n",
       "    middle-middle-square middle-right-square bottom-left-square  \\\n",
       "0                      o                   o                  x   \n",
       "1                      o                   o                  o   \n",
       "2                      o                   o                  o   \n",
       "3                      o                   o                  o   \n",
       "4                      o                   o                  b   \n",
       "..                   ...                 ...                ...   \n",
       "953                    o                   o                  o   \n",
       "954                    x                   o                  x   \n",
       "955                    o                   x                  x   \n",
       "956                    x                   x                  x   \n",
       "957                    x                   o                  o   \n",
       "\n",
       "    bottom-middle-square bottom-right-square     Class  \n",
       "0                      o                   o  positive  \n",
       "1                      x                   o  positive  \n",
       "2                      o                   x  positive  \n",
       "3                      b                   b  positive  \n",
       "4                      o                   b  positive  \n",
       "..                   ...                 ...       ...  \n",
       "953                    x                   x  negative  \n",
       "954                    o                   x  negative  \n",
       "955                    o                   x  negative  \n",
       "956                    o                   x  negative  \n",
       "957                    x                   x  negative  \n",
       "\n",
       "[958 rows x 10 columns]"
      ]
     },
     "execution_count": 752,
     "metadata": {},
     "output_type": "execute_result"
    }
   ],
   "source": [
    "tic_tac = pd.read_csv(\"tic-tac-toe.data\", header = None, names = [\"top-left-square\", \"top-middle-square\", \"top-right-square\", \"middle-left-square\", \"middle-middle-square\", \"middle-right-square\", \"bottom-left-square\", \"bottom-middle-square\", \"bottom-right-square\", \"Class\"])\n",
    "tic_tac"
   ]
  },
  {
   "cell_type": "markdown",
   "id": "8553f182",
   "metadata": {},
   "source": [
    "Replacing the non-numerical values by numerical values using dictionary which has keys as the non-numerical entries and values as numerical entries assigned by us."
   ]
  },
  {
   "cell_type": "code",
   "execution_count": 753,
   "id": "12cc8c45",
   "metadata": {},
   "outputs": [
    {
     "data": {
      "text/html": [
       "<div>\n",
       "<style scoped>\n",
       "    .dataframe tbody tr th:only-of-type {\n",
       "        vertical-align: middle;\n",
       "    }\n",
       "\n",
       "    .dataframe tbody tr th {\n",
       "        vertical-align: top;\n",
       "    }\n",
       "\n",
       "    .dataframe thead th {\n",
       "        text-align: right;\n",
       "    }\n",
       "</style>\n",
       "<table border=\"1\" class=\"dataframe\">\n",
       "  <thead>\n",
       "    <tr style=\"text-align: right;\">\n",
       "      <th></th>\n",
       "      <th>top-left-square</th>\n",
       "      <th>top-middle-square</th>\n",
       "      <th>top-right-square</th>\n",
       "      <th>middle-left-square</th>\n",
       "      <th>middle-middle-square</th>\n",
       "      <th>middle-right-square</th>\n",
       "      <th>bottom-left-square</th>\n",
       "      <th>bottom-middle-square</th>\n",
       "      <th>bottom-right-square</th>\n",
       "      <th>Class</th>\n",
       "    </tr>\n",
       "  </thead>\n",
       "  <tbody>\n",
       "    <tr>\n",
       "      <th>0</th>\n",
       "      <td>3</td>\n",
       "      <td>3</td>\n",
       "      <td>3</td>\n",
       "      <td>3</td>\n",
       "      <td>4</td>\n",
       "      <td>4</td>\n",
       "      <td>3</td>\n",
       "      <td>4</td>\n",
       "      <td>4</td>\n",
       "      <td>1</td>\n",
       "    </tr>\n",
       "    <tr>\n",
       "      <th>1</th>\n",
       "      <td>3</td>\n",
       "      <td>3</td>\n",
       "      <td>3</td>\n",
       "      <td>3</td>\n",
       "      <td>4</td>\n",
       "      <td>4</td>\n",
       "      <td>4</td>\n",
       "      <td>3</td>\n",
       "      <td>4</td>\n",
       "      <td>1</td>\n",
       "    </tr>\n",
       "    <tr>\n",
       "      <th>2</th>\n",
       "      <td>3</td>\n",
       "      <td>3</td>\n",
       "      <td>3</td>\n",
       "      <td>3</td>\n",
       "      <td>4</td>\n",
       "      <td>4</td>\n",
       "      <td>4</td>\n",
       "      <td>4</td>\n",
       "      <td>3</td>\n",
       "      <td>1</td>\n",
       "    </tr>\n",
       "    <tr>\n",
       "      <th>3</th>\n",
       "      <td>3</td>\n",
       "      <td>3</td>\n",
       "      <td>3</td>\n",
       "      <td>3</td>\n",
       "      <td>4</td>\n",
       "      <td>4</td>\n",
       "      <td>4</td>\n",
       "      <td>5</td>\n",
       "      <td>5</td>\n",
       "      <td>1</td>\n",
       "    </tr>\n",
       "    <tr>\n",
       "      <th>4</th>\n",
       "      <td>3</td>\n",
       "      <td>3</td>\n",
       "      <td>3</td>\n",
       "      <td>3</td>\n",
       "      <td>4</td>\n",
       "      <td>4</td>\n",
       "      <td>5</td>\n",
       "      <td>4</td>\n",
       "      <td>5</td>\n",
       "      <td>1</td>\n",
       "    </tr>\n",
       "    <tr>\n",
       "      <th>...</th>\n",
       "      <td>...</td>\n",
       "      <td>...</td>\n",
       "      <td>...</td>\n",
       "      <td>...</td>\n",
       "      <td>...</td>\n",
       "      <td>...</td>\n",
       "      <td>...</td>\n",
       "      <td>...</td>\n",
       "      <td>...</td>\n",
       "      <td>...</td>\n",
       "    </tr>\n",
       "    <tr>\n",
       "      <th>953</th>\n",
       "      <td>4</td>\n",
       "      <td>3</td>\n",
       "      <td>3</td>\n",
       "      <td>3</td>\n",
       "      <td>4</td>\n",
       "      <td>4</td>\n",
       "      <td>4</td>\n",
       "      <td>3</td>\n",
       "      <td>3</td>\n",
       "      <td>2</td>\n",
       "    </tr>\n",
       "    <tr>\n",
       "      <th>954</th>\n",
       "      <td>4</td>\n",
       "      <td>3</td>\n",
       "      <td>4</td>\n",
       "      <td>3</td>\n",
       "      <td>3</td>\n",
       "      <td>4</td>\n",
       "      <td>3</td>\n",
       "      <td>4</td>\n",
       "      <td>3</td>\n",
       "      <td>2</td>\n",
       "    </tr>\n",
       "    <tr>\n",
       "      <th>955</th>\n",
       "      <td>4</td>\n",
       "      <td>3</td>\n",
       "      <td>4</td>\n",
       "      <td>3</td>\n",
       "      <td>4</td>\n",
       "      <td>3</td>\n",
       "      <td>3</td>\n",
       "      <td>4</td>\n",
       "      <td>3</td>\n",
       "      <td>2</td>\n",
       "    </tr>\n",
       "    <tr>\n",
       "      <th>956</th>\n",
       "      <td>4</td>\n",
       "      <td>3</td>\n",
       "      <td>4</td>\n",
       "      <td>4</td>\n",
       "      <td>3</td>\n",
       "      <td>3</td>\n",
       "      <td>3</td>\n",
       "      <td>4</td>\n",
       "      <td>3</td>\n",
       "      <td>2</td>\n",
       "    </tr>\n",
       "    <tr>\n",
       "      <th>957</th>\n",
       "      <td>4</td>\n",
       "      <td>4</td>\n",
       "      <td>3</td>\n",
       "      <td>3</td>\n",
       "      <td>3</td>\n",
       "      <td>4</td>\n",
       "      <td>4</td>\n",
       "      <td>3</td>\n",
       "      <td>3</td>\n",
       "      <td>2</td>\n",
       "    </tr>\n",
       "  </tbody>\n",
       "</table>\n",
       "<p>958 rows × 10 columns</p>\n",
       "</div>"
      ],
      "text/plain": [
       "     top-left-square  top-middle-square  top-right-square  middle-left-square  \\\n",
       "0                  3                  3                 3                   3   \n",
       "1                  3                  3                 3                   3   \n",
       "2                  3                  3                 3                   3   \n",
       "3                  3                  3                 3                   3   \n",
       "4                  3                  3                 3                   3   \n",
       "..               ...                ...               ...                 ...   \n",
       "953                4                  3                 3                   3   \n",
       "954                4                  3                 4                   3   \n",
       "955                4                  3                 4                   3   \n",
       "956                4                  3                 4                   4   \n",
       "957                4                  4                 3                   3   \n",
       "\n",
       "     middle-middle-square  middle-right-square  bottom-left-square  \\\n",
       "0                       4                    4                   3   \n",
       "1                       4                    4                   4   \n",
       "2                       4                    4                   4   \n",
       "3                       4                    4                   4   \n",
       "4                       4                    4                   5   \n",
       "..                    ...                  ...                 ...   \n",
       "953                     4                    4                   4   \n",
       "954                     3                    4                   3   \n",
       "955                     4                    3                   3   \n",
       "956                     3                    3                   3   \n",
       "957                     3                    4                   4   \n",
       "\n",
       "     bottom-middle-square  bottom-right-square  Class  \n",
       "0                       4                    4      1  \n",
       "1                       3                    4      1  \n",
       "2                       4                    3      1  \n",
       "3                       5                    5      1  \n",
       "4                       4                    5      1  \n",
       "..                    ...                  ...    ...  \n",
       "953                     3                    3      2  \n",
       "954                     4                    3      2  \n",
       "955                     4                    3      2  \n",
       "956                     4                    3      2  \n",
       "957                     3                    3      2  \n",
       "\n",
       "[958 rows x 10 columns]"
      ]
     },
     "execution_count": 753,
     "metadata": {},
     "output_type": "execute_result"
    }
   ],
   "source": [
    "values = {'x': 3, 'o': 4, 'b': 5, 'positive': 1, 'negative': 2}\n",
    "tic_tac_toe = tic_tac.replace(values)\n",
    "tic_tac_toe"
   ]
  },
  {
   "cell_type": "markdown",
   "id": "7f0acf1c",
   "metadata": {},
   "source": [
    "Calculating the percentage of Positive and negative values in our dataframe"
   ]
  },
  {
   "cell_type": "code",
   "execution_count": 754,
   "id": "c846481a",
   "metadata": {},
   "outputs": [],
   "source": [
    "p = ((tic_tac_toe[\"Class\"] == 1).sum()/len(tic_tac_toe))*100\n",
    "n = ((tic_tac_toe[\"Class\"] == 2).sum()/len(tic_tac_toe))*100"
   ]
  },
  {
   "cell_type": "code",
   "execution_count": 755,
   "id": "0d374580",
   "metadata": {},
   "outputs": [
    {
     "data": {
      "text/plain": [
       "65.34446764091858"
      ]
     },
     "execution_count": 755,
     "metadata": {},
     "output_type": "execute_result"
    }
   ],
   "source": [
    "p"
   ]
  },
  {
   "cell_type": "code",
   "execution_count": 250,
   "id": "3191509f",
   "metadata": {},
   "outputs": [
    {
     "data": {
      "text/plain": [
       "34.65553235908142"
      ]
     },
     "execution_count": 250,
     "metadata": {},
     "output_type": "execute_result"
    }
   ],
   "source": [
    "n"
   ]
  },
  {
   "cell_type": "markdown",
   "id": "939cbbe7",
   "metadata": {},
   "source": [
    "As we can see that the positive class outnumbers the negative class, therefore our dataset is unbalanced."
   ]
  },
  {
   "cell_type": "markdown",
   "id": "d5d67921",
   "metadata": {},
   "source": [
    "Sampling the data in a way such that the dominating class also occurs in a same fraction as the other one. To do this we sample our positive class by a fraction of (# negative class / # postive class)."
   ]
  },
  {
   "cell_type": "code",
   "execution_count": 760,
   "id": "aa434218",
   "metadata": {},
   "outputs": [],
   "source": [
    "f = n/p\n",
    "tic_tac_game1 = tic_tac_toe.query(\"Class == 1\").sample(frac = f)\n",
    "tic_tac_game2 = tic_tac_toe.query(\"Class == 2\")"
   ]
  },
  {
   "cell_type": "markdown",
   "id": "108dbb78",
   "metadata": {},
   "source": [
    "Combining the above two dataframes"
   ]
  },
  {
   "cell_type": "code",
   "execution_count": 761,
   "id": "0580258f",
   "metadata": {},
   "outputs": [],
   "source": [
    "frames = [tic_tac_game1, tic_tac_game2]\n",
    "tic_tac_game = pd.concat(frames)"
   ]
  },
  {
   "cell_type": "code",
   "execution_count": 762,
   "id": "3db0671c",
   "metadata": {},
   "outputs": [
    {
     "data": {
      "text/html": [
       "<div>\n",
       "<style scoped>\n",
       "    .dataframe tbody tr th:only-of-type {\n",
       "        vertical-align: middle;\n",
       "    }\n",
       "\n",
       "    .dataframe tbody tr th {\n",
       "        vertical-align: top;\n",
       "    }\n",
       "\n",
       "    .dataframe thead th {\n",
       "        text-align: right;\n",
       "    }\n",
       "</style>\n",
       "<table border=\"1\" class=\"dataframe\">\n",
       "  <thead>\n",
       "    <tr style=\"text-align: right;\">\n",
       "      <th></th>\n",
       "      <th>top-left-square</th>\n",
       "      <th>top-middle-square</th>\n",
       "      <th>top-right-square</th>\n",
       "      <th>middle-left-square</th>\n",
       "      <th>middle-middle-square</th>\n",
       "      <th>middle-right-square</th>\n",
       "      <th>bottom-left-square</th>\n",
       "      <th>bottom-middle-square</th>\n",
       "      <th>bottom-right-square</th>\n",
       "      <th>Class</th>\n",
       "    </tr>\n",
       "  </thead>\n",
       "  <tbody>\n",
       "    <tr>\n",
       "      <th>305</th>\n",
       "      <td>4</td>\n",
       "      <td>3</td>\n",
       "      <td>3</td>\n",
       "      <td>4</td>\n",
       "      <td>3</td>\n",
       "      <td>5</td>\n",
       "      <td>5</td>\n",
       "      <td>3</td>\n",
       "      <td>4</td>\n",
       "      <td>1</td>\n",
       "    </tr>\n",
       "    <tr>\n",
       "      <th>475</th>\n",
       "      <td>4</td>\n",
       "      <td>5</td>\n",
       "      <td>5</td>\n",
       "      <td>3</td>\n",
       "      <td>3</td>\n",
       "      <td>3</td>\n",
       "      <td>4</td>\n",
       "      <td>5</td>\n",
       "      <td>5</td>\n",
       "      <td>1</td>\n",
       "    </tr>\n",
       "    <tr>\n",
       "      <th>339</th>\n",
       "      <td>4</td>\n",
       "      <td>3</td>\n",
       "      <td>4</td>\n",
       "      <td>5</td>\n",
       "      <td>3</td>\n",
       "      <td>4</td>\n",
       "      <td>5</td>\n",
       "      <td>3</td>\n",
       "      <td>3</td>\n",
       "      <td>1</td>\n",
       "    </tr>\n",
       "    <tr>\n",
       "      <th>48</th>\n",
       "      <td>3</td>\n",
       "      <td>3</td>\n",
       "      <td>3</td>\n",
       "      <td>4</td>\n",
       "      <td>5</td>\n",
       "      <td>5</td>\n",
       "      <td>5</td>\n",
       "      <td>4</td>\n",
       "      <td>5</td>\n",
       "      <td>1</td>\n",
       "    </tr>\n",
       "    <tr>\n",
       "      <th>108</th>\n",
       "      <td>3</td>\n",
       "      <td>3</td>\n",
       "      <td>5</td>\n",
       "      <td>4</td>\n",
       "      <td>3</td>\n",
       "      <td>4</td>\n",
       "      <td>5</td>\n",
       "      <td>4</td>\n",
       "      <td>3</td>\n",
       "      <td>1</td>\n",
       "    </tr>\n",
       "    <tr>\n",
       "      <th>...</th>\n",
       "      <td>...</td>\n",
       "      <td>...</td>\n",
       "      <td>...</td>\n",
       "      <td>...</td>\n",
       "      <td>...</td>\n",
       "      <td>...</td>\n",
       "      <td>...</td>\n",
       "      <td>...</td>\n",
       "      <td>...</td>\n",
       "      <td>...</td>\n",
       "    </tr>\n",
       "    <tr>\n",
       "      <th>953</th>\n",
       "      <td>4</td>\n",
       "      <td>3</td>\n",
       "      <td>3</td>\n",
       "      <td>3</td>\n",
       "      <td>4</td>\n",
       "      <td>4</td>\n",
       "      <td>4</td>\n",
       "      <td>3</td>\n",
       "      <td>3</td>\n",
       "      <td>2</td>\n",
       "    </tr>\n",
       "    <tr>\n",
       "      <th>954</th>\n",
       "      <td>4</td>\n",
       "      <td>3</td>\n",
       "      <td>4</td>\n",
       "      <td>3</td>\n",
       "      <td>3</td>\n",
       "      <td>4</td>\n",
       "      <td>3</td>\n",
       "      <td>4</td>\n",
       "      <td>3</td>\n",
       "      <td>2</td>\n",
       "    </tr>\n",
       "    <tr>\n",
       "      <th>955</th>\n",
       "      <td>4</td>\n",
       "      <td>3</td>\n",
       "      <td>4</td>\n",
       "      <td>3</td>\n",
       "      <td>4</td>\n",
       "      <td>3</td>\n",
       "      <td>3</td>\n",
       "      <td>4</td>\n",
       "      <td>3</td>\n",
       "      <td>2</td>\n",
       "    </tr>\n",
       "    <tr>\n",
       "      <th>956</th>\n",
       "      <td>4</td>\n",
       "      <td>3</td>\n",
       "      <td>4</td>\n",
       "      <td>4</td>\n",
       "      <td>3</td>\n",
       "      <td>3</td>\n",
       "      <td>3</td>\n",
       "      <td>4</td>\n",
       "      <td>3</td>\n",
       "      <td>2</td>\n",
       "    </tr>\n",
       "    <tr>\n",
       "      <th>957</th>\n",
       "      <td>4</td>\n",
       "      <td>4</td>\n",
       "      <td>3</td>\n",
       "      <td>3</td>\n",
       "      <td>3</td>\n",
       "      <td>4</td>\n",
       "      <td>4</td>\n",
       "      <td>3</td>\n",
       "      <td>3</td>\n",
       "      <td>2</td>\n",
       "    </tr>\n",
       "  </tbody>\n",
       "</table>\n",
       "<p>664 rows × 10 columns</p>\n",
       "</div>"
      ],
      "text/plain": [
       "     top-left-square  top-middle-square  top-right-square  middle-left-square  \\\n",
       "305                4                  3                 3                   4   \n",
       "475                4                  5                 5                   3   \n",
       "339                4                  3                 4                   5   \n",
       "48                 3                  3                 3                   4   \n",
       "108                3                  3                 5                   4   \n",
       "..               ...                ...               ...                 ...   \n",
       "953                4                  3                 3                   3   \n",
       "954                4                  3                 4                   3   \n",
       "955                4                  3                 4                   3   \n",
       "956                4                  3                 4                   4   \n",
       "957                4                  4                 3                   3   \n",
       "\n",
       "     middle-middle-square  middle-right-square  bottom-left-square  \\\n",
       "305                     3                    5                   5   \n",
       "475                     3                    3                   4   \n",
       "339                     3                    4                   5   \n",
       "48                      5                    5                   5   \n",
       "108                     3                    4                   5   \n",
       "..                    ...                  ...                 ...   \n",
       "953                     4                    4                   4   \n",
       "954                     3                    4                   3   \n",
       "955                     4                    3                   3   \n",
       "956                     3                    3                   3   \n",
       "957                     3                    4                   4   \n",
       "\n",
       "     bottom-middle-square  bottom-right-square  Class  \n",
       "305                     3                    4      1  \n",
       "475                     5                    5      1  \n",
       "339                     3                    3      1  \n",
       "48                      4                    5      1  \n",
       "108                     4                    3      1  \n",
       "..                    ...                  ...    ...  \n",
       "953                     3                    3      2  \n",
       "954                     4                    3      2  \n",
       "955                     4                    3      2  \n",
       "956                     4                    3      2  \n",
       "957                     3                    3      2  \n",
       "\n",
       "[664 rows x 10 columns]"
      ]
     },
     "execution_count": 762,
     "metadata": {},
     "output_type": "execute_result"
    }
   ],
   "source": [
    "tic_tac_game"
   ]
  },
  {
   "cell_type": "markdown",
   "id": "7d62d60e",
   "metadata": {},
   "source": [
    "Reshuffling so that the positive and negative class values occurs randomly in the dataset."
   ]
  },
  {
   "cell_type": "code",
   "execution_count": 763,
   "id": "54036edc",
   "metadata": {},
   "outputs": [
    {
     "data": {
      "text/html": [
       "<div>\n",
       "<style scoped>\n",
       "    .dataframe tbody tr th:only-of-type {\n",
       "        vertical-align: middle;\n",
       "    }\n",
       "\n",
       "    .dataframe tbody tr th {\n",
       "        vertical-align: top;\n",
       "    }\n",
       "\n",
       "    .dataframe thead th {\n",
       "        text-align: right;\n",
       "    }\n",
       "</style>\n",
       "<table border=\"1\" class=\"dataframe\">\n",
       "  <thead>\n",
       "    <tr style=\"text-align: right;\">\n",
       "      <th></th>\n",
       "      <th>top-left-square</th>\n",
       "      <th>top-middle-square</th>\n",
       "      <th>top-right-square</th>\n",
       "      <th>middle-left-square</th>\n",
       "      <th>middle-middle-square</th>\n",
       "      <th>middle-right-square</th>\n",
       "      <th>bottom-left-square</th>\n",
       "      <th>bottom-middle-square</th>\n",
       "      <th>bottom-right-square</th>\n",
       "      <th>Class</th>\n",
       "    </tr>\n",
       "  </thead>\n",
       "  <tbody>\n",
       "    <tr>\n",
       "      <th>131</th>\n",
       "      <td>3</td>\n",
       "      <td>4</td>\n",
       "      <td>3</td>\n",
       "      <td>4</td>\n",
       "      <td>3</td>\n",
       "      <td>5</td>\n",
       "      <td>5</td>\n",
       "      <td>4</td>\n",
       "      <td>3</td>\n",
       "      <td>1</td>\n",
       "    </tr>\n",
       "    <tr>\n",
       "      <th>329</th>\n",
       "      <td>4</td>\n",
       "      <td>3</td>\n",
       "      <td>4</td>\n",
       "      <td>4</td>\n",
       "      <td>3</td>\n",
       "      <td>3</td>\n",
       "      <td>3</td>\n",
       "      <td>3</td>\n",
       "      <td>4</td>\n",
       "      <td>1</td>\n",
       "    </tr>\n",
       "    <tr>\n",
       "      <th>99</th>\n",
       "      <td>3</td>\n",
       "      <td>3</td>\n",
       "      <td>4</td>\n",
       "      <td>5</td>\n",
       "      <td>3</td>\n",
       "      <td>5</td>\n",
       "      <td>4</td>\n",
       "      <td>3</td>\n",
       "      <td>4</td>\n",
       "      <td>1</td>\n",
       "    </tr>\n",
       "    <tr>\n",
       "      <th>652</th>\n",
       "      <td>3</td>\n",
       "      <td>3</td>\n",
       "      <td>4</td>\n",
       "      <td>5</td>\n",
       "      <td>4</td>\n",
       "      <td>3</td>\n",
       "      <td>4</td>\n",
       "      <td>4</td>\n",
       "      <td>3</td>\n",
       "      <td>2</td>\n",
       "    </tr>\n",
       "    <tr>\n",
       "      <th>648</th>\n",
       "      <td>3</td>\n",
       "      <td>3</td>\n",
       "      <td>4</td>\n",
       "      <td>5</td>\n",
       "      <td>3</td>\n",
       "      <td>3</td>\n",
       "      <td>4</td>\n",
       "      <td>4</td>\n",
       "      <td>4</td>\n",
       "      <td>2</td>\n",
       "    </tr>\n",
       "    <tr>\n",
       "      <th>...</th>\n",
       "      <td>...</td>\n",
       "      <td>...</td>\n",
       "      <td>...</td>\n",
       "      <td>...</td>\n",
       "      <td>...</td>\n",
       "      <td>...</td>\n",
       "      <td>...</td>\n",
       "      <td>...</td>\n",
       "      <td>...</td>\n",
       "      <td>...</td>\n",
       "    </tr>\n",
       "    <tr>\n",
       "      <th>112</th>\n",
       "      <td>3</td>\n",
       "      <td>3</td>\n",
       "      <td>5</td>\n",
       "      <td>5</td>\n",
       "      <td>3</td>\n",
       "      <td>4</td>\n",
       "      <td>4</td>\n",
       "      <td>4</td>\n",
       "      <td>3</td>\n",
       "      <td>1</td>\n",
       "    </tr>\n",
       "    <tr>\n",
       "      <th>800</th>\n",
       "      <td>4</td>\n",
       "      <td>3</td>\n",
       "      <td>5</td>\n",
       "      <td>5</td>\n",
       "      <td>4</td>\n",
       "      <td>3</td>\n",
       "      <td>3</td>\n",
       "      <td>5</td>\n",
       "      <td>4</td>\n",
       "      <td>2</td>\n",
       "    </tr>\n",
       "    <tr>\n",
       "      <th>833</th>\n",
       "      <td>4</td>\n",
       "      <td>4</td>\n",
       "      <td>4</td>\n",
       "      <td>4</td>\n",
       "      <td>3</td>\n",
       "      <td>3</td>\n",
       "      <td>3</td>\n",
       "      <td>5</td>\n",
       "      <td>3</td>\n",
       "      <td>2</td>\n",
       "    </tr>\n",
       "    <tr>\n",
       "      <th>247</th>\n",
       "      <td>3</td>\n",
       "      <td>5</td>\n",
       "      <td>4</td>\n",
       "      <td>3</td>\n",
       "      <td>4</td>\n",
       "      <td>3</td>\n",
       "      <td>3</td>\n",
       "      <td>4</td>\n",
       "      <td>5</td>\n",
       "      <td>1</td>\n",
       "    </tr>\n",
       "    <tr>\n",
       "      <th>484</th>\n",
       "      <td>5</td>\n",
       "      <td>3</td>\n",
       "      <td>3</td>\n",
       "      <td>4</td>\n",
       "      <td>3</td>\n",
       "      <td>4</td>\n",
       "      <td>3</td>\n",
       "      <td>4</td>\n",
       "      <td>5</td>\n",
       "      <td>1</td>\n",
       "    </tr>\n",
       "  </tbody>\n",
       "</table>\n",
       "<p>664 rows × 10 columns</p>\n",
       "</div>"
      ],
      "text/plain": [
       "     top-left-square  top-middle-square  top-right-square  middle-left-square  \\\n",
       "131                3                  4                 3                   4   \n",
       "329                4                  3                 4                   4   \n",
       "99                 3                  3                 4                   5   \n",
       "652                3                  3                 4                   5   \n",
       "648                3                  3                 4                   5   \n",
       "..               ...                ...               ...                 ...   \n",
       "112                3                  3                 5                   5   \n",
       "800                4                  3                 5                   5   \n",
       "833                4                  4                 4                   4   \n",
       "247                3                  5                 4                   3   \n",
       "484                5                  3                 3                   4   \n",
       "\n",
       "     middle-middle-square  middle-right-square  bottom-left-square  \\\n",
       "131                     3                    5                   5   \n",
       "329                     3                    3                   3   \n",
       "99                      3                    5                   4   \n",
       "652                     4                    3                   4   \n",
       "648                     3                    3                   4   \n",
       "..                    ...                  ...                 ...   \n",
       "112                     3                    4                   4   \n",
       "800                     4                    3                   3   \n",
       "833                     3                    3                   3   \n",
       "247                     4                    3                   3   \n",
       "484                     3                    4                   3   \n",
       "\n",
       "     bottom-middle-square  bottom-right-square  Class  \n",
       "131                     4                    3      1  \n",
       "329                     3                    4      1  \n",
       "99                      3                    4      1  \n",
       "652                     4                    3      2  \n",
       "648                     4                    4      2  \n",
       "..                    ...                  ...    ...  \n",
       "112                     4                    3      1  \n",
       "800                     5                    4      2  \n",
       "833                     5                    3      2  \n",
       "247                     4                    5      1  \n",
       "484                     4                    5      1  \n",
       "\n",
       "[664 rows x 10 columns]"
      ]
     },
     "execution_count": 763,
     "metadata": {},
     "output_type": "execute_result"
    }
   ],
   "source": [
    "tic_tac_game = tic_tac_game.sample(frac = 1)\n",
    "tic_tac_game"
   ]
  },
  {
   "cell_type": "markdown",
   "id": "211fffd2",
   "metadata": {},
   "source": [
    "Spliting the data into training(8ß%) and test(20%)."
   ]
  },
  {
   "cell_type": "code",
   "execution_count": 764,
   "id": "7c3be6fd",
   "metadata": {},
   "outputs": [],
   "source": [
    "def split(file):\n",
    "    r, c = np.shape(file)\n",
    "    size = int(0.8*r)\n",
    "    train = file.iloc[0:size]\n",
    "    test = file.iloc[size :]\n",
    "    return train, test\n"
   ]
  },
  {
   "cell_type": "markdown",
   "id": "a4ce301e",
   "metadata": {},
   "source": [
    "# Exercise 1: Logistic Regression with Gradient Descent"
   ]
  },
  {
   "cell_type": "markdown",
   "id": "671d4a65",
   "metadata": {},
   "source": [
    "Sigmoid function is defined as below:-"
   ]
  },
  {
   "cell_type": "code",
   "execution_count": 765,
   "id": "b77dc617",
   "metadata": {},
   "outputs": [],
   "source": [
    "def sigmoid(X,beta):\n",
    "    sig = (1/(1 + np.exp(-(np.dot(X, beta))))).reshape(-1,1)\n",
    "    return sig"
   ]
  },
  {
   "cell_type": "markdown",
   "id": "c70362ad",
   "metadata": {},
   "source": [
    "Loglikelihood function returns the likelihood of the prediction with the given beta"
   ]
  },
  {
   "cell_type": "code",
   "execution_count": 767,
   "id": "d9b53c37",
   "metadata": {},
   "outputs": [],
   "source": [
    "def log_likelihood(X, Y, beta):\n",
    "    s = 0\n",
    "    for i in range(len(X)):\n",
    "        s += Y[i]*np.dot(X[i], beta) - np.log(1 + np.exp(np.dot(X[i], beta)))\n",
    "    return s[0]\n",
    "                                                              "
   ]
  },
  {
   "cell_type": "markdown",
   "id": "b22fe220",
   "metadata": {},
   "source": [
    "Gradient of the Loglikelihood is defined as below:-"
   ]
  },
  {
   "cell_type": "code",
   "execution_count": 769,
   "id": "f87b3e59",
   "metadata": {},
   "outputs": [],
   "source": [
    "def log_likelihood_grad(X, Y, beta):\n",
    "    return np.dot(X.T, np.subtract(Y , sigmoid(X, beta)))"
   ]
  },
  {
   "cell_type": "markdown",
   "id": "00f03d6d",
   "metadata": {},
   "source": [
    "Second order gradient (Hessian matrix) for the Loglikelihood function"
   ]
  },
  {
   "cell_type": "code",
   "execution_count": 885,
   "id": "0b418a8e",
   "metadata": {},
   "outputs": [],
   "source": [
    "def log_likelihood_grad_2(X, Y, beta):\n",
    "    m = len(X)\n",
    "    n = len(X[0])\n",
    "    grad = np.zeros(n)\n",
    "    f = np.zeros((m, 1))\n",
    "    H = np.zeros((n, n))\n",
    "    f = sigmoid(X, beta)   \n",
    "    I = np.ones((m, 1))\n",
    "    w = np.multiply(f, (I - f))\n",
    "    W = np.zeros((m, m), float)\n",
    "    np.fill_diagonal(W, w)\n",
    "    H = np.dot(np.dot(X.transpose(), W), X)\n",
    "    return H\n",
    "    "
   ]
  },
  {
   "cell_type": "markdown",
   "id": "e220dd9e",
   "metadata": {},
   "source": [
    "Bold Driver function to calculate step length for a given beta."
   ]
  },
  {
   "cell_type": "code",
   "execution_count": 772,
   "id": "af7dcea5",
   "metadata": {},
   "outputs": [],
   "source": [
    "def boldDriver(X, Y, beta, alpha_old, a, b):\n",
    "    alpha = alpha_old*a\n",
    "    m, n = np.shape(X)\n",
    "    beta_new = np.zeros((n,1))\n",
    "    beta_new = beta + alpha*(log_likelihood_grad(X, Y, beta))\n",
    "    while log_likelihood(X, Y, beta_new) - log_likelihood(X, Y, beta) <= 0:\n",
    "        beta = np.array(beta_new)\n",
    "        beta_new = beta + alpha*(log_likelihood_grad(X, Y, beta))\n",
    "        alpha = alpha*b\n",
    "    return alpha"
   ]
  },
  {
   "cell_type": "markdown",
   "id": "fd66866f",
   "metadata": {},
   "source": [
    "Gradient Ascent for the logistic regression to find beta such that the log likelihood is maximum at that beta."
   ]
  },
  {
   "cell_type": "code",
   "execution_count": 912,
   "id": "17e82bed",
   "metadata": {},
   "outputs": [],
   "source": [
    "def gradient_ascent(X, Y, X_t, Y_t, beta, i_max, epsilon, alpha_old, a, b):\n",
    "    m, n = np.shape(X)\n",
    "    beta_new = np.zeros((n, 1))\n",
    "    diff = np.zeros(i_max)\n",
    "    logLoss = np.zeros(i_max)\n",
    "    for k in range(i_max):\n",
    "        beta_new = beta + (boldDriver(X, Y, beta, alpha_old, a, b))*(log_likelihood_grad(X, Y, beta))\n",
    "        diff[k] = abs(log_likelihood(X, Y, beta) - log_likelihood(X, Y, beta_new))\n",
    "        logLoss[k] = log_likelihood(X_t, Y_t, beta)\n",
    "        if (abs(log_likelihood(X, Y, beta) - log_likelihood(X, Y, beta_new)) < epsilon):\n",
    "            return beta_new, diff, logLoss\n",
    "        else:\n",
    "            beta = np.array(beta_new)\n",
    "    return beta_new, diff, logLoss        \n",
    "        "
   ]
  },
  {
   "cell_type": "markdown",
   "id": "6607f92b",
   "metadata": {},
   "source": [
    "The Extract function takes the given dataframe and returns the training features, training target, test features and test target."
   ]
  },
  {
   "cell_type": "code",
   "execution_count": 776,
   "id": "edf6a921",
   "metadata": {},
   "outputs": [],
   "source": [
    "def Extract(f, col_name):\n",
    "    train, test = split(f)\n",
    "    r, c = np.shape(train)\n",
    "    x_train = train.loc[:, train.columns != col_name]\n",
    "    x_train = x_train.to_numpy()\n",
    "    bias_column1 = np.ones(shape=(r,1))\n",
    "    X_train = np.append(bias_column1,x_train,axis=1)\n",
    "    y_train = train.loc[:, train.columns == col_name]\n",
    "    Y_train = y_train.to_numpy()\n",
    "    k, l = np.shape(test)\n",
    "    x_test = test.loc[:, test.columns != col_name]\n",
    "    x_test = x_test.to_numpy()\n",
    "    bias_column2 = np.ones(shape=(k,1))\n",
    "    X_test = np.append(bias_column2,x_test,axis=1)\n",
    "    y_test = test.loc[:, test.columns == col_name]\n",
    "    Y_test = y_test.to_numpy()\n",
    "    return X_train, Y_train, X_test, Y_test"
   ]
  },
  {
   "cell_type": "code",
   "execution_count": 789,
   "id": "97ff6119",
   "metadata": {},
   "outputs": [],
   "source": [
    "tic_train_features, tic_train_target, tic_test_features, tic_test_target = Extract(tic_tac_game, \"Class\")"
   ]
  },
  {
   "cell_type": "markdown",
   "id": "9300df44",
   "metadata": {},
   "source": [
    "Calling gradient ascent on our tic-tac-toe dataset"
   ]
  },
  {
   "cell_type": "code",
   "execution_count": 913,
   "id": "5c9feb35",
   "metadata": {},
   "outputs": [],
   "source": [
    "rows, col = np.shape(tic_train_features)\n",
    "beta = np.zeros((col, 1))\n",
    "beta_lr, diff_lr, loss_lr = gradient_ascent(tic_train_features, tic_train_target, tic_test_features, tic_test_target, beta, 500, 10**(-3), 10**(-9), 1, 0.1)"
   ]
  },
  {
   "cell_type": "code",
   "execution_count": 914,
   "id": "1734c574",
   "metadata": {
    "scrolled": true
   },
   "outputs": [
    {
     "data": {
      "text/plain": [
       "array([[0.0002636 ],\n",
       "       [0.00099518],\n",
       "       [0.00100555],\n",
       "       [0.00099816],\n",
       "       [0.00100532],\n",
       "       [0.00100396],\n",
       "       [0.00100034],\n",
       "       [0.00101037],\n",
       "       [0.00100006],\n",
       "       [0.00100688]])"
      ]
     },
     "execution_count": 914,
     "metadata": {},
     "output_type": "execute_result"
    }
   ],
   "source": [
    "beta_lr"
   ]
  },
  {
   "cell_type": "code",
   "execution_count": 915,
   "id": "0dcc1684",
   "metadata": {},
   "outputs": [
    {
     "data": {
      "image/png": "[encoded data removed]",
      "text/plain": [
       "<Figure size 432x288 with 1 Axes>"
      ]
     },
     "metadata": {
      "needs_background": "light"
     },
     "output_type": "display_data"
    }
   ],
   "source": [
    "abs_diff_lr = diff_lr    \n",
    "plt.plot(abs_diff_lr)\n",
    "plt.ylabel('Absolute difference in loglikelihood')\n",
    "plt.show()"
   ]
  },
  {
   "cell_type": "markdown",
   "id": "53a05586",
   "metadata": {},
   "source": [
    "Our motive is to find such beta's such that the loglikelihood is maximum.\n",
    "As gradient ascent tends to find such beta's so with each iteration the new beta's improves our loglikelihood and hence in the beginning the absolute difference in loglikelihood is high and then slowly when we move towards the optimal beta's this difference is negligible and tends to zero.\n",
    "Thus the shape of our plot is a decreasing curve."
   ]
  },
  {
   "cell_type": "code",
   "execution_count": 916,
   "id": "0209db0a",
   "metadata": {},
   "outputs": [
    {
     "data": {
      "image/png": "[encoded data removed]",
      "text/plain": [
       "<Figure size 432x288 with 1 Axes>"
      ]
     },
     "metadata": {
      "needs_background": "light"
     },
     "output_type": "display_data"
    }
   ],
   "source": [
    "log_loss = loss_lr    \n",
    "plt.plot(log_loss)\n",
    "plt.ylabel('loglikelihood')\n",
    "plt.show()"
   ]
  },
  {
   "cell_type": "markdown",
   "id": "dadb6030",
   "metadata": {},
   "source": [
    "Our motive is to find such beta's such that the loglikelihood is maximum. As gradient ascent tends to find such beta's so with each iteration the new beta's improves our loglikelihood on the test data and hence the loglikelihood is increasing with each iteration. Thus the shape of our plot is an increasing curve."
   ]
  },
  {
   "cell_type": "markdown",
   "id": "225201d4",
   "metadata": {},
   "source": [
    "# Exercise 2: Implement Newton Algorithm for Logistic Regression"
   ]
  },
  {
   "cell_type": "markdown",
   "id": "d33745e1",
   "metadata": {},
   "source": [
    "Newton Algorithm for Logistic regression"
   ]
  },
  {
   "cell_type": "code",
   "execution_count": 917,
   "id": "e9e22a13",
   "metadata": {},
   "outputs": [],
   "source": [
    "def newton_maximize(X, Y, X_t, Y_t, beta, i_max, epsilon, alpha_old, a, b):\n",
    "    diff = np.zeros(i_max)\n",
    "    logLoss = np.zeros(i_max)    \n",
    "    for i in range(i_max):\n",
    "        g = log_likelihood_grad(X, Y, beta)\n",
    "        h = log_likelihood_grad_2(X, Y, beta)\n",
    "        beta_new = beta + (boldDriver(X, Y, beta, alpha_old, a, b))*(np.dot(np.linalg.inv(h), g))\n",
    "        diff[i] = abs(log_likelihood(X, Y, beta) - log_likelihood(X, Y, beta_new))\n",
    "        logLoss[i] = log_likelihood(X_t, Y_t, beta_new)\n",
    "        if (abs(log_likelihood(X, Y, beta) - log_likelihood(X, Y, beta_new)) < epsilon):\n",
    "            return beta_new, diff, logLoss\n",
    "        else:\n",
    "            beta = np.array(beta_new)\n",
    "    return beta_new, diff, logLoss        \n",
    "        "
   ]
  },
  {
   "cell_type": "markdown",
   "id": "0208b35c",
   "metadata": {},
   "source": [
    "In order to make this algorithm fast the step length has benn found using boldDriver algorithm."
   ]
  },
  {
   "cell_type": "code",
   "execution_count": 918,
   "id": "2f5b373b",
   "metadata": {},
   "outputs": [],
   "source": [
    "rows, col = np.shape(tic_train_features)\n",
    "beta = np.zeros((col, 1))\n",
    "beta_newton, diff_newton, loss_newton = newton_maximize(tic_train_features, tic_train_target, tic_test_features, tic_test_target, beta, 200, 10**(-3), 10**(-3), 1, 0.1)"
   ]
  },
  {
   "cell_type": "code",
   "execution_count": 919,
   "id": "b14975a8",
   "metadata": {},
   "outputs": [
    {
     "data": {
      "text/plain": [
       "array([[ 0.78185519],\n",
       "       [ 0.02933235],\n",
       "       [-0.04977814],\n",
       "       [ 0.01539165],\n",
       "       [-0.04181807],\n",
       "       [ 0.10300211],\n",
       "       [-0.04539716],\n",
       "       [ 0.03680058],\n",
       "       [-0.07273985],\n",
       "       [ 0.02467307]])"
      ]
     },
     "execution_count": 919,
     "metadata": {},
     "output_type": "execute_result"
    }
   ],
   "source": [
    "beta_newton"
   ]
  },
  {
   "cell_type": "code",
   "execution_count": 920,
   "id": "48485b87",
   "metadata": {},
   "outputs": [
    {
     "data": {
      "image/png": "[encoded data removed]",
      "text/plain": [
       "<Figure size 432x288 with 1 Axes>"
      ]
     },
     "metadata": {
      "needs_background": "light"
     },
     "output_type": "display_data"
    }
   ],
   "source": [
    "abs_diff_newton = diff_newton    \n",
    "plt.plot(abs_diff_newton)\n",
    "plt.ylabel('Absolute difference in loglikelihood')\n",
    "plt.show()"
   ]
  },
  {
   "cell_type": "markdown",
   "id": "1265b711",
   "metadata": {},
   "source": [
    "The absolute difference between loglikelihood at old and new beta tend to decrease as the number of iteration increase since we need to stop at a beta such that the lohlikelihood doesn't increase anymore after optimal beta has been found. This can be seen in the plot, as the number of iterations is increasing the difference is decreasing and hence algorithm works fine."
   ]
  },
  {
   "cell_type": "code",
   "execution_count": 921,
   "id": "44272986",
   "metadata": {},
   "outputs": [
    {
     "data": {
      "image/png": "[encoded data removed]",
      "text/plain": [
       "<Figure size 432x288 with 1 Axes>"
      ]
     },
     "metadata": {
      "needs_background": "light"
     },
     "output_type": "display_data"
    }
   ],
   "source": [
    "log_loss_newton = loss_newton    \n",
    "plt.plot(loss_newton)\n",
    "plt.ylabel('loglikelihood')\n",
    "plt.show()"
   ]
  },
  {
   "cell_type": "markdown",
   "id": "4166d103",
   "metadata": {},
   "source": [
    "The loglikelihood at each new beta tend to increase as the number of iteration increase since our goal is to find such beta's that maximizes loglikelihood function. This can be seen in the plot, as the number of iterations is increasing the loglikelihood on the test data is increasing and hence algorithm works fine."
   ]
  }
 ],
 "metadata": {
  "kernelspec": {
   "display_name": "Python 3 (ipykernel)",
   "language": "python",
   "name": "python3"
  },
  "language_info": {
   "codemirror_mode": {
    "name": "ipython",
    "version": 3
   },
   "file_extension": ".py",
   "mimetype": "text/x-python",
   "name": "python",
   "nbconvert_exporter": "python",
   "pygments_lexer": "ipython3",
   "version": "3.9.7"
  }
 },
 "nbformat": 4,
 "nbformat_minor": 5
}
