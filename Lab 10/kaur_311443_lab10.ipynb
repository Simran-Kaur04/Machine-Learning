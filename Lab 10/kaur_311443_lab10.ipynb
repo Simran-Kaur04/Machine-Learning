{
 "cells": [
  {
   "cell_type": "markdown",
   "id": "6b43f850",
   "metadata": {},
   "source": [
    "# Machine Learning Lab 10\n",
    "\n",
    "# Simran Kaur\n",
    "\n",
    "# 311443\n",
    "\n",
    "# Group 2"
   ]
  },
  {
   "cell_type": "markdown",
   "id": "37fc3f64",
   "metadata": {},
   "source": [
    "# Exercise 1: Exploring Movie Recommendation Dataset"
   ]
  },
  {
   "cell_type": "code",
   "execution_count": 158,
   "id": "4c647e9e",
   "metadata": {},
   "outputs": [],
   "source": [
    "import pandas as pd\n",
    "import numpy as np\n",
    "import random\n",
    "import warnings"
   ]
  },
  {
   "cell_type": "markdown",
   "id": "9e3e04d9",
   "metadata": {},
   "source": [
    "Dataset containing the ratings given by all user's to the movies. It is not neccessary that every movie is rated by every user."
   ]
  },
  {
   "cell_type": "code",
   "execution_count": 2,
   "id": "2c10ae61",
   "metadata": {},
   "outputs": [
    {
     "data": {
      "text/html": [
       "<div>\n",
       "<style scoped>\n",
       "    .dataframe tbody tr th:only-of-type {\n",
       "        vertical-align: middle;\n",
       "    }\n",
       "\n",
       "    .dataframe tbody tr th {\n",
       "        vertical-align: top;\n",
       "    }\n",
       "\n",
       "    .dataframe thead th {\n",
       "        text-align: right;\n",
       "    }\n",
       "</style>\n",
       "<table border=\"1\" class=\"dataframe\">\n",
       "  <thead>\n",
       "    <tr style=\"text-align: right;\">\n",
       "      <th></th>\n",
       "      <th>user_id</th>\n",
       "      <th>item_id</th>\n",
       "      <th>rating</th>\n",
       "      <th>timestamp</th>\n",
       "    </tr>\n",
       "  </thead>\n",
       "  <tbody>\n",
       "    <tr>\n",
       "      <th>0</th>\n",
       "      <td>196</td>\n",
       "      <td>242</td>\n",
       "      <td>3</td>\n",
       "      <td>881250949</td>\n",
       "    </tr>\n",
       "    <tr>\n",
       "      <th>1</th>\n",
       "      <td>186</td>\n",
       "      <td>302</td>\n",
       "      <td>3</td>\n",
       "      <td>891717742</td>\n",
       "    </tr>\n",
       "    <tr>\n",
       "      <th>2</th>\n",
       "      <td>22</td>\n",
       "      <td>377</td>\n",
       "      <td>1</td>\n",
       "      <td>878887116</td>\n",
       "    </tr>\n",
       "    <tr>\n",
       "      <th>3</th>\n",
       "      <td>244</td>\n",
       "      <td>51</td>\n",
       "      <td>2</td>\n",
       "      <td>880606923</td>\n",
       "    </tr>\n",
       "    <tr>\n",
       "      <th>4</th>\n",
       "      <td>166</td>\n",
       "      <td>346</td>\n",
       "      <td>1</td>\n",
       "      <td>886397596</td>\n",
       "    </tr>\n",
       "    <tr>\n",
       "      <th>...</th>\n",
       "      <td>...</td>\n",
       "      <td>...</td>\n",
       "      <td>...</td>\n",
       "      <td>...</td>\n",
       "    </tr>\n",
       "    <tr>\n",
       "      <th>99995</th>\n",
       "      <td>880</td>\n",
       "      <td>476</td>\n",
       "      <td>3</td>\n",
       "      <td>880175444</td>\n",
       "    </tr>\n",
       "    <tr>\n",
       "      <th>99996</th>\n",
       "      <td>716</td>\n",
       "      <td>204</td>\n",
       "      <td>5</td>\n",
       "      <td>879795543</td>\n",
       "    </tr>\n",
       "    <tr>\n",
       "      <th>99997</th>\n",
       "      <td>276</td>\n",
       "      <td>1090</td>\n",
       "      <td>1</td>\n",
       "      <td>874795795</td>\n",
       "    </tr>\n",
       "    <tr>\n",
       "      <th>99998</th>\n",
       "      <td>13</td>\n",
       "      <td>225</td>\n",
       "      <td>2</td>\n",
       "      <td>882399156</td>\n",
       "    </tr>\n",
       "    <tr>\n",
       "      <th>99999</th>\n",
       "      <td>12</td>\n",
       "      <td>203</td>\n",
       "      <td>3</td>\n",
       "      <td>879959583</td>\n",
       "    </tr>\n",
       "  </tbody>\n",
       "</table>\n",
       "<p>100000 rows × 4 columns</p>\n",
       "</div>"
      ],
      "text/plain": [
       "       user_id  item_id  rating  timestamp\n",
       "0          196      242       3  881250949\n",
       "1          186      302       3  891717742\n",
       "2           22      377       1  878887116\n",
       "3          244       51       2  880606923\n",
       "4          166      346       1  886397596\n",
       "...        ...      ...     ...        ...\n",
       "99995      880      476       3  880175444\n",
       "99996      716      204       5  879795543\n",
       "99997      276     1090       1  874795795\n",
       "99998       13      225       2  882399156\n",
       "99999       12      203       3  879959583\n",
       "\n",
       "[100000 rows x 4 columns]"
      ]
     },
     "execution_count": 2,
     "metadata": {},
     "output_type": "execute_result"
    }
   ],
   "source": [
    "rating_data = pd.read_csv('u.data', sep = '\\t', header = None)\n",
    "rating_data.columns = ['user_id', 'item_id', 'rating', 'timestamp']\n",
    "rating_data"
   ]
  },
  {
   "cell_type": "markdown",
   "id": "4686c423",
   "metadata": {},
   "source": [
    "Showcase how the ratings vary across users, as an example consider whether the plot is able to tell if\n",
    "most ratings are only from a handful of users."
   ]
  },
  {
   "cell_type": "code",
   "execution_count": 135,
   "id": "8e8ce46b",
   "metadata": {},
   "outputs": [
    {
     "data": {
      "text/html": [
       "<div>\n",
       "<style scoped>\n",
       "    .dataframe tbody tr th:only-of-type {\n",
       "        vertical-align: middle;\n",
       "    }\n",
       "\n",
       "    .dataframe tbody tr th {\n",
       "        vertical-align: top;\n",
       "    }\n",
       "\n",
       "    .dataframe thead th {\n",
       "        text-align: right;\n",
       "    }\n",
       "</style>\n",
       "<table border=\"1\" class=\"dataframe\">\n",
       "  <thead>\n",
       "    <tr style=\"text-align: right;\">\n",
       "      <th></th>\n",
       "      <th>User id</th>\n",
       "      <th>Number of ratings</th>\n",
       "    </tr>\n",
       "  </thead>\n",
       "  <tbody>\n",
       "    <tr>\n",
       "      <th>0</th>\n",
       "      <td>405</td>\n",
       "      <td>737</td>\n",
       "    </tr>\n",
       "    <tr>\n",
       "      <th>1</th>\n",
       "      <td>655</td>\n",
       "      <td>685</td>\n",
       "    </tr>\n",
       "    <tr>\n",
       "      <th>2</th>\n",
       "      <td>13</td>\n",
       "      <td>636</td>\n",
       "    </tr>\n",
       "    <tr>\n",
       "      <th>3</th>\n",
       "      <td>450</td>\n",
       "      <td>540</td>\n",
       "    </tr>\n",
       "    <tr>\n",
       "      <th>4</th>\n",
       "      <td>276</td>\n",
       "      <td>518</td>\n",
       "    </tr>\n",
       "    <tr>\n",
       "      <th>5</th>\n",
       "      <td>416</td>\n",
       "      <td>493</td>\n",
       "    </tr>\n",
       "    <tr>\n",
       "      <th>6</th>\n",
       "      <td>537</td>\n",
       "      <td>490</td>\n",
       "    </tr>\n",
       "    <tr>\n",
       "      <th>7</th>\n",
       "      <td>303</td>\n",
       "      <td>484</td>\n",
       "    </tr>\n",
       "    <tr>\n",
       "      <th>8</th>\n",
       "      <td>234</td>\n",
       "      <td>480</td>\n",
       "    </tr>\n",
       "    <tr>\n",
       "      <th>9</th>\n",
       "      <td>393</td>\n",
       "      <td>448</td>\n",
       "    </tr>\n",
       "  </tbody>\n",
       "</table>\n",
       "</div>"
      ],
      "text/plain": [
       "   User id  Number of ratings\n",
       "0      405                737\n",
       "1      655                685\n",
       "2       13                636\n",
       "3      450                540\n",
       "4      276                518\n",
       "5      416                493\n",
       "6      537                490\n",
       "7      303                484\n",
       "8      234                480\n",
       "9      393                448"
      ]
     },
     "execution_count": 135,
     "metadata": {},
     "output_type": "execute_result"
    }
   ],
   "source": [
    "ratings_users = dict(rating_data['user_id'].value_counts())\n",
    "pd.DataFrame(data = {'User id' : ratings_users.keys(), 'Number of ratings': ratings_users.values()}).head(10)"
   ]
  },
  {
   "cell_type": "code",
   "execution_count": 4,
   "id": "03f3b95e",
   "metadata": {},
   "outputs": [
    {
     "data": {
      "image/png": "[encoded data removed]",
      "text/plain": [
       "<Figure size 1080x720 with 1 Axes>"
      ]
     },
     "metadata": {
      "needs_background": "light"
     },
     "output_type": "display_data"
    }
   ],
   "source": [
    "import matplotlib.pyplot as plt\n",
    "\n",
    "plt.figure(figsize=(15,10))\n",
    "\n",
    "r_u = sorted(ratings_users.items())\n",
    "\n",
    "x, y = zip(*r_u) # unpack a list of pairs into two tuples\n",
    "\n",
    "plt.bar(x, y)\n",
    "plt.xlabel('User Id')\n",
    "plt.ylabel('Number of movies rated by user')\n",
    "plt.show()"
   ]
  },
  {
   "cell_type": "markdown",
   "id": "08168067",
   "metadata": {},
   "source": [
    "We have a total of 943 users who has to rate 1682 movies. From the plot one thing that can be seen instantly is that not even one user has rated even half of the movies.\n",
    "\n",
    "From the plot, We can clearly see that most of the users have rated less number of movies and only few users have rated much of the movies."
   ]
  },
  {
   "cell_type": "markdown",
   "id": "08c212dd",
   "metadata": {},
   "source": [
    "Showcase how the ratings vary across items."
   ]
  },
  {
   "cell_type": "code",
   "execution_count": 137,
   "id": "abb3fe15",
   "metadata": {},
   "outputs": [
    {
     "data": {
      "text/html": [
       "<div>\n",
       "<style scoped>\n",
       "    .dataframe tbody tr th:only-of-type {\n",
       "        vertical-align: middle;\n",
       "    }\n",
       "\n",
       "    .dataframe tbody tr th {\n",
       "        vertical-align: top;\n",
       "    }\n",
       "\n",
       "    .dataframe thead th {\n",
       "        text-align: right;\n",
       "    }\n",
       "</style>\n",
       "<table border=\"1\" class=\"dataframe\">\n",
       "  <thead>\n",
       "    <tr style=\"text-align: right;\">\n",
       "      <th></th>\n",
       "      <th>movie id</th>\n",
       "      <th>Number of users who rated</th>\n",
       "    </tr>\n",
       "  </thead>\n",
       "  <tbody>\n",
       "    <tr>\n",
       "      <th>0</th>\n",
       "      <td>50</td>\n",
       "      <td>583</td>\n",
       "    </tr>\n",
       "    <tr>\n",
       "      <th>1</th>\n",
       "      <td>258</td>\n",
       "      <td>509</td>\n",
       "    </tr>\n",
       "    <tr>\n",
       "      <th>2</th>\n",
       "      <td>100</td>\n",
       "      <td>508</td>\n",
       "    </tr>\n",
       "    <tr>\n",
       "      <th>3</th>\n",
       "      <td>181</td>\n",
       "      <td>507</td>\n",
       "    </tr>\n",
       "    <tr>\n",
       "      <th>4</th>\n",
       "      <td>294</td>\n",
       "      <td>485</td>\n",
       "    </tr>\n",
       "    <tr>\n",
       "      <th>5</th>\n",
       "      <td>286</td>\n",
       "      <td>481</td>\n",
       "    </tr>\n",
       "    <tr>\n",
       "      <th>6</th>\n",
       "      <td>288</td>\n",
       "      <td>478</td>\n",
       "    </tr>\n",
       "    <tr>\n",
       "      <th>7</th>\n",
       "      <td>1</td>\n",
       "      <td>452</td>\n",
       "    </tr>\n",
       "    <tr>\n",
       "      <th>8</th>\n",
       "      <td>300</td>\n",
       "      <td>431</td>\n",
       "    </tr>\n",
       "    <tr>\n",
       "      <th>9</th>\n",
       "      <td>121</td>\n",
       "      <td>429</td>\n",
       "    </tr>\n",
       "  </tbody>\n",
       "</table>\n",
       "</div>"
      ],
      "text/plain": [
       "   movie id  Number of users who rated \n",
       "0        50                         583\n",
       "1       258                         509\n",
       "2       100                         508\n",
       "3       181                         507\n",
       "4       294                         485\n",
       "5       286                         481\n",
       "6       288                         478\n",
       "7         1                         452\n",
       "8       300                         431\n",
       "9       121                         429"
      ]
     },
     "execution_count": 137,
     "metadata": {},
     "output_type": "execute_result"
    }
   ],
   "source": [
    "ratings_items = dict(rating_data['item_id'].value_counts())\n",
    "pd.DataFrame(data = {'movie id' : ratings_items.keys(), 'Number of users who rated ': ratings_items.values()}).head(10)"
   ]
  },
  {
   "cell_type": "code",
   "execution_count": 6,
   "id": "fe03e911",
   "metadata": {},
   "outputs": [
    {
     "data": {
      "image/png": "[encoded data removed]",
      "text/plain": [
       "<Figure size 1080x720 with 1 Axes>"
      ]
     },
     "metadata": {
      "needs_background": "light"
     },
     "output_type": "display_data"
    }
   ],
   "source": [
    "plt.figure(figsize=(15,10))\n",
    "r_i = sorted(ratings_items.items()) \n",
    "\n",
    "u, v = zip(*r_i) # unpack a list of pairs into two tuples\n",
    "\n",
    "plt.bar(u, v)\n",
    "plt.xlabel('Movie Id')\n",
    "plt.ylabel('Number of users who rated the movie')\n",
    "plt.show()"
   ]
  },
  {
   "cell_type": "markdown",
   "id": "3396ca60",
   "metadata": {},
   "source": [
    "From the plot, We can clearly see that most of the movies are rated by less number of users and only few movies are rated by much of the users."
   ]
  },
  {
   "cell_type": "markdown",
   "id": "58333d0e",
   "metadata": {},
   "source": [
    "Are there genres that are more highly rated than others?"
   ]
  },
  {
   "cell_type": "markdown",
   "id": "c1d76608",
   "metadata": {},
   "source": [
    "Firstly Collected all the movies that have recieved 5 rating."
   ]
  },
  {
   "cell_type": "code",
   "execution_count": 145,
   "id": "3a86dfbf",
   "metadata": {},
   "outputs": [],
   "source": [
    "genre_data = pd.read_csv('u.item', sep = '|', header = None, encoding='latin-1')\n",
    "# rating_data.columns = ['user id', 'item id', 'rating', 'timestamp']\n",
    "genre_data.columns = [\"movie id\", \"movie title\", \"release date\", \"video release date\",\n",
    "                      \"IMDb URL\", \"unknown\", \"Action\", \"Adventure\", \"Animation\",\n",
    "              \"Children's\", \"Comedy\", \"Crime\", \"Documentary\", \"Drama\", \"Fantasy\",\n",
    "              \"Film-Noir\", \"Horror\", \"Musical\", \"Mystery\", \"Romance\", \"Sci-Fi\",\n",
    "              \"Thriller\", \"War\", \"Western\"]"
   ]
  },
  {
   "cell_type": "code",
   "execution_count": 138,
   "id": "086da04e",
   "metadata": {},
   "outputs": [],
   "source": [
    "movies5rating = list(rating_data['item_id'].loc[rating_data['rating'] == 5].unique())"
   ]
  },
  {
   "cell_type": "code",
   "execution_count": 9,
   "id": "8368241e",
   "metadata": {},
   "outputs": [
    {
     "data": {
      "text/html": [
       "<div>\n",
       "<style scoped>\n",
       "    .dataframe tbody tr th:only-of-type {\n",
       "        vertical-align: middle;\n",
       "    }\n",
       "\n",
       "    .dataframe tbody tr th {\n",
       "        vertical-align: top;\n",
       "    }\n",
       "\n",
       "    .dataframe thead th {\n",
       "        text-align: right;\n",
       "    }\n",
       "</style>\n",
       "<table border=\"1\" class=\"dataframe\">\n",
       "  <thead>\n",
       "    <tr style=\"text-align: right;\">\n",
       "      <th></th>\n",
       "      <th>user_id</th>\n",
       "      <th>item_id</th>\n",
       "      <th>rating</th>\n",
       "      <th>timestamp</th>\n",
       "      <th>movie id</th>\n",
       "      <th>movie title</th>\n",
       "      <th>release date</th>\n",
       "      <th>video release date</th>\n",
       "      <th>IMDb URL</th>\n",
       "      <th>unknown</th>\n",
       "      <th>...</th>\n",
       "      <th>Fantasy</th>\n",
       "      <th>Film-Noir</th>\n",
       "      <th>Horror</th>\n",
       "      <th>Musical</th>\n",
       "      <th>Mystery</th>\n",
       "      <th>Romance</th>\n",
       "      <th>Sci-Fi</th>\n",
       "      <th>Thriller</th>\n",
       "      <th>War</th>\n",
       "      <th>Western</th>\n",
       "    </tr>\n",
       "  </thead>\n",
       "  <tbody>\n",
       "    <tr>\n",
       "      <th>0</th>\n",
       "      <td>196</td>\n",
       "      <td>242</td>\n",
       "      <td>3</td>\n",
       "      <td>881250949</td>\n",
       "      <td>242</td>\n",
       "      <td>Kolya (1996)</td>\n",
       "      <td>24-Jan-1997</td>\n",
       "      <td>NaN</td>\n",
       "      <td>http://us.imdb.com/M/title-exact?Kolya%20(1996)</td>\n",
       "      <td>0</td>\n",
       "      <td>...</td>\n",
       "      <td>0</td>\n",
       "      <td>0</td>\n",
       "      <td>0</td>\n",
       "      <td>0</td>\n",
       "      <td>0</td>\n",
       "      <td>0</td>\n",
       "      <td>0</td>\n",
       "      <td>0</td>\n",
       "      <td>0</td>\n",
       "      <td>0</td>\n",
       "    </tr>\n",
       "    <tr>\n",
       "      <th>1</th>\n",
       "      <td>63</td>\n",
       "      <td>242</td>\n",
       "      <td>3</td>\n",
       "      <td>875747190</td>\n",
       "      <td>242</td>\n",
       "      <td>Kolya (1996)</td>\n",
       "      <td>24-Jan-1997</td>\n",
       "      <td>NaN</td>\n",
       "      <td>http://us.imdb.com/M/title-exact?Kolya%20(1996)</td>\n",
       "      <td>0</td>\n",
       "      <td>...</td>\n",
       "      <td>0</td>\n",
       "      <td>0</td>\n",
       "      <td>0</td>\n",
       "      <td>0</td>\n",
       "      <td>0</td>\n",
       "      <td>0</td>\n",
       "      <td>0</td>\n",
       "      <td>0</td>\n",
       "      <td>0</td>\n",
       "      <td>0</td>\n",
       "    </tr>\n",
       "    <tr>\n",
       "      <th>2</th>\n",
       "      <td>226</td>\n",
       "      <td>242</td>\n",
       "      <td>5</td>\n",
       "      <td>883888671</td>\n",
       "      <td>242</td>\n",
       "      <td>Kolya (1996)</td>\n",
       "      <td>24-Jan-1997</td>\n",
       "      <td>NaN</td>\n",
       "      <td>http://us.imdb.com/M/title-exact?Kolya%20(1996)</td>\n",
       "      <td>0</td>\n",
       "      <td>...</td>\n",
       "      <td>0</td>\n",
       "      <td>0</td>\n",
       "      <td>0</td>\n",
       "      <td>0</td>\n",
       "      <td>0</td>\n",
       "      <td>0</td>\n",
       "      <td>0</td>\n",
       "      <td>0</td>\n",
       "      <td>0</td>\n",
       "      <td>0</td>\n",
       "    </tr>\n",
       "    <tr>\n",
       "      <th>3</th>\n",
       "      <td>154</td>\n",
       "      <td>242</td>\n",
       "      <td>3</td>\n",
       "      <td>879138235</td>\n",
       "      <td>242</td>\n",
       "      <td>Kolya (1996)</td>\n",
       "      <td>24-Jan-1997</td>\n",
       "      <td>NaN</td>\n",
       "      <td>http://us.imdb.com/M/title-exact?Kolya%20(1996)</td>\n",
       "      <td>0</td>\n",
       "      <td>...</td>\n",
       "      <td>0</td>\n",
       "      <td>0</td>\n",
       "      <td>0</td>\n",
       "      <td>0</td>\n",
       "      <td>0</td>\n",
       "      <td>0</td>\n",
       "      <td>0</td>\n",
       "      <td>0</td>\n",
       "      <td>0</td>\n",
       "      <td>0</td>\n",
       "    </tr>\n",
       "    <tr>\n",
       "      <th>4</th>\n",
       "      <td>306</td>\n",
       "      <td>242</td>\n",
       "      <td>5</td>\n",
       "      <td>876503793</td>\n",
       "      <td>242</td>\n",
       "      <td>Kolya (1996)</td>\n",
       "      <td>24-Jan-1997</td>\n",
       "      <td>NaN</td>\n",
       "      <td>http://us.imdb.com/M/title-exact?Kolya%20(1996)</td>\n",
       "      <td>0</td>\n",
       "      <td>...</td>\n",
       "      <td>0</td>\n",
       "      <td>0</td>\n",
       "      <td>0</td>\n",
       "      <td>0</td>\n",
       "      <td>0</td>\n",
       "      <td>0</td>\n",
       "      <td>0</td>\n",
       "      <td>0</td>\n",
       "      <td>0</td>\n",
       "      <td>0</td>\n",
       "    </tr>\n",
       "    <tr>\n",
       "      <th>...</th>\n",
       "      <td>...</td>\n",
       "      <td>...</td>\n",
       "      <td>...</td>\n",
       "      <td>...</td>\n",
       "      <td>...</td>\n",
       "      <td>...</td>\n",
       "      <td>...</td>\n",
       "      <td>...</td>\n",
       "      <td>...</td>\n",
       "      <td>...</td>\n",
       "      <td>...</td>\n",
       "      <td>...</td>\n",
       "      <td>...</td>\n",
       "      <td>...</td>\n",
       "      <td>...</td>\n",
       "      <td>...</td>\n",
       "      <td>...</td>\n",
       "      <td>...</td>\n",
       "      <td>...</td>\n",
       "      <td>...</td>\n",
       "      <td>...</td>\n",
       "    </tr>\n",
       "    <tr>\n",
       "      <th>99995</th>\n",
       "      <td>840</td>\n",
       "      <td>1674</td>\n",
       "      <td>4</td>\n",
       "      <td>891211682</td>\n",
       "      <td>1674</td>\n",
       "      <td>Mamma Roma (1962)</td>\n",
       "      <td>01-Jan-1962</td>\n",
       "      <td>NaN</td>\n",
       "      <td>http://us.imdb.com/M/title-exact?Mamma%20Roma%...</td>\n",
       "      <td>0</td>\n",
       "      <td>...</td>\n",
       "      <td>0</td>\n",
       "      <td>0</td>\n",
       "      <td>0</td>\n",
       "      <td>0</td>\n",
       "      <td>0</td>\n",
       "      <td>0</td>\n",
       "      <td>0</td>\n",
       "      <td>0</td>\n",
       "      <td>0</td>\n",
       "      <td>0</td>\n",
       "    </tr>\n",
       "    <tr>\n",
       "      <th>99996</th>\n",
       "      <td>655</td>\n",
       "      <td>1640</td>\n",
       "      <td>3</td>\n",
       "      <td>888474646</td>\n",
       "      <td>1640</td>\n",
       "      <td>Eighth Day, The (1996)</td>\n",
       "      <td>01-Nov-1996</td>\n",
       "      <td>NaN</td>\n",
       "      <td>http://us.imdb.com/Title?Huiti%E8me+jour,+Le+(...</td>\n",
       "      <td>0</td>\n",
       "      <td>...</td>\n",
       "      <td>0</td>\n",
       "      <td>0</td>\n",
       "      <td>0</td>\n",
       "      <td>0</td>\n",
       "      <td>0</td>\n",
       "      <td>0</td>\n",
       "      <td>0</td>\n",
       "      <td>0</td>\n",
       "      <td>0</td>\n",
       "      <td>0</td>\n",
       "    </tr>\n",
       "    <tr>\n",
       "      <th>99997</th>\n",
       "      <td>655</td>\n",
       "      <td>1637</td>\n",
       "      <td>3</td>\n",
       "      <td>888984255</td>\n",
       "      <td>1637</td>\n",
       "      <td>Girls Town (1996)</td>\n",
       "      <td>23-Aug-1996</td>\n",
       "      <td>NaN</td>\n",
       "      <td>http://us.imdb.com/M/title-exact?Girls%20Town%...</td>\n",
       "      <td>0</td>\n",
       "      <td>...</td>\n",
       "      <td>0</td>\n",
       "      <td>0</td>\n",
       "      <td>0</td>\n",
       "      <td>0</td>\n",
       "      <td>0</td>\n",
       "      <td>0</td>\n",
       "      <td>0</td>\n",
       "      <td>0</td>\n",
       "      <td>0</td>\n",
       "      <td>0</td>\n",
       "    </tr>\n",
       "    <tr>\n",
       "      <th>99998</th>\n",
       "      <td>655</td>\n",
       "      <td>1630</td>\n",
       "      <td>3</td>\n",
       "      <td>887428735</td>\n",
       "      <td>1630</td>\n",
       "      <td>Silence of the Palace, The (Saimt el Qusur) (1...</td>\n",
       "      <td>02-Feb-1996</td>\n",
       "      <td>NaN</td>\n",
       "      <td>http://us.imdb.com/M/title-exact?Saimt%20el%20...</td>\n",
       "      <td>0</td>\n",
       "      <td>...</td>\n",
       "      <td>0</td>\n",
       "      <td>0</td>\n",
       "      <td>0</td>\n",
       "      <td>0</td>\n",
       "      <td>0</td>\n",
       "      <td>0</td>\n",
       "      <td>0</td>\n",
       "      <td>0</td>\n",
       "      <td>0</td>\n",
       "      <td>0</td>\n",
       "    </tr>\n",
       "    <tr>\n",
       "      <th>99999</th>\n",
       "      <td>655</td>\n",
       "      <td>1641</td>\n",
       "      <td>3</td>\n",
       "      <td>887427810</td>\n",
       "      <td>1641</td>\n",
       "      <td>Dadetown (1995)</td>\n",
       "      <td>18-Sep-1996</td>\n",
       "      <td>NaN</td>\n",
       "      <td>http://us.imdb.com/M/title-exact?Dadetown%20(1...</td>\n",
       "      <td>0</td>\n",
       "      <td>...</td>\n",
       "      <td>0</td>\n",
       "      <td>0</td>\n",
       "      <td>0</td>\n",
       "      <td>0</td>\n",
       "      <td>0</td>\n",
       "      <td>0</td>\n",
       "      <td>0</td>\n",
       "      <td>0</td>\n",
       "      <td>0</td>\n",
       "      <td>0</td>\n",
       "    </tr>\n",
       "  </tbody>\n",
       "</table>\n",
       "<p>100000 rows × 28 columns</p>\n",
       "</div>"
      ],
      "text/plain": [
       "       user_id  item_id  rating  timestamp  movie id  \\\n",
       "0          196      242       3  881250949       242   \n",
       "1           63      242       3  875747190       242   \n",
       "2          226      242       5  883888671       242   \n",
       "3          154      242       3  879138235       242   \n",
       "4          306      242       5  876503793       242   \n",
       "...        ...      ...     ...        ...       ...   \n",
       "99995      840     1674       4  891211682      1674   \n",
       "99996      655     1640       3  888474646      1640   \n",
       "99997      655     1637       3  888984255      1637   \n",
       "99998      655     1630       3  887428735      1630   \n",
       "99999      655     1641       3  887427810      1641   \n",
       "\n",
       "                                             movie title release date  \\\n",
       "0                                           Kolya (1996)  24-Jan-1997   \n",
       "1                                           Kolya (1996)  24-Jan-1997   \n",
       "2                                           Kolya (1996)  24-Jan-1997   \n",
       "3                                           Kolya (1996)  24-Jan-1997   \n",
       "4                                           Kolya (1996)  24-Jan-1997   \n",
       "...                                                  ...          ...   \n",
       "99995                                  Mamma Roma (1962)  01-Jan-1962   \n",
       "99996                             Eighth Day, The (1996)  01-Nov-1996   \n",
       "99997                                  Girls Town (1996)  23-Aug-1996   \n",
       "99998  Silence of the Palace, The (Saimt el Qusur) (1...  02-Feb-1996   \n",
       "99999                                    Dadetown (1995)  18-Sep-1996   \n",
       "\n",
       "       video release date                                           IMDb URL  \\\n",
       "0                     NaN    http://us.imdb.com/M/title-exact?Kolya%20(1996)   \n",
       "1                     NaN    http://us.imdb.com/M/title-exact?Kolya%20(1996)   \n",
       "2                     NaN    http://us.imdb.com/M/title-exact?Kolya%20(1996)   \n",
       "3                     NaN    http://us.imdb.com/M/title-exact?Kolya%20(1996)   \n",
       "4                     NaN    http://us.imdb.com/M/title-exact?Kolya%20(1996)   \n",
       "...                   ...                                                ...   \n",
       "99995                 NaN  http://us.imdb.com/M/title-exact?Mamma%20Roma%...   \n",
       "99996                 NaN  http://us.imdb.com/Title?Huiti%E8me+jour,+Le+(...   \n",
       "99997                 NaN  http://us.imdb.com/M/title-exact?Girls%20Town%...   \n",
       "99998                 NaN  http://us.imdb.com/M/title-exact?Saimt%20el%20...   \n",
       "99999                 NaN  http://us.imdb.com/M/title-exact?Dadetown%20(1...   \n",
       "\n",
       "       unknown  ...  Fantasy  Film-Noir  Horror  Musical  Mystery  Romance  \\\n",
       "0            0  ...        0          0       0        0        0        0   \n",
       "1            0  ...        0          0       0        0        0        0   \n",
       "2            0  ...        0          0       0        0        0        0   \n",
       "3            0  ...        0          0       0        0        0        0   \n",
       "4            0  ...        0          0       0        0        0        0   \n",
       "...        ...  ...      ...        ...     ...      ...      ...      ...   \n",
       "99995        0  ...        0          0       0        0        0        0   \n",
       "99996        0  ...        0          0       0        0        0        0   \n",
       "99997        0  ...        0          0       0        0        0        0   \n",
       "99998        0  ...        0          0       0        0        0        0   \n",
       "99999        0  ...        0          0       0        0        0        0   \n",
       "\n",
       "       Sci-Fi  Thriller  War  Western  \n",
       "0           0         0    0        0  \n",
       "1           0         0    0        0  \n",
       "2           0         0    0        0  \n",
       "3           0         0    0        0  \n",
       "4           0         0    0        0  \n",
       "...       ...       ...  ...      ...  \n",
       "99995       0         0    0        0  \n",
       "99996       0         0    0        0  \n",
       "99997       0         0    0        0  \n",
       "99998       0         0    0        0  \n",
       "99999       0         0    0        0  \n",
       "\n",
       "[100000 rows x 28 columns]"
      ]
     },
     "execution_count": 9,
     "metadata": {},
     "output_type": "execute_result"
    }
   ],
   "source": [
    "movie_data = pd.merge(rating_data, genre_data, left_on = 'item_id', right_on = 'movie id' )\n",
    "movie_data"
   ]
  },
  {
   "cell_type": "markdown",
   "id": "4cecdf5b",
   "metadata": {},
   "source": [
    "After collecting movies that have been rated 5 collect the genres of each of them i.e. how many of those movies belong to a particular genre."
   ]
  },
  {
   "cell_type": "code",
   "execution_count": 146,
   "id": "19470e18",
   "metadata": {},
   "outputs": [],
   "source": [
    "best_genre = {}\n",
    "\n",
    "for col in [ \"unknown\", \"Action\", \"Adventure\", \"Animation\",\n",
    "          \"Children's\", \"Comedy\", \"Crime\", \"Documentary\", \"Drama\", \"Fantasy\",\n",
    "          \"Film-Noir\", \"Horror\", \"Musical\", \"Mystery\", \"Romance\", \"Sci-Fi\",\n",
    "          \"Thriller\", \"War\", \"Western\"]:\n",
    "    sumgenre = []\n",
    "    for indx in movies5rating:\n",
    "        sumgenre.append((genre_data[col].loc[genre_data['movie id'] == indx]))\n",
    "    genre = [item for sublist in sumgenre for item in sublist]\n",
    "    best_genre[col] = sum(genre)   "
   ]
  },
  {
   "cell_type": "code",
   "execution_count": 14,
   "id": "55092788",
   "metadata": {},
   "outputs": [
    {
     "data": {
      "image/png": "[encoded data removed]",
      "text/plain": [
       "<Figure size 1080x720 with 1 Axes>"
      ]
     },
     "metadata": {
      "needs_background": "light"
     },
     "output_type": "display_data"
    }
   ],
   "source": [
    "plt.figure(figsize=(15,10))\n",
    "b_g = sorted(best_genre.items()) # sorted by key, return a list of tuples\n",
    "\n",
    "k, l = zip(*b_g) # unpack a list of pairs into two tuples\n",
    "\n",
    "plt.bar(k, l)\n",
    "plt.xlabel('genres')\n",
    "plt.ylabel('Number of ratings')\n",
    "plt.xticks(rotation = 90)\n",
    "plt.show()"
   ]
  },
  {
   "cell_type": "code",
   "execution_count": 147,
   "id": "5536e581",
   "metadata": {},
   "outputs": [
    {
     "data": {
      "text/plain": [
       "['Drama', 'Comedy', 'Thriller', 'Action', 'Romance']"
      ]
     },
     "execution_count": 147,
     "metadata": {},
     "output_type": "execute_result"
    }
   ],
   "source": [
    "max_genre = sorted(best_genre, key=best_genre.get, reverse = True)[:5]\n",
    "max_genre"
   ]
  },
  {
   "cell_type": "markdown",
   "id": "2f6d772a",
   "metadata": {},
   "source": [
    "What age groups prefer what genres based on ratings? You can bin respective ages to your preference."
   ]
  },
  {
   "cell_type": "markdown",
   "id": "dffb6e8d",
   "metadata": {},
   "source": [
    "User data gives information about user's age, address etc."
   ]
  },
  {
   "cell_type": "code",
   "execution_count": 16,
   "id": "954e4b98",
   "metadata": {},
   "outputs": [
    {
     "data": {
      "text/html": [
       "<div>\n",
       "<style scoped>\n",
       "    .dataframe tbody tr th:only-of-type {\n",
       "        vertical-align: middle;\n",
       "    }\n",
       "\n",
       "    .dataframe tbody tr th {\n",
       "        vertical-align: top;\n",
       "    }\n",
       "\n",
       "    .dataframe thead th {\n",
       "        text-align: right;\n",
       "    }\n",
       "</style>\n",
       "<table border=\"1\" class=\"dataframe\">\n",
       "  <thead>\n",
       "    <tr style=\"text-align: right;\">\n",
       "      <th></th>\n",
       "      <th>user_id</th>\n",
       "      <th>age</th>\n",
       "      <th>gender</th>\n",
       "      <th>occupation</th>\n",
       "      <th>zip_code</th>\n",
       "    </tr>\n",
       "  </thead>\n",
       "  <tbody>\n",
       "    <tr>\n",
       "      <th>0</th>\n",
       "      <td>1</td>\n",
       "      <td>24</td>\n",
       "      <td>M</td>\n",
       "      <td>technician</td>\n",
       "      <td>85711</td>\n",
       "    </tr>\n",
       "    <tr>\n",
       "      <th>1</th>\n",
       "      <td>2</td>\n",
       "      <td>53</td>\n",
       "      <td>F</td>\n",
       "      <td>other</td>\n",
       "      <td>94043</td>\n",
       "    </tr>\n",
       "    <tr>\n",
       "      <th>2</th>\n",
       "      <td>3</td>\n",
       "      <td>23</td>\n",
       "      <td>M</td>\n",
       "      <td>writer</td>\n",
       "      <td>32067</td>\n",
       "    </tr>\n",
       "    <tr>\n",
       "      <th>3</th>\n",
       "      <td>4</td>\n",
       "      <td>24</td>\n",
       "      <td>M</td>\n",
       "      <td>technician</td>\n",
       "      <td>43537</td>\n",
       "    </tr>\n",
       "    <tr>\n",
       "      <th>4</th>\n",
       "      <td>5</td>\n",
       "      <td>33</td>\n",
       "      <td>F</td>\n",
       "      <td>other</td>\n",
       "      <td>15213</td>\n",
       "    </tr>\n",
       "    <tr>\n",
       "      <th>...</th>\n",
       "      <td>...</td>\n",
       "      <td>...</td>\n",
       "      <td>...</td>\n",
       "      <td>...</td>\n",
       "      <td>...</td>\n",
       "    </tr>\n",
       "    <tr>\n",
       "      <th>938</th>\n",
       "      <td>939</td>\n",
       "      <td>26</td>\n",
       "      <td>F</td>\n",
       "      <td>student</td>\n",
       "      <td>33319</td>\n",
       "    </tr>\n",
       "    <tr>\n",
       "      <th>939</th>\n",
       "      <td>940</td>\n",
       "      <td>32</td>\n",
       "      <td>M</td>\n",
       "      <td>administrator</td>\n",
       "      <td>02215</td>\n",
       "    </tr>\n",
       "    <tr>\n",
       "      <th>940</th>\n",
       "      <td>941</td>\n",
       "      <td>20</td>\n",
       "      <td>M</td>\n",
       "      <td>student</td>\n",
       "      <td>97229</td>\n",
       "    </tr>\n",
       "    <tr>\n",
       "      <th>941</th>\n",
       "      <td>942</td>\n",
       "      <td>48</td>\n",
       "      <td>F</td>\n",
       "      <td>librarian</td>\n",
       "      <td>78209</td>\n",
       "    </tr>\n",
       "    <tr>\n",
       "      <th>942</th>\n",
       "      <td>943</td>\n",
       "      <td>22</td>\n",
       "      <td>M</td>\n",
       "      <td>student</td>\n",
       "      <td>77841</td>\n",
       "    </tr>\n",
       "  </tbody>\n",
       "</table>\n",
       "<p>943 rows × 5 columns</p>\n",
       "</div>"
      ],
      "text/plain": [
       "     user_id  age gender     occupation zip_code\n",
       "0          1   24      M     technician    85711\n",
       "1          2   53      F          other    94043\n",
       "2          3   23      M         writer    32067\n",
       "3          4   24      M     technician    43537\n",
       "4          5   33      F          other    15213\n",
       "..       ...  ...    ...            ...      ...\n",
       "938      939   26      F        student    33319\n",
       "939      940   32      M  administrator    02215\n",
       "940      941   20      M        student    97229\n",
       "941      942   48      F      librarian    78209\n",
       "942      943   22      M        student    77841\n",
       "\n",
       "[943 rows x 5 columns]"
      ]
     },
     "execution_count": 16,
     "metadata": {},
     "output_type": "execute_result"
    }
   ],
   "source": [
    "user_data = pd.read_csv(\"u.user\", sep = \"|\", header = None)\n",
    "user_data.columns = [\"user_id\", \"age\", \"gender\", \"occupation\", \"zip_code\"]\n",
    "user_data"
   ]
  },
  {
   "cell_type": "markdown",
   "id": "e51dba44",
   "metadata": {},
   "source": [
    "Check particular age groups we can divide our data into."
   ]
  },
  {
   "cell_type": "code",
   "execution_count": 17,
   "id": "9304a234",
   "metadata": {},
   "outputs": [
    {
     "data": {
      "text/plain": [
       "30    39\n",
       "25    38\n",
       "22    37\n",
       "28    36\n",
       "27    35\n",
       "      ..\n",
       "7      1\n",
       "66     1\n",
       "11     1\n",
       "10     1\n",
       "73     1\n",
       "Name: age, Length: 61, dtype: int64"
      ]
     },
     "execution_count": 17,
     "metadata": {},
     "output_type": "execute_result"
    }
   ],
   "source": [
    "user_data[\"age\"].value_counts()"
   ]
  },
  {
   "cell_type": "markdown",
   "id": "8879896a",
   "metadata": {},
   "source": [
    "Again considering those users that have given rating 5 to look for the most prefered genres in different age groups."
   ]
  },
  {
   "cell_type": "code",
   "execution_count": 18,
   "id": "dad552c5",
   "metadata": {
    "scrolled": false
   },
   "outputs": [
    {
     "data": {
      "text/html": [
       "<div>\n",
       "<style scoped>\n",
       "    .dataframe tbody tr th:only-of-type {\n",
       "        vertical-align: middle;\n",
       "    }\n",
       "\n",
       "    .dataframe tbody tr th {\n",
       "        vertical-align: top;\n",
       "    }\n",
       "\n",
       "    .dataframe thead th {\n",
       "        text-align: right;\n",
       "    }\n",
       "</style>\n",
       "<table border=\"1\" class=\"dataframe\">\n",
       "  <thead>\n",
       "    <tr style=\"text-align: right;\">\n",
       "      <th></th>\n",
       "      <th>user_id</th>\n",
       "      <th>item_id</th>\n",
       "      <th>rating</th>\n",
       "      <th>timestamp</th>\n",
       "      <th>age</th>\n",
       "      <th>gender</th>\n",
       "      <th>occupation</th>\n",
       "      <th>zip_code</th>\n",
       "      <th>movie id</th>\n",
       "      <th>movie title</th>\n",
       "      <th>...</th>\n",
       "      <th>Fantasy</th>\n",
       "      <th>Film-Noir</th>\n",
       "      <th>Horror</th>\n",
       "      <th>Musical</th>\n",
       "      <th>Mystery</th>\n",
       "      <th>Romance</th>\n",
       "      <th>Sci-Fi</th>\n",
       "      <th>Thriller</th>\n",
       "      <th>War</th>\n",
       "      <th>Western</th>\n",
       "    </tr>\n",
       "  </thead>\n",
       "  <tbody>\n",
       "    <tr>\n",
       "      <th>1</th>\n",
       "      <td>305</td>\n",
       "      <td>242</td>\n",
       "      <td>5</td>\n",
       "      <td>886307828</td>\n",
       "      <td>23</td>\n",
       "      <td>M</td>\n",
       "      <td>programmer</td>\n",
       "      <td>94086</td>\n",
       "      <td>242</td>\n",
       "      <td>Kolya (1996)</td>\n",
       "      <td>...</td>\n",
       "      <td>0</td>\n",
       "      <td>0</td>\n",
       "      <td>0</td>\n",
       "      <td>0</td>\n",
       "      <td>0</td>\n",
       "      <td>0</td>\n",
       "      <td>0</td>\n",
       "      <td>0</td>\n",
       "      <td>0</td>\n",
       "      <td>0</td>\n",
       "    </tr>\n",
       "    <tr>\n",
       "      <th>7</th>\n",
       "      <td>249</td>\n",
       "      <td>242</td>\n",
       "      <td>5</td>\n",
       "      <td>879571438</td>\n",
       "      <td>25</td>\n",
       "      <td>M</td>\n",
       "      <td>student</td>\n",
       "      <td>84103</td>\n",
       "      <td>242</td>\n",
       "      <td>Kolya (1996)</td>\n",
       "      <td>...</td>\n",
       "      <td>0</td>\n",
       "      <td>0</td>\n",
       "      <td>0</td>\n",
       "      <td>0</td>\n",
       "      <td>0</td>\n",
       "      <td>0</td>\n",
       "      <td>0</td>\n",
       "      <td>0</td>\n",
       "      <td>0</td>\n",
       "      <td>0</td>\n",
       "    </tr>\n",
       "    <tr>\n",
       "      <th>10</th>\n",
       "      <td>145</td>\n",
       "      <td>242</td>\n",
       "      <td>5</td>\n",
       "      <td>875269755</td>\n",
       "      <td>31</td>\n",
       "      <td>M</td>\n",
       "      <td>entertainment</td>\n",
       "      <td>V3N4P</td>\n",
       "      <td>242</td>\n",
       "      <td>Kolya (1996)</td>\n",
       "      <td>...</td>\n",
       "      <td>0</td>\n",
       "      <td>0</td>\n",
       "      <td>0</td>\n",
       "      <td>0</td>\n",
       "      <td>0</td>\n",
       "      <td>0</td>\n",
       "      <td>0</td>\n",
       "      <td>0</td>\n",
       "      <td>0</td>\n",
       "      <td>0</td>\n",
       "    </tr>\n",
       "    <tr>\n",
       "      <th>13</th>\n",
       "      <td>18</td>\n",
       "      <td>242</td>\n",
       "      <td>5</td>\n",
       "      <td>880129305</td>\n",
       "      <td>35</td>\n",
       "      <td>F</td>\n",
       "      <td>other</td>\n",
       "      <td>37212</td>\n",
       "      <td>242</td>\n",
       "      <td>Kolya (1996)</td>\n",
       "      <td>...</td>\n",
       "      <td>0</td>\n",
       "      <td>0</td>\n",
       "      <td>0</td>\n",
       "      <td>0</td>\n",
       "      <td>0</td>\n",
       "      <td>0</td>\n",
       "      <td>0</td>\n",
       "      <td>0</td>\n",
       "      <td>0</td>\n",
       "      <td>0</td>\n",
       "    </tr>\n",
       "    <tr>\n",
       "      <th>14</th>\n",
       "      <td>1</td>\n",
       "      <td>242</td>\n",
       "      <td>5</td>\n",
       "      <td>889751633</td>\n",
       "      <td>24</td>\n",
       "      <td>M</td>\n",
       "      <td>technician</td>\n",
       "      <td>85711</td>\n",
       "      <td>242</td>\n",
       "      <td>Kolya (1996)</td>\n",
       "      <td>...</td>\n",
       "      <td>0</td>\n",
       "      <td>0</td>\n",
       "      <td>0</td>\n",
       "      <td>0</td>\n",
       "      <td>0</td>\n",
       "      <td>0</td>\n",
       "      <td>0</td>\n",
       "      <td>0</td>\n",
       "      <td>0</td>\n",
       "      <td>0</td>\n",
       "    </tr>\n",
       "    <tr>\n",
       "      <th>...</th>\n",
       "      <td>...</td>\n",
       "      <td>...</td>\n",
       "      <td>...</td>\n",
       "      <td>...</td>\n",
       "      <td>...</td>\n",
       "      <td>...</td>\n",
       "      <td>...</td>\n",
       "      <td>...</td>\n",
       "      <td>...</td>\n",
       "      <td>...</td>\n",
       "      <td>...</td>\n",
       "      <td>...</td>\n",
       "      <td>...</td>\n",
       "      <td>...</td>\n",
       "      <td>...</td>\n",
       "      <td>...</td>\n",
       "      <td>...</td>\n",
       "      <td>...</td>\n",
       "      <td>...</td>\n",
       "      <td>...</td>\n",
       "      <td>...</td>\n",
       "    </tr>\n",
       "    <tr>\n",
       "      <th>99946</th>\n",
       "      <td>675</td>\n",
       "      <td>1628</td>\n",
       "      <td>5</td>\n",
       "      <td>889489837</td>\n",
       "      <td>34</td>\n",
       "      <td>M</td>\n",
       "      <td>other</td>\n",
       "      <td>28814</td>\n",
       "      <td>1628</td>\n",
       "      <td>Lamerica (1994)</td>\n",
       "      <td>...</td>\n",
       "      <td>0</td>\n",
       "      <td>0</td>\n",
       "      <td>0</td>\n",
       "      <td>0</td>\n",
       "      <td>0</td>\n",
       "      <td>0</td>\n",
       "      <td>0</td>\n",
       "      <td>0</td>\n",
       "      <td>0</td>\n",
       "      <td>0</td>\n",
       "    </tr>\n",
       "    <tr>\n",
       "      <th>99954</th>\n",
       "      <td>655</td>\n",
       "      <td>1643</td>\n",
       "      <td>5</td>\n",
       "      <td>887611511</td>\n",
       "      <td>50</td>\n",
       "      <td>F</td>\n",
       "      <td>healthcare</td>\n",
       "      <td>60657</td>\n",
       "      <td>1643</td>\n",
       "      <td>Angel Baby (1995)</td>\n",
       "      <td>...</td>\n",
       "      <td>0</td>\n",
       "      <td>0</td>\n",
       "      <td>0</td>\n",
       "      <td>0</td>\n",
       "      <td>0</td>\n",
       "      <td>0</td>\n",
       "      <td>0</td>\n",
       "      <td>0</td>\n",
       "      <td>0</td>\n",
       "      <td>0</td>\n",
       "    </tr>\n",
       "    <tr>\n",
       "      <th>99957</th>\n",
       "      <td>901</td>\n",
       "      <td>1643</td>\n",
       "      <td>5</td>\n",
       "      <td>877130473</td>\n",
       "      <td>38</td>\n",
       "      <td>M</td>\n",
       "      <td>executive</td>\n",
       "      <td>L1V3W</td>\n",
       "      <td>1643</td>\n",
       "      <td>Angel Baby (1995)</td>\n",
       "      <td>...</td>\n",
       "      <td>0</td>\n",
       "      <td>0</td>\n",
       "      <td>0</td>\n",
       "      <td>0</td>\n",
       "      <td>0</td>\n",
       "      <td>0</td>\n",
       "      <td>0</td>\n",
       "      <td>0</td>\n",
       "      <td>0</td>\n",
       "      <td>0</td>\n",
       "    </tr>\n",
       "    <tr>\n",
       "      <th>99964</th>\n",
       "      <td>675</td>\n",
       "      <td>1653</td>\n",
       "      <td>5</td>\n",
       "      <td>889489913</td>\n",
       "      <td>34</td>\n",
       "      <td>M</td>\n",
       "      <td>other</td>\n",
       "      <td>28814</td>\n",
       "      <td>1653</td>\n",
       "      <td>Entertaining Angels: The Dorothy Day Story (1996)</td>\n",
       "      <td>...</td>\n",
       "      <td>0</td>\n",
       "      <td>0</td>\n",
       "      <td>0</td>\n",
       "      <td>0</td>\n",
       "      <td>0</td>\n",
       "      <td>0</td>\n",
       "      <td>0</td>\n",
       "      <td>0</td>\n",
       "      <td>0</td>\n",
       "      <td>0</td>\n",
       "    </tr>\n",
       "    <tr>\n",
       "      <th>99966</th>\n",
       "      <td>883</td>\n",
       "      <td>1656</td>\n",
       "      <td>5</td>\n",
       "      <td>891692168</td>\n",
       "      <td>49</td>\n",
       "      <td>M</td>\n",
       "      <td>librarian</td>\n",
       "      <td>50266</td>\n",
       "      <td>1656</td>\n",
       "      <td>Little City (1998)</td>\n",
       "      <td>...</td>\n",
       "      <td>0</td>\n",
       "      <td>0</td>\n",
       "      <td>0</td>\n",
       "      <td>0</td>\n",
       "      <td>0</td>\n",
       "      <td>1</td>\n",
       "      <td>0</td>\n",
       "      <td>0</td>\n",
       "      <td>0</td>\n",
       "      <td>0</td>\n",
       "    </tr>\n",
       "  </tbody>\n",
       "</table>\n",
       "<p>21201 rows × 32 columns</p>\n",
       "</div>"
      ],
      "text/plain": [
       "       user_id  item_id  rating  timestamp  age gender     occupation  \\\n",
       "1          305      242       5  886307828   23      M     programmer   \n",
       "7          249      242       5  879571438   25      M        student   \n",
       "10         145      242       5  875269755   31      M  entertainment   \n",
       "13          18      242       5  880129305   35      F          other   \n",
       "14           1      242       5  889751633   24      M     technician   \n",
       "...        ...      ...     ...        ...  ...    ...            ...   \n",
       "99946      675     1628       5  889489837   34      M          other   \n",
       "99954      655     1643       5  887611511   50      F     healthcare   \n",
       "99957      901     1643       5  877130473   38      M      executive   \n",
       "99964      675     1653       5  889489913   34      M          other   \n",
       "99966      883     1656       5  891692168   49      M      librarian   \n",
       "\n",
       "      zip_code  movie id                                        movie title  \\\n",
       "1        94086       242                                       Kolya (1996)   \n",
       "7        84103       242                                       Kolya (1996)   \n",
       "10       V3N4P       242                                       Kolya (1996)   \n",
       "13       37212       242                                       Kolya (1996)   \n",
       "14       85711       242                                       Kolya (1996)   \n",
       "...        ...       ...                                                ...   \n",
       "99946    28814      1628                                    Lamerica (1994)   \n",
       "99954    60657      1643                                  Angel Baby (1995)   \n",
       "99957    L1V3W      1643                                  Angel Baby (1995)   \n",
       "99964    28814      1653  Entertaining Angels: The Dorothy Day Story (1996)   \n",
       "99966    50266      1656                                 Little City (1998)   \n",
       "\n",
       "       ... Fantasy  Film-Noir Horror  Musical  Mystery  Romance  Sci-Fi  \\\n",
       "1      ...       0          0      0        0        0        0       0   \n",
       "7      ...       0          0      0        0        0        0       0   \n",
       "10     ...       0          0      0        0        0        0       0   \n",
       "13     ...       0          0      0        0        0        0       0   \n",
       "14     ...       0          0      0        0        0        0       0   \n",
       "...    ...     ...        ...    ...      ...      ...      ...     ...   \n",
       "99946  ...       0          0      0        0        0        0       0   \n",
       "99954  ...       0          0      0        0        0        0       0   \n",
       "99957  ...       0          0      0        0        0        0       0   \n",
       "99964  ...       0          0      0        0        0        0       0   \n",
       "99966  ...       0          0      0        0        0        1       0   \n",
       "\n",
       "       Thriller  War  Western  \n",
       "1             0    0        0  \n",
       "7             0    0        0  \n",
       "10            0    0        0  \n",
       "13            0    0        0  \n",
       "14            0    0        0  \n",
       "...         ...  ...      ...  \n",
       "99946         0    0        0  \n",
       "99954         0    0        0  \n",
       "99957         0    0        0  \n",
       "99964         0    0        0  \n",
       "99966         0    0        0  \n",
       "\n",
       "[21201 rows x 32 columns]"
      ]
     },
     "execution_count": 18,
     "metadata": {},
     "output_type": "execute_result"
    }
   ],
   "source": [
    "user_rating = pd.merge(rating_data, user_data, on = 'user_id')\n",
    "user_rating_genre = user_rating.merge(genre_data, left_on = 'item_id', right_on = 'movie id')\n",
    "user_rating_5 = user_rating_genre[user_rating_genre.rating == 5]\n",
    "user_rating_5"
   ]
  },
  {
   "cell_type": "code",
   "execution_count": 149,
   "id": "a8b2838b",
   "metadata": {},
   "outputs": [],
   "source": [
    "genres_age = {}\n",
    "i = 0\n",
    "h = 10\n",
    "\n",
    "# dk = user_rating_genre[ & (user_rating_genre['age'].between(0, 50))]\n",
    "# dk\n",
    "while i < 8:\n",
    "    for idx in user_rating_genre['user_id'][user_rating_genre['age'].between(i*h, (i+1)*h)]:\n",
    "        sum_genre = {}\n",
    "        for cols in [ \"unknown\", \"Action\", \"Adventure\", \"Animation\",\n",
    "              \"Children's\", \"Comedy\", \"Crime\", \"Documentary\", \"Drama\", \"Fantasy\",\n",
    "              \"Film-Noir\", \"Horror\", \"Musical\", \"Mystery\", \"Romance\", \"Sci-Fi\",\n",
    "              \"Thriller\", \"War\", \"Western\"]:\n",
    "            sum_genre[cols] = sum((user_rating_genre[cols][user_rating_genre['user_id'] == idx]))   \n",
    "        genres_age[(i*h, (i+1)*h)] = max(sum_genre, key = sum_genre.get)\n",
    "    i = i + 1    \n"
   ]
  },
  {
   "cell_type": "code",
   "execution_count": 156,
   "id": "fd1e61cd",
   "metadata": {},
   "outputs": [
    {
     "data": {
      "text/html": [
       "<div>\n",
       "<style scoped>\n",
       "    .dataframe tbody tr th:only-of-type {\n",
       "        vertical-align: middle;\n",
       "    }\n",
       "\n",
       "    .dataframe tbody tr th {\n",
       "        vertical-align: top;\n",
       "    }\n",
       "\n",
       "    .dataframe thead th {\n",
       "        text-align: right;\n",
       "    }\n",
       "</style>\n",
       "<table border=\"1\" class=\"dataframe\">\n",
       "  <thead>\n",
       "    <tr style=\"text-align: right;\">\n",
       "      <th></th>\n",
       "      <th>Age</th>\n",
       "      <th>genre</th>\n",
       "    </tr>\n",
       "  </thead>\n",
       "  <tbody>\n",
       "    <tr>\n",
       "      <th>0</th>\n",
       "      <td>(0, 10)</td>\n",
       "      <td>Children's</td>\n",
       "    </tr>\n",
       "    <tr>\n",
       "      <th>1</th>\n",
       "      <td>(10, 20)</td>\n",
       "      <td>Drama</td>\n",
       "    </tr>\n",
       "    <tr>\n",
       "      <th>2</th>\n",
       "      <td>(20, 30)</td>\n",
       "      <td>Drama</td>\n",
       "    </tr>\n",
       "    <tr>\n",
       "      <th>3</th>\n",
       "      <td>(30, 40)</td>\n",
       "      <td>Drama</td>\n",
       "    </tr>\n",
       "    <tr>\n",
       "      <th>4</th>\n",
       "      <td>(40, 50)</td>\n",
       "      <td>Drama</td>\n",
       "    </tr>\n",
       "    <tr>\n",
       "      <th>5</th>\n",
       "      <td>(50, 60)</td>\n",
       "      <td>Drama</td>\n",
       "    </tr>\n",
       "    <tr>\n",
       "      <th>6</th>\n",
       "      <td>(60, 70)</td>\n",
       "      <td>Drama</td>\n",
       "    </tr>\n",
       "    <tr>\n",
       "      <th>7</th>\n",
       "      <td>(70, 80)</td>\n",
       "      <td>Drama</td>\n",
       "    </tr>\n",
       "  </tbody>\n",
       "</table>\n",
       "</div>"
      ],
      "text/plain": [
       "        Age       genre\n",
       "0   (0, 10)  Children's\n",
       "1  (10, 20)       Drama\n",
       "2  (20, 30)       Drama\n",
       "3  (30, 40)       Drama\n",
       "4  (40, 50)       Drama\n",
       "5  (50, 60)       Drama\n",
       "6  (60, 70)       Drama\n",
       "7  (70, 80)       Drama"
      ]
     },
     "execution_count": 156,
     "metadata": {},
     "output_type": "execute_result"
    }
   ],
   "source": [
    "data = {'Age' : genres_age.keys(), 'genre': genres_age.values()}\n",
    "pd.DataFrame(data = data)"
   ]
  },
  {
   "cell_type": "markdown",
   "id": "0b74b034",
   "metadata": {},
   "source": [
    "# Exercise 2: Implementing basic matrix factorization (MF) technique\n",
    "# for recommender systems"
   ]
  },
  {
   "cell_type": "markdown",
   "id": "f9d8c0c1",
   "metadata": {},
   "source": [
    "Ratings given by each user to each movies and since not every movie is rated by every user most of the entries will be missing."
   ]
  },
  {
   "cell_type": "code",
   "execution_count": 19,
   "id": "80ab3c8f",
   "metadata": {},
   "outputs": [
    {
     "data": {
      "text/html": [
       "<div>\n",
       "<style scoped>\n",
       "    .dataframe tbody tr th:only-of-type {\n",
       "        vertical-align: middle;\n",
       "    }\n",
       "\n",
       "    .dataframe tbody tr th {\n",
       "        vertical-align: top;\n",
       "    }\n",
       "\n",
       "    .dataframe thead th {\n",
       "        text-align: right;\n",
       "    }\n",
       "</style>\n",
       "<table border=\"1\" class=\"dataframe\">\n",
       "  <thead>\n",
       "    <tr style=\"text-align: right;\">\n",
       "      <th>item_id</th>\n",
       "      <th>1</th>\n",
       "      <th>2</th>\n",
       "      <th>3</th>\n",
       "      <th>4</th>\n",
       "      <th>5</th>\n",
       "      <th>6</th>\n",
       "      <th>7</th>\n",
       "      <th>8</th>\n",
       "      <th>9</th>\n",
       "      <th>10</th>\n",
       "      <th>...</th>\n",
       "      <th>1673</th>\n",
       "      <th>1674</th>\n",
       "      <th>1675</th>\n",
       "      <th>1676</th>\n",
       "      <th>1677</th>\n",
       "      <th>1678</th>\n",
       "      <th>1679</th>\n",
       "      <th>1680</th>\n",
       "      <th>1681</th>\n",
       "      <th>1682</th>\n",
       "    </tr>\n",
       "    <tr>\n",
       "      <th>user_id</th>\n",
       "      <th></th>\n",
       "      <th></th>\n",
       "      <th></th>\n",
       "      <th></th>\n",
       "      <th></th>\n",
       "      <th></th>\n",
       "      <th></th>\n",
       "      <th></th>\n",
       "      <th></th>\n",
       "      <th></th>\n",
       "      <th></th>\n",
       "      <th></th>\n",
       "      <th></th>\n",
       "      <th></th>\n",
       "      <th></th>\n",
       "      <th></th>\n",
       "      <th></th>\n",
       "      <th></th>\n",
       "      <th></th>\n",
       "      <th></th>\n",
       "      <th></th>\n",
       "    </tr>\n",
       "  </thead>\n",
       "  <tbody>\n",
       "    <tr>\n",
       "      <th>1</th>\n",
       "      <td>5.0</td>\n",
       "      <td>3.0</td>\n",
       "      <td>4.0</td>\n",
       "      <td>3.0</td>\n",
       "      <td>3.0</td>\n",
       "      <td>5.0</td>\n",
       "      <td>4.0</td>\n",
       "      <td>1.0</td>\n",
       "      <td>5.0</td>\n",
       "      <td>3.0</td>\n",
       "      <td>...</td>\n",
       "      <td>NaN</td>\n",
       "      <td>NaN</td>\n",
       "      <td>NaN</td>\n",
       "      <td>NaN</td>\n",
       "      <td>NaN</td>\n",
       "      <td>NaN</td>\n",
       "      <td>NaN</td>\n",
       "      <td>NaN</td>\n",
       "      <td>NaN</td>\n",
       "      <td>NaN</td>\n",
       "    </tr>\n",
       "    <tr>\n",
       "      <th>2</th>\n",
       "      <td>4.0</td>\n",
       "      <td>NaN</td>\n",
       "      <td>NaN</td>\n",
       "      <td>NaN</td>\n",
       "      <td>NaN</td>\n",
       "      <td>NaN</td>\n",
       "      <td>NaN</td>\n",
       "      <td>NaN</td>\n",
       "      <td>NaN</td>\n",
       "      <td>2.0</td>\n",
       "      <td>...</td>\n",
       "      <td>NaN</td>\n",
       "      <td>NaN</td>\n",
       "      <td>NaN</td>\n",
       "      <td>NaN</td>\n",
       "      <td>NaN</td>\n",
       "      <td>NaN</td>\n",
       "      <td>NaN</td>\n",
       "      <td>NaN</td>\n",
       "      <td>NaN</td>\n",
       "      <td>NaN</td>\n",
       "    </tr>\n",
       "    <tr>\n",
       "      <th>3</th>\n",
       "      <td>NaN</td>\n",
       "      <td>NaN</td>\n",
       "      <td>NaN</td>\n",
       "      <td>NaN</td>\n",
       "      <td>NaN</td>\n",
       "      <td>NaN</td>\n",
       "      <td>NaN</td>\n",
       "      <td>NaN</td>\n",
       "      <td>NaN</td>\n",
       "      <td>NaN</td>\n",
       "      <td>...</td>\n",
       "      <td>NaN</td>\n",
       "      <td>NaN</td>\n",
       "      <td>NaN</td>\n",
       "      <td>NaN</td>\n",
       "      <td>NaN</td>\n",
       "      <td>NaN</td>\n",
       "      <td>NaN</td>\n",
       "      <td>NaN</td>\n",
       "      <td>NaN</td>\n",
       "      <td>NaN</td>\n",
       "    </tr>\n",
       "    <tr>\n",
       "      <th>4</th>\n",
       "      <td>NaN</td>\n",
       "      <td>NaN</td>\n",
       "      <td>NaN</td>\n",
       "      <td>NaN</td>\n",
       "      <td>NaN</td>\n",
       "      <td>NaN</td>\n",
       "      <td>NaN</td>\n",
       "      <td>NaN</td>\n",
       "      <td>NaN</td>\n",
       "      <td>NaN</td>\n",
       "      <td>...</td>\n",
       "      <td>NaN</td>\n",
       "      <td>NaN</td>\n",
       "      <td>NaN</td>\n",
       "      <td>NaN</td>\n",
       "      <td>NaN</td>\n",
       "      <td>NaN</td>\n",
       "      <td>NaN</td>\n",
       "      <td>NaN</td>\n",
       "      <td>NaN</td>\n",
       "      <td>NaN</td>\n",
       "    </tr>\n",
       "    <tr>\n",
       "      <th>5</th>\n",
       "      <td>4.0</td>\n",
       "      <td>3.0</td>\n",
       "      <td>NaN</td>\n",
       "      <td>NaN</td>\n",
       "      <td>NaN</td>\n",
       "      <td>NaN</td>\n",
       "      <td>NaN</td>\n",
       "      <td>NaN</td>\n",
       "      <td>NaN</td>\n",
       "      <td>NaN</td>\n",
       "      <td>...</td>\n",
       "      <td>NaN</td>\n",
       "      <td>NaN</td>\n",
       "      <td>NaN</td>\n",
       "      <td>NaN</td>\n",
       "      <td>NaN</td>\n",
       "      <td>NaN</td>\n",
       "      <td>NaN</td>\n",
       "      <td>NaN</td>\n",
       "      <td>NaN</td>\n",
       "      <td>NaN</td>\n",
       "    </tr>\n",
       "    <tr>\n",
       "      <th>...</th>\n",
       "      <td>...</td>\n",
       "      <td>...</td>\n",
       "      <td>...</td>\n",
       "      <td>...</td>\n",
       "      <td>...</td>\n",
       "      <td>...</td>\n",
       "      <td>...</td>\n",
       "      <td>...</td>\n",
       "      <td>...</td>\n",
       "      <td>...</td>\n",
       "      <td>...</td>\n",
       "      <td>...</td>\n",
       "      <td>...</td>\n",
       "      <td>...</td>\n",
       "      <td>...</td>\n",
       "      <td>...</td>\n",
       "      <td>...</td>\n",
       "      <td>...</td>\n",
       "      <td>...</td>\n",
       "      <td>...</td>\n",
       "      <td>...</td>\n",
       "    </tr>\n",
       "    <tr>\n",
       "      <th>939</th>\n",
       "      <td>NaN</td>\n",
       "      <td>NaN</td>\n",
       "      <td>NaN</td>\n",
       "      <td>NaN</td>\n",
       "      <td>NaN</td>\n",
       "      <td>NaN</td>\n",
       "      <td>NaN</td>\n",
       "      <td>NaN</td>\n",
       "      <td>5.0</td>\n",
       "      <td>NaN</td>\n",
       "      <td>...</td>\n",
       "      <td>NaN</td>\n",
       "      <td>NaN</td>\n",
       "      <td>NaN</td>\n",
       "      <td>NaN</td>\n",
       "      <td>NaN</td>\n",
       "      <td>NaN</td>\n",
       "      <td>NaN</td>\n",
       "      <td>NaN</td>\n",
       "      <td>NaN</td>\n",
       "      <td>NaN</td>\n",
       "    </tr>\n",
       "    <tr>\n",
       "      <th>940</th>\n",
       "      <td>NaN</td>\n",
       "      <td>NaN</td>\n",
       "      <td>NaN</td>\n",
       "      <td>2.0</td>\n",
       "      <td>NaN</td>\n",
       "      <td>NaN</td>\n",
       "      <td>4.0</td>\n",
       "      <td>5.0</td>\n",
       "      <td>3.0</td>\n",
       "      <td>NaN</td>\n",
       "      <td>...</td>\n",
       "      <td>NaN</td>\n",
       "      <td>NaN</td>\n",
       "      <td>NaN</td>\n",
       "      <td>NaN</td>\n",
       "      <td>NaN</td>\n",
       "      <td>NaN</td>\n",
       "      <td>NaN</td>\n",
       "      <td>NaN</td>\n",
       "      <td>NaN</td>\n",
       "      <td>NaN</td>\n",
       "    </tr>\n",
       "    <tr>\n",
       "      <th>941</th>\n",
       "      <td>5.0</td>\n",
       "      <td>NaN</td>\n",
       "      <td>NaN</td>\n",
       "      <td>NaN</td>\n",
       "      <td>NaN</td>\n",
       "      <td>NaN</td>\n",
       "      <td>4.0</td>\n",
       "      <td>NaN</td>\n",
       "      <td>NaN</td>\n",
       "      <td>NaN</td>\n",
       "      <td>...</td>\n",
       "      <td>NaN</td>\n",
       "      <td>NaN</td>\n",
       "      <td>NaN</td>\n",
       "      <td>NaN</td>\n",
       "      <td>NaN</td>\n",
       "      <td>NaN</td>\n",
       "      <td>NaN</td>\n",
       "      <td>NaN</td>\n",
       "      <td>NaN</td>\n",
       "      <td>NaN</td>\n",
       "    </tr>\n",
       "    <tr>\n",
       "      <th>942</th>\n",
       "      <td>NaN</td>\n",
       "      <td>NaN</td>\n",
       "      <td>NaN</td>\n",
       "      <td>NaN</td>\n",
       "      <td>NaN</td>\n",
       "      <td>NaN</td>\n",
       "      <td>NaN</td>\n",
       "      <td>NaN</td>\n",
       "      <td>NaN</td>\n",
       "      <td>NaN</td>\n",
       "      <td>...</td>\n",
       "      <td>NaN</td>\n",
       "      <td>NaN</td>\n",
       "      <td>NaN</td>\n",
       "      <td>NaN</td>\n",
       "      <td>NaN</td>\n",
       "      <td>NaN</td>\n",
       "      <td>NaN</td>\n",
       "      <td>NaN</td>\n",
       "      <td>NaN</td>\n",
       "      <td>NaN</td>\n",
       "    </tr>\n",
       "    <tr>\n",
       "      <th>943</th>\n",
       "      <td>NaN</td>\n",
       "      <td>5.0</td>\n",
       "      <td>NaN</td>\n",
       "      <td>NaN</td>\n",
       "      <td>NaN</td>\n",
       "      <td>NaN</td>\n",
       "      <td>NaN</td>\n",
       "      <td>NaN</td>\n",
       "      <td>3.0</td>\n",
       "      <td>NaN</td>\n",
       "      <td>...</td>\n",
       "      <td>NaN</td>\n",
       "      <td>NaN</td>\n",
       "      <td>NaN</td>\n",
       "      <td>NaN</td>\n",
       "      <td>NaN</td>\n",
       "      <td>NaN</td>\n",
       "      <td>NaN</td>\n",
       "      <td>NaN</td>\n",
       "      <td>NaN</td>\n",
       "      <td>NaN</td>\n",
       "    </tr>\n",
       "  </tbody>\n",
       "</table>\n",
       "<p>943 rows × 1682 columns</p>\n",
       "</div>"
      ],
      "text/plain": [
       "item_id  1     2     3     4     5     6     7     8     9     10    ...  \\\n",
       "user_id                                                              ...   \n",
       "1         5.0   3.0   4.0   3.0   3.0   5.0   4.0   1.0   5.0   3.0  ...   \n",
       "2         4.0   NaN   NaN   NaN   NaN   NaN   NaN   NaN   NaN   2.0  ...   \n",
       "3         NaN   NaN   NaN   NaN   NaN   NaN   NaN   NaN   NaN   NaN  ...   \n",
       "4         NaN   NaN   NaN   NaN   NaN   NaN   NaN   NaN   NaN   NaN  ...   \n",
       "5         4.0   3.0   NaN   NaN   NaN   NaN   NaN   NaN   NaN   NaN  ...   \n",
       "...       ...   ...   ...   ...   ...   ...   ...   ...   ...   ...  ...   \n",
       "939       NaN   NaN   NaN   NaN   NaN   NaN   NaN   NaN   5.0   NaN  ...   \n",
       "940       NaN   NaN   NaN   2.0   NaN   NaN   4.0   5.0   3.0   NaN  ...   \n",
       "941       5.0   NaN   NaN   NaN   NaN   NaN   4.0   NaN   NaN   NaN  ...   \n",
       "942       NaN   NaN   NaN   NaN   NaN   NaN   NaN   NaN   NaN   NaN  ...   \n",
       "943       NaN   5.0   NaN   NaN   NaN   NaN   NaN   NaN   3.0   NaN  ...   \n",
       "\n",
       "item_id  1673  1674  1675  1676  1677  1678  1679  1680  1681  1682  \n",
       "user_id                                                              \n",
       "1         NaN   NaN   NaN   NaN   NaN   NaN   NaN   NaN   NaN   NaN  \n",
       "2         NaN   NaN   NaN   NaN   NaN   NaN   NaN   NaN   NaN   NaN  \n",
       "3         NaN   NaN   NaN   NaN   NaN   NaN   NaN   NaN   NaN   NaN  \n",
       "4         NaN   NaN   NaN   NaN   NaN   NaN   NaN   NaN   NaN   NaN  \n",
       "5         NaN   NaN   NaN   NaN   NaN   NaN   NaN   NaN   NaN   NaN  \n",
       "...       ...   ...   ...   ...   ...   ...   ...   ...   ...   ...  \n",
       "939       NaN   NaN   NaN   NaN   NaN   NaN   NaN   NaN   NaN   NaN  \n",
       "940       NaN   NaN   NaN   NaN   NaN   NaN   NaN   NaN   NaN   NaN  \n",
       "941       NaN   NaN   NaN   NaN   NaN   NaN   NaN   NaN   NaN   NaN  \n",
       "942       NaN   NaN   NaN   NaN   NaN   NaN   NaN   NaN   NaN   NaN  \n",
       "943       NaN   NaN   NaN   NaN   NaN   NaN   NaN   NaN   NaN   NaN  \n",
       "\n",
       "[943 rows x 1682 columns]"
      ]
     },
     "execution_count": 19,
     "metadata": {},
     "output_type": "execute_result"
    }
   ],
   "source": [
    "movie_rating = user_rating_genre.pivot_table(index = 'user_id', columns = 'item_id', values = 'rating')\n",
    "movie_rating"
   ]
  },
  {
   "cell_type": "markdown",
   "id": "99c3b972",
   "metadata": {},
   "source": [
    "Rating Matrix"
   ]
  },
  {
   "cell_type": "code",
   "execution_count": 20,
   "id": "d70b9870",
   "metadata": {},
   "outputs": [
    {
     "data": {
      "text/plain": [
       "array([[5., 3., 4., ..., 0., 0., 0.],\n",
       "       [4., 0., 0., ..., 0., 0., 0.],\n",
       "       [0., 0., 0., ..., 0., 0., 0.],\n",
       "       ...,\n",
       "       [5., 0., 0., ..., 0., 0., 0.],\n",
       "       [0., 0., 0., ..., 0., 0., 0.],\n",
       "       [0., 5., 0., ..., 0., 0., 0.]])"
      ]
     },
     "execution_count": 20,
     "metadata": {},
     "output_type": "execute_result"
    }
   ],
   "source": [
    "matrix_rating = movie_rating.to_numpy()\n",
    "for i in range(len(matrix_rating)):\n",
    "    for j in range(len(matrix_rating[0])):\n",
    "        if np.isnan(matrix_rating[i, j]):\n",
    "            matrix_rating[i, j] = 0\n",
    "matrix_rating"
   ]
  },
  {
   "cell_type": "markdown",
   "id": "69a36b13",
   "metadata": {},
   "source": [
    "Normalizing the rating matrix"
   ]
  },
  {
   "cell_type": "code",
   "execution_count": 21,
   "id": "30b75f98",
   "metadata": {},
   "outputs": [],
   "source": [
    "matrix_rating_nor = (matrix_rating - matrix_rating.min())/(matrix_rating.max() - matrix_rating.min())"
   ]
  },
  {
   "cell_type": "code",
   "execution_count": 22,
   "id": "31acbdbe",
   "metadata": {},
   "outputs": [
    {
     "data": {
      "text/plain": [
       "array([[1. , 0.6, 0.8, ..., 0. , 0. , 0. ],\n",
       "       [0.8, 0. , 0. , ..., 0. , 0. , 0. ],\n",
       "       [0. , 0. , 0. , ..., 0. , 0. , 0. ],\n",
       "       ...,\n",
       "       [1. , 0. , 0. , ..., 0. , 0. , 0. ],\n",
       "       [0. , 0. , 0. , ..., 0. , 0. , 0. ],\n",
       "       [0. , 1. , 0. , ..., 0. , 0. , 0. ]])"
      ]
     },
     "execution_count": 22,
     "metadata": {},
     "output_type": "execute_result"
    }
   ],
   "source": [
    "matrix_rating_nor"
   ]
  },
  {
   "cell_type": "markdown",
   "id": "a9caff2a",
   "metadata": {},
   "source": [
    "This function when given input as Rating matrix returns first 80% users data as training 10% for validation and rest 10% for testing."
   ]
  },
  {
   "cell_type": "code",
   "execution_count": 23,
   "id": "d93a1c09",
   "metadata": {},
   "outputs": [],
   "source": [
    "def split(matrix):\n",
    "    size = int(0.8*matrix.shape[0])\n",
    "    Train = matrix[:size, :]\n",
    "    Val = matrix[size:size + int(0.1*matrix.shape[0]), :]\n",
    "    Test = matrix[size + int(0.1*matrix.shape[0]): , :]\n",
    "    return Train, Val, Test"
   ]
  },
  {
   "cell_type": "markdown",
   "id": "0f1155cc",
   "metadata": {},
   "source": [
    "Choosing different values for three hyperparameters namely latent features, learning rate and regularization term."
   ]
  },
  {
   "cell_type": "code",
   "execution_count": 24,
   "id": "b3d7a802",
   "metadata": {},
   "outputs": [
    {
     "data": {
      "text/plain": [
       "[[3, 0.008, 0.1],\n",
       " [3, 0.008, 0.3],\n",
       " [3, 0.008, 0.5],\n",
       " [3, 0.005, 0.1],\n",
       " [3, 0.005, 0.3],\n",
       " [3, 0.005, 0.5],\n",
       " [3, 0.001, 0.1],\n",
       " [3, 0.001, 0.3],\n",
       " [3, 0.001, 0.5],\n",
       " [4, 0.008, 0.1],\n",
       " [4, 0.008, 0.3],\n",
       " [4, 0.008, 0.5],\n",
       " [4, 0.005, 0.1],\n",
       " [4, 0.005, 0.3],\n",
       " [4, 0.005, 0.5],\n",
       " [4, 0.001, 0.1],\n",
       " [4, 0.001, 0.3],\n",
       " [4, 0.001, 0.5],\n",
       " [5, 0.008, 0.1],\n",
       " [5, 0.008, 0.3],\n",
       " [5, 0.008, 0.5],\n",
       " [5, 0.005, 0.1],\n",
       " [5, 0.005, 0.3],\n",
       " [5, 0.005, 0.5],\n",
       " [5, 0.001, 0.1],\n",
       " [5, 0.001, 0.3],\n",
       " [5, 0.001, 0.5]]"
      ]
     },
     "execution_count": 24,
     "metadata": {},
     "output_type": "execute_result"
    }
   ],
   "source": [
    "latentfeatures = [3, 4, 5]\n",
    "alpha = [0.008, 0.005, 0.001]\n",
    "lamda = [0.1, 0.3, 0.5]\n",
    "parameter_set = [[k, a, l] for k in latentfeatures for a in alpha for l in lamda]\n",
    "parameter_set"
   ]
  },
  {
   "cell_type": "markdown",
   "id": "b3a7848e",
   "metadata": {},
   "source": [
    "This function when passed with rating matrix and hyperparameters defined above returns the matrix factors namely matrices P and Q and the RMSE at each epoch."
   ]
  },
  {
   "cell_type": "code",
   "execution_count": 86,
   "id": "6b6d01ff",
   "metadata": {},
   "outputs": [],
   "source": [
    "def factorization(train, K, alpha, lamda):\n",
    "    epochs = 10\n",
    "    rmse = []\n",
    "    P = np.random.normal(0, 1, (train.shape[0], K))\n",
    "    Q = np.random.normal(0, 1, (train.shape[1], K))\n",
    "    Q = Q.T\n",
    "    diff = 0\n",
    "    for e in range(epochs):\n",
    "        for i in range(train.shape[0]):\n",
    "            for j in range(train.shape[1]):\n",
    "                if train[i, j] > 0:\n",
    "                    diff = train[i,j] - np.dot(P[i, :], Q[:, j])\n",
    "                    for k in range(K):\n",
    "                        P[i, k] = P[i, k] + alpha*(diff*Q[k, j] - lamda*P[i, k])\n",
    "                        Q[k, j] = Q[k, j] + alpha*(diff*P[i, k] - lamda*Q[k, j])\n",
    "\n",
    "        rmse.append(RMSError(train, P, Q))\n",
    "            \n",
    "    return P, Q, rmse\n",
    "    "
   ]
  },
  {
   "cell_type": "markdown",
   "id": "ee095de6",
   "metadata": {},
   "source": [
    "This function when passed with rating matrix, P and Q gives the root mean squared error."
   ]
  },
  {
   "cell_type": "code",
   "execution_count": 87,
   "id": "9a85e70c",
   "metadata": {},
   "outputs": [],
   "source": [
    "def RMSError(X, Y, Z):\n",
    "    return (np.sum(np.power((X - np.dot(Y, Z)), 2))/(X.shape[0]*X.shape[1]))**(0.5)\n",
    "    "
   ]
  },
  {
   "cell_type": "markdown",
   "id": "6f389e68",
   "metadata": {},
   "source": [
    "Function for K-Fold Cross Validation."
   ]
  },
  {
   "cell_type": "code",
   "execution_count": 88,
   "id": "a5317ea2",
   "metadata": {},
   "outputs": [],
   "source": [
    "def crossval_split(X, C, c):\n",
    "    part = X.shape[0]//C\n",
    "    B = [0]*C\n",
    "    for j in range(C):\n",
    "        B[j] = X[j*part: (j+1)*part, :]   \n",
    "    X_test = B[c][:, :] \n",
    "    trainx = [x[:] for i,x in enumerate(B) if i != c]\n",
    "    X_train = [item for sublist in trainx for item in sublist]\n",
    "    return np.array(X_train), np.array(X_test)"
   ]
  },
  {
   "cell_type": "markdown",
   "id": "f2aa25ef",
   "metadata": {},
   "source": [
    "This function tunes hyperparameter by taking one set of hyperparameter and then sending the training data for cross validation and then calculating average RMSE. At the end, the hyperparameters that gives the minimum RMSE are chosen."
   ]
  },
  {
   "cell_type": "code",
   "execution_count": 89,
   "id": "27a49cd6",
   "metadata": {},
   "outputs": [],
   "source": [
    "def hyperparameterTuning(X):\n",
    "    C = 5\n",
    "    l = X.shape[0]//C\n",
    "    s = len(parameter_set)\n",
    "    Rmse = []\n",
    "    Rmse_mean = []\n",
    "    err = 0\n",
    "    for i in range(s):\n",
    "        K, alpha, lamda = parameter_set[i]\n",
    "        for j in range(C):\n",
    "            xTrain = crossval_split(X, C, j)[0]\n",
    "            xTest = crossval_split(X, C, j)[1]\n",
    "            p, q = factorization(X , K, alpha, lamda)[0:2]\n",
    "            p_test = np.array(p[j*l: (j+1)*l, :])\n",
    "            q_test = q\n",
    "            Rmse.append(RMSError(xTest, p_test, q_test))\n",
    "        Rmse_mean.append([np.mean(Rmse), K, alpha, lamda])   \n",
    "    er, best_K, best_alpha, best_lamda = min(Rmse_mean, key=lambda x: x[0])\n",
    "    return er, best_K, best_alpha, best_lamda"
   ]
  },
  {
   "cell_type": "code",
   "execution_count": 90,
   "id": "011f2e0e",
   "metadata": {},
   "outputs": [],
   "source": [
    "Train, Val, Test = split(matrix_rating_nor)"
   ]
  },
  {
   "cell_type": "code",
   "execution_count": 91,
   "id": "690e3c72",
   "metadata": {},
   "outputs": [],
   "source": [
    "train_err, best_K, best_alpha, best_lamda = hyperparameterTuning(Train)"
   ]
  },
  {
   "cell_type": "markdown",
   "id": "4ca8e7da",
   "metadata": {},
   "source": [
    "Error on the training data when passed best hyperparameters using hyperparameter tuning."
   ]
  },
  {
   "cell_type": "code",
   "execution_count": 92,
   "id": "d3721fd7",
   "metadata": {},
   "outputs": [
    {
     "data": {
      "text/plain": [
       "0.43326028931299304"
      ]
     },
     "execution_count": 92,
     "metadata": {},
     "output_type": "execute_result"
    }
   ],
   "source": [
    "train_err"
   ]
  },
  {
   "cell_type": "code",
   "execution_count": 93,
   "id": "c226732f",
   "metadata": {},
   "outputs": [
    {
     "data": {
      "text/plain": [
       "3"
      ]
     },
     "execution_count": 93,
     "metadata": {},
     "output_type": "execute_result"
    }
   ],
   "source": [
    "best_K"
   ]
  },
  {
   "cell_type": "code",
   "execution_count": 94,
   "id": "3e276db9",
   "metadata": {},
   "outputs": [
    {
     "data": {
      "text/plain": [
       "0.008"
      ]
     },
     "execution_count": 94,
     "metadata": {},
     "output_type": "execute_result"
    }
   ],
   "source": [
    "best_alpha"
   ]
  },
  {
   "cell_type": "code",
   "execution_count": 95,
   "id": "e50a08e2",
   "metadata": {},
   "outputs": [
    {
     "data": {
      "text/plain": [
       "0.5"
      ]
     },
     "execution_count": 95,
     "metadata": {},
     "output_type": "execute_result"
    }
   ],
   "source": [
    "best_lamda"
   ]
  },
  {
   "cell_type": "markdown",
   "id": "3b73186f",
   "metadata": {},
   "source": [
    "Now using the above found best latent feature, learning rate and regularization coefficient, P and Q for validation set are calculated to report RMSE at validation set."
   ]
  },
  {
   "cell_type": "code",
   "execution_count": 96,
   "id": "5fe559f2",
   "metadata": {},
   "outputs": [],
   "source": [
    "P_train, Q_train, Err_train = factorization(Train, best_K, best_alpha, best_lamda)"
   ]
  },
  {
   "cell_type": "code",
   "execution_count": 114,
   "id": "4825c3b7",
   "metadata": {
    "scrolled": false
   },
   "outputs": [],
   "source": [
    "P_val, Q_val, Err_val = factorization(Val, best_K, best_alpha, best_lamda)"
   ]
  },
  {
   "cell_type": "code",
   "execution_count": 115,
   "id": "2a542914",
   "metadata": {},
   "outputs": [
    {
     "data": {
      "text/plain": [
       "0.2667241958774694"
      ]
     },
     "execution_count": 115,
     "metadata": {},
     "output_type": "execute_result"
    }
   ],
   "source": [
    "RMSError(Val, P_val, Q_val)"
   ]
  },
  {
   "cell_type": "markdown",
   "id": "500c8bbe",
   "metadata": {},
   "source": [
    "Now using the above found best latent feature, learning rate and regularization coefficient, P and Q for test set are calculated to report RMSE at Test set."
   ]
  },
  {
   "cell_type": "code",
   "execution_count": 116,
   "id": "90fb9ded",
   "metadata": {},
   "outputs": [],
   "source": [
    "P_test, Q_test, Err_test  = factorization(Test, best_K, best_alpha, best_lamda)"
   ]
  },
  {
   "cell_type": "code",
   "execution_count": 117,
   "id": "896fc450",
   "metadata": {},
   "outputs": [
    {
     "data": {
      "text/plain": [
       "0.24065742835925638"
      ]
     },
     "execution_count": 117,
     "metadata": {},
     "output_type": "execute_result"
    }
   ],
   "source": [
    "RMSError(Test, P_test, Q_test)"
   ]
  },
  {
   "cell_type": "markdown",
   "id": "49308f5a",
   "metadata": {},
   "source": [
    "Plot showing RMSE for training, validation and test at each epoch."
   ]
  },
  {
   "cell_type": "code",
   "execution_count": 101,
   "id": "dfe89b75",
   "metadata": {},
   "outputs": [
    {
     "data": {
      "image/png": "[encoded data removed]",
      "text/plain": [
       "<Figure size 720x576 with 1 Axes>"
      ]
     },
     "metadata": {
      "needs_background": "light"
     },
     "output_type": "display_data"
    }
   ],
   "source": [
    "plt.figure(figsize=(10,8))\n",
    "plt.plot(Err_train, label = 'Train RMSE')\n",
    "plt.plot(Err_val,label = 'Val RMSE')\n",
    "plt.plot(Err_test,label = 'Test RMSE')\n",
    "plt.xlabel('Number of Epochs')\n",
    "plt.ylabel('RMSE')\n",
    "plt.legend()\n",
    "plt.show()"
   ]
  },
  {
   "cell_type": "markdown",
   "id": "daf3f84a",
   "metadata": {},
   "source": [
    "# Exercise 3: Recommender Systems using matrix factorization sckitlearn"
   ]
  },
  {
   "cell_type": "code",
   "execution_count": 102,
   "id": "06726b47",
   "metadata": {},
   "outputs": [],
   "source": [
    "from sklearn.decomposition import NMF"
   ]
  },
  {
   "cell_type": "markdown",
   "id": "a1bf166e",
   "metadata": {},
   "source": [
    "Since Non matrix factorization uses coordinate descent as optimization technique to update P and Q, no learning rate is there as in the case of stochastic gradient descent."
   ]
  },
  {
   "cell_type": "code",
   "execution_count": 103,
   "id": "b46074a6",
   "metadata": {},
   "outputs": [
    {
     "data": {
      "text/plain": [
       "[[3, 0.1],\n",
       " [3, 0.3],\n",
       " [3, 0.5],\n",
       " [4, 0.1],\n",
       " [4, 0.3],\n",
       " [4, 0.5],\n",
       " [5, 0.1],\n",
       " [5, 0.3],\n",
       " [5, 0.5]]"
      ]
     },
     "execution_count": 103,
     "metadata": {},
     "output_type": "execute_result"
    }
   ],
   "source": [
    "parameter_set_2 = [[k, l] for k in latentfeatures for l in lamda]\n",
    "parameter_set_2"
   ]
  },
  {
   "cell_type": "code",
   "execution_count": 160,
   "id": "eed10c67",
   "metadata": {},
   "outputs": [],
   "source": [
    "def hyperparameterTuning_2(X):\n",
    "    C = 3\n",
    "    l = X.shape[0]//C\n",
    "    s = len(parameter_set_2)\n",
    "    Rmse = []\n",
    "    Rmse_mean = []\n",
    "    err = 0\n",
    "    for i in range(s):\n",
    "        K, lamda = parameter_set_2[i]\n",
    "        for j in range(C):\n",
    "            xTrain = crossval_split(X, C, j)[0]\n",
    "            xTest = crossval_split(X, C, j)[1]\n",
    "            model = NMF(n_components = K, alpha = lamda, init='random', random_state=0, max_iter = 500)\n",
    "            p = model.fit_transform(X)\n",
    "            q = model.components_\n",
    "            p_test = np.array(p[j*l: (j+1)*l, :])\n",
    "            q_test = q\n",
    "            Rmse.append(RMSError(xTest, p_test, q_test))\n",
    "        Rmse_mean.append([np.mean(Rmse), K, lamda])   \n",
    "    er, best_K, best_lamda = min(Rmse_mean, key=lambda x: x[0])\n",
    "    return er, best_K, best_lamda"
   ]
  },
  {
   "cell_type": "code",
   "execution_count": 161,
   "id": "a4b9dde1",
   "metadata": {},
   "outputs": [],
   "source": [
    "Train_err, Best_K, Best_lamda = hyperparameterTuning_2(Train)"
   ]
  },
  {
   "cell_type": "markdown",
   "id": "0e2898fe",
   "metadata": {},
   "source": [
    "Best found hyperparameters."
   ]
  },
  {
   "cell_type": "code",
   "execution_count": 163,
   "id": "a21e3965",
   "metadata": {},
   "outputs": [
    {
     "data": {
      "text/plain": [
       "5"
      ]
     },
     "execution_count": 163,
     "metadata": {},
     "output_type": "execute_result"
    }
   ],
   "source": [
    "Best_K"
   ]
  },
  {
   "cell_type": "code",
   "execution_count": 164,
   "id": "17876ac1",
   "metadata": {},
   "outputs": [
    {
     "data": {
      "text/plain": [
       "0.5"
      ]
     },
     "execution_count": 164,
     "metadata": {},
     "output_type": "execute_result"
    }
   ],
   "source": [
    "Best_lamda"
   ]
  },
  {
   "cell_type": "markdown",
   "id": "ae9d4e40",
   "metadata": {},
   "source": [
    "Calculating the RMSE for Training Set."
   ]
  },
  {
   "cell_type": "code",
   "execution_count": 169,
   "id": "f1387c98",
   "metadata": {},
   "outputs": [],
   "source": [
    "model_train = NMF(n_components = Best_K, alpha = Best_lamda, init='random', random_state=0)\n",
    "p_train = model_train.fit_transform(Train)\n",
    "q_train = model_train.components_"
   ]
  },
  {
   "cell_type": "code",
   "execution_count": 170,
   "id": "698c5b97",
   "metadata": {},
   "outputs": [
    {
     "data": {
      "text/plain": [
       "0.14425826831792915"
      ]
     },
     "execution_count": 170,
     "metadata": {},
     "output_type": "execute_result"
    }
   ],
   "source": [
    "RMSError(Train, p_train, q_train)"
   ]
  },
  {
   "cell_type": "markdown",
   "id": "9ef37e2f",
   "metadata": {},
   "source": [
    "Calculating RMSE for validation set"
   ]
  },
  {
   "cell_type": "code",
   "execution_count": 165,
   "id": "84df032e",
   "metadata": {},
   "outputs": [
    {
     "name": "stderr",
     "output_type": "stream",
     "text": [
      "C:\\Users\\simra\\anaconda3\\lib\\site-packages\\sklearn\\decomposition\\_nmf.py:1090: ConvergenceWarning: Maximum number of iterations 200 reached. Increase it to improve convergence.\n",
      "  warnings.warn(\"Maximum number of iterations %d reached. Increase it to\"\n"
     ]
    }
   ],
   "source": [
    "model_val = NMF(n_components = Best_K, alpha = Best_lamda, init='random', random_state=0)\n",
    "p_val = model_val.fit_transform(Val)\n",
    "q_val = model_val.components_"
   ]
  },
  {
   "cell_type": "code",
   "execution_count": 166,
   "id": "446266f3",
   "metadata": {},
   "outputs": [
    {
     "data": {
      "text/plain": [
       "0.12904443854969225"
      ]
     },
     "execution_count": 166,
     "metadata": {},
     "output_type": "execute_result"
    }
   ],
   "source": [
    "RMSError(Val, p_val, q_val)"
   ]
  },
  {
   "cell_type": "markdown",
   "id": "2cac7dd5",
   "metadata": {},
   "source": [
    "Calculating RMSE for Test set."
   ]
  },
  {
   "cell_type": "code",
   "execution_count": 167,
   "id": "fb4711e6",
   "metadata": {},
   "outputs": [],
   "source": [
    "model_test = NMF(n_components = Best_K, alpha = Best_lamda, init='random', random_state=0)\n",
    "p_test = model_test.fit_transform(Test)\n",
    "q_test = model_test.components_"
   ]
  },
  {
   "cell_type": "code",
   "execution_count": 168,
   "id": "5a7e7822",
   "metadata": {},
   "outputs": [
    {
     "data": {
      "text/plain": [
       "0.13970454174280483"
      ]
     },
     "execution_count": 168,
     "metadata": {},
     "output_type": "execute_result"
    }
   ],
   "source": [
    "RMSError(Test, p_test, q_test)"
   ]
  },
  {
   "cell_type": "markdown",
   "id": "7efff6a3",
   "metadata": {},
   "source": [
    "Using Sklearn with 500 iterations the following are the RMSE on train, validation and test sets."
   ]
  },
  {
   "cell_type": "code",
   "execution_count": 173,
   "id": "8c4f5326",
   "metadata": {},
   "outputs": [
    {
     "data": {
      "text/html": [
       "<div>\n",
       "<style scoped>\n",
       "    .dataframe tbody tr th:only-of-type {\n",
       "        vertical-align: middle;\n",
       "    }\n",
       "\n",
       "    .dataframe tbody tr th {\n",
       "        vertical-align: top;\n",
       "    }\n",
       "\n",
       "    .dataframe thead th {\n",
       "        text-align: right;\n",
       "    }\n",
       "</style>\n",
       "<table border=\"1\" class=\"dataframe\">\n",
       "  <thead>\n",
       "    <tr style=\"text-align: right;\">\n",
       "      <th></th>\n",
       "      <th>Set</th>\n",
       "      <th>RMSE</th>\n",
       "    </tr>\n",
       "  </thead>\n",
       "  <tbody>\n",
       "    <tr>\n",
       "      <th>0</th>\n",
       "      <td>Train</td>\n",
       "      <td>0.144258</td>\n",
       "    </tr>\n",
       "    <tr>\n",
       "      <th>1</th>\n",
       "      <td>Validation</td>\n",
       "      <td>0.129044</td>\n",
       "    </tr>\n",
       "    <tr>\n",
       "      <th>2</th>\n",
       "      <td>Test</td>\n",
       "      <td>0.139705</td>\n",
       "    </tr>\n",
       "  </tbody>\n",
       "</table>\n",
       "</div>"
      ],
      "text/plain": [
       "          Set      RMSE\n",
       "0       Train  0.144258\n",
       "1  Validation  0.129044\n",
       "2        Test  0.139705"
      ]
     },
     "execution_count": 173,
     "metadata": {},
     "output_type": "execute_result"
    }
   ],
   "source": [
    "pd.DataFrame({'Set': ['Train', 'Validation', 'Test'], 'RMSE': [RMSError(Train, p_train, q_train), RMSError(Val, p_val,\n",
    "                            q_val), RMSError(Test, p_test, q_test)]})"
   ]
  },
  {
   "cell_type": "markdown",
   "id": "e7690103",
   "metadata": {},
   "source": [
    "Using SGD for matrix factorization with 10 iterations the following are the RMSE on train, validation and test sets."
   ]
  },
  {
   "cell_type": "code",
   "execution_count": 174,
   "id": "b244a1b1",
   "metadata": {},
   "outputs": [
    {
     "data": {
      "text/html": [
       "<div>\n",
       "<style scoped>\n",
       "    .dataframe tbody tr th:only-of-type {\n",
       "        vertical-align: middle;\n",
       "    }\n",
       "\n",
       "    .dataframe tbody tr th {\n",
       "        vertical-align: top;\n",
       "    }\n",
       "\n",
       "    .dataframe thead th {\n",
       "        text-align: right;\n",
       "    }\n",
       "</style>\n",
       "<table border=\"1\" class=\"dataframe\">\n",
       "  <thead>\n",
       "    <tr style=\"text-align: right;\">\n",
       "      <th></th>\n",
       "      <th>Set</th>\n",
       "      <th>RMSE</th>\n",
       "    </tr>\n",
       "  </thead>\n",
       "  <tbody>\n",
       "    <tr>\n",
       "      <th>0</th>\n",
       "      <td>Train</td>\n",
       "      <td>0.433260</td>\n",
       "    </tr>\n",
       "    <tr>\n",
       "      <th>1</th>\n",
       "      <td>Validation</td>\n",
       "      <td>0.266724</td>\n",
       "    </tr>\n",
       "    <tr>\n",
       "      <th>2</th>\n",
       "      <td>Test</td>\n",
       "      <td>0.240657</td>\n",
       "    </tr>\n",
       "  </tbody>\n",
       "</table>\n",
       "</div>"
      ],
      "text/plain": [
       "          Set      RMSE\n",
       "0       Train  0.433260\n",
       "1  Validation  0.266724\n",
       "2        Test  0.240657"
      ]
     },
     "execution_count": 174,
     "metadata": {},
     "output_type": "execute_result"
    }
   ],
   "source": [
    "pd.DataFrame({'Set': ['Train', 'Validation', 'Test'], 'RMSE': [train_err, RMSError(Val, P_val, Q_val)\n",
    "                                                               , RMSError(Test, P_test, Q_test)]})"
   ]
  }
 ],
 "metadata": {
  "kernelspec": {
   "display_name": "Python 3 (ipykernel)",
   "language": "python",
   "name": "python3"
  },
  "language_info": {
   "codemirror_mode": {
    "name": "ipython",
    "version": 3
   },
   "file_extension": ".py",
   "mimetype": "text/x-python",
   "name": "python",
   "nbconvert_exporter": "python",
   "pygments_lexer": "ipython3",
   "version": "3.9.7"
  }
 },
 "nbformat": 4,
 "nbformat_minor": 5
}
