{
 "cells": [
  {
   "cell_type": "markdown",
   "id": "d3c8bf81",
   "metadata": {},
   "source": [
    "# Machine Learning Lab 8\n",
    "\n",
    "# Simran Kaur\n",
    "\n",
    "# 311443"
   ]
  },
  {
   "cell_type": "markdown",
   "id": "162348a6",
   "metadata": {},
   "source": [
    "# Exercise 1: Optical Character Recognition via Neural Networks"
   ]
  },
  {
   "cell_type": "markdown",
   "id": "5b9e3399",
   "metadata": {},
   "source": [
    "Importing Required libraries"
   ]
  },
  {
   "cell_type": "code",
   "execution_count": 7,
   "id": "f5f6fcd1",
   "metadata": {},
   "outputs": [],
   "source": [
    "from sklearn import datasets\n",
    "from sklearn.model_selection import train_test_split, cross_val_score\n",
    "import warnings\n",
    "import pandas as pd\n",
    "import numpy as np\n",
    "import matplotlib.pyplot as plt"
   ]
  },
  {
   "cell_type": "markdown",
   "id": "6f7e98d4",
   "metadata": {},
   "source": [
    "Loading MNIST Dataset"
   ]
  },
  {
   "cell_type": "code",
   "execution_count": 8,
   "id": "f9bf53e7",
   "metadata": {},
   "outputs": [],
   "source": [
    "mnist = datasets.load_digits()"
   ]
  },
  {
   "cell_type": "code",
   "execution_count": 9,
   "id": "d23df933",
   "metadata": {},
   "outputs": [],
   "source": [
    "X = mnist.data\n",
    "y = mnist.target"
   ]
  },
  {
   "cell_type": "markdown",
   "id": "80aee9e6",
   "metadata": {},
   "source": [
    "Splitting the data into train and test"
   ]
  },
  {
   "cell_type": "code",
   "execution_count": 14,
   "id": "1997cdbe",
   "metadata": {},
   "outputs": [],
   "source": [
    "X_train, X_test, y_train, y_test = train_test_split(X, y, test_size = 0.2)"
   ]
  },
  {
   "cell_type": "code",
   "execution_count": 12,
   "id": "7e9ffb9b",
   "metadata": {},
   "outputs": [],
   "source": [
    "from sklearn.neural_network import MLPClassifier\n",
    "from sklearn.model_selection import GridSearchCV"
   ]
  },
  {
   "cell_type": "markdown",
   "id": "9371e37c",
   "metadata": {},
   "source": [
    "Choosing different hyperparameters for training Neural Network"
   ]
  },
  {
   "cell_type": "code",
   "execution_count": 19,
   "id": "0657f421",
   "metadata": {
    "scrolled": false
   },
   "outputs": [
    {
     "data": {
      "text/plain": [
       "GridSearchCV(cv=5, estimator=MLPClassifier(alpha=0, max_iter=500), n_jobs=-1,\n",
       "             param_grid={'activation': ['tanh', 'relu', 'logistic'],\n",
       "                         'hidden_layer_sizes': [(20,), (40,), (60,)],\n",
       "                         'solver': ['lbfgs', 'sgd', 'adam']})"
      ]
     },
     "execution_count": 19,
     "metadata": {},
     "output_type": "execute_result"
    }
   ],
   "source": [
    "parameter_space = {\n",
    "    'hidden_layer_sizes': [(20,),(40,), (60,)],\n",
    "    'activation': ['tanh', 'relu', 'logistic'],\n",
    "    'solver': ['lbfgs', 'sgd', 'adam']}\n",
    "nn = MLPClassifier(max_iter = 500, alpha = 0)\n",
    "clf = GridSearchCV(nn, parameter_space, n_jobs=-1, cv=5)\n",
    "clf.fit(X_train, y_train)"
   ]
  },
  {
   "cell_type": "markdown",
   "id": "9abb0ee6",
   "metadata": {},
   "source": [
    "Best Hyperparameters found:"
   ]
  },
  {
   "cell_type": "code",
   "execution_count": 20,
   "id": "3a75894b",
   "metadata": {},
   "outputs": [
    {
     "name": "stdout",
     "output_type": "stream",
     "text": [
      "Best parameters found:\n",
      " {'activation': 'logistic', 'hidden_layer_sizes': (60,), 'solver': 'adam'}\n",
      "Best score:\n",
      " 0.9763404955478127\n"
     ]
    }
   ],
   "source": [
    "print('Best parameters found:\\n', clf.best_params_)\n",
    "print('Best score:\\n', clf.best_score_)"
   ]
  },
  {
   "cell_type": "markdown",
   "id": "a2cef89b",
   "metadata": {},
   "source": [
    "Taking the hyperparameters found above and finding the accuracy on the Test set."
   ]
  },
  {
   "cell_type": "code",
   "execution_count": 21,
   "id": "1cda0914",
   "metadata": {},
   "outputs": [
    {
     "name": "stdout",
     "output_type": "stream",
     "text": [
      "Accuracy on the test set is 0.975\n"
     ]
    }
   ],
   "source": [
    "nn_test = MLPClassifier(solver = 'adam', alpha = 0, hidden_layer_sizes = (60,), max_iter = 500, activation = 'logistic').fit(\n",
    "    X_train ,y_train)\n",
    "print(f'Accuracy on the test set is {nn_test.score(X_test,y_test)}')\n"
   ]
  },
  {
   "cell_type": "markdown",
   "id": "9e5206a9",
   "metadata": {},
   "source": [
    "Since Regularization is not there so it is possible that model performs better on training than test because of overfitting."
   ]
  }
 ],
 "metadata": {
  "kernelspec": {
   "display_name": "Python 3 (ipykernel)",
   "language": "python",
   "name": "python3"
  },
  "language_info": {
   "codemirror_mode": {
    "name": "ipython",
    "version": 3
   },
   "file_extension": ".py",
   "mimetype": "text/x-python",
   "name": "python",
   "nbconvert_exporter": "python",
   "pygments_lexer": "ipython3",
   "version": "3.9.7"
  }
 },
 "nbformat": 4,
 "nbformat_minor": 5
}
