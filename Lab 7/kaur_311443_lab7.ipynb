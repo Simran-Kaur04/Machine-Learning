{
 "cells": [
  {
   "cell_type": "markdown",
   "id": "f48a840f",
   "metadata": {},
   "source": [
    "# MACHINE LEARNING LAB\n",
    "\n",
    "# SIMRAN KAUR\n",
    "\n",
    "# 311443\n",
    "\n",
    "# LAB 7"
   ]
  },
  {
   "cell_type": "markdown",
   "id": "bb4f7b74",
   "metadata": {},
   "source": [
    "# Exercise 0: Dataset Preprocessing"
   ]
  },
  {
   "cell_type": "code",
   "execution_count": 133,
   "id": "c69ff99b",
   "metadata": {},
   "outputs": [],
   "source": [
    "import pandas as pd\n",
    "import numpy as np\n",
    "from scipy import spatial\n",
    "from scipy.spatial import distance\n",
    "import matplotlib.pyplot as plt\n",
    "import random\n",
    "import os"
   ]
  },
  {
   "cell_type": "markdown",
   "id": "91703e7b",
   "metadata": {},
   "source": [
    "First we will merge training and test sets into one dataframe and if its entries are not null, directly append that dataframe to a list of dataframes or if the length of different time series in a same dataframe are not equal then check after zero padding if its still null.\n",
    "\n",
    "Create another list which stores all dataframes with missing values for further computation on them."
   ]
  },
  {
   "cell_type": "code",
   "execution_count": 134,
   "id": "1a72296f",
   "metadata": {},
   "outputs": [],
   "source": [
    " def get_dataframe():\n",
    "    get_df = []            # list containing dataframes\n",
    "    missing_df = []                    # list containing dataframes with missing values\n",
    "    directory_name_df = []                              # list containing name of dataframes\n",
    "    missing_name_df = []                                            # list containing name of dataframes having missing values\n",
    "                              # the name list are just for knowing which dataframe we are working with\n",
    "    main = 'C:\\\\Users\\\\simra\\\\Downloads\\\\UCRArchive_2018\\\\UCRArchive_2018\\\\'\n",
    "    directory = os.scandir(main)\n",
    "    for i in directory:\n",
    "        newpath = os.path.join(i)\n",
    "        trainpath = newpath + \"\\\\\" + newpath.split(\"\\\\\")[-1] + \"_TRAIN.tsv\"\n",
    "        testpath = newpath + \"\\\\\" + newpath.split(\"\\\\\")[-1] + \"_TEST.tsv\"\n",
    "        traindf = pd.read_csv(trainpath, sep = \"\\t\", header = None)\n",
    "        testdf = pd.read_csv(testpath, sep = \"\\t\", header = None)\n",
    "        newdf = traindf.append(testdf,ignore_index = True)\n",
    "        if newdf.isnull().values.any():                # to check if length of time series is not same across entire dataframe\n",
    "            X = newdf.to_numpy()\n",
    "            m, n = np.shape(X)\n",
    "            for k in range(m):\n",
    "                for j in range(n-1, -1, -1):              # padding the time series with zeros\n",
    "                    if np.isnan(X[k][j]):\n",
    "                        X[k][j] = 0\n",
    "                    else:\n",
    "                        break\n",
    "            if np.isnan(np.sum(X)):                      # to check if dataframe has still any null values\n",
    "                missing_df.append(pd.DataFrame(X))                       # append it to list of dataframe having missing values\n",
    "                missing_name_df.append(newpath.split(\"\\\\\")[-1])\n",
    "            else:\n",
    "                get_df.append(pd.DataFrame(X))\n",
    "                directory_name_df.append(newpath.split(\"\\\\\")[-1])\n",
    "        else:        \n",
    "            get_df.append(pd.DataFrame(newdf))\n",
    "            directory_name_df.append(newpath.split(\"\\\\\")[-1])\n",
    "    return get_df, missing_df, directory_name_df, missing_name_df\n"
   ]
  },
  {
   "cell_type": "markdown",
   "id": "a204a232",
   "metadata": {},
   "source": [
    "I have made two major lists containing\n",
    "\n",
    "1 List containing all dataframes other than the one that have missing values\n",
    "\n",
    "2 List containing dataframes that have missing values and will be imputed using KNN"
   ]
  },
  {
   "cell_type": "code",
   "execution_count": 197,
   "id": "c4a19e3c",
   "metadata": {},
   "outputs": [],
   "source": [
    "list_dfs, list_missing_dfs, list_df_names, list_missing_names = get_dataframe()"
   ]
  },
  {
   "cell_type": "markdown",
   "id": "ccd4b42f",
   "metadata": {},
   "source": [
    "Let's print one of the item of list_dfs to check if it's giving dataframe"
   ]
  },
  {
   "cell_type": "code",
   "execution_count": 136,
   "id": "2c8bcdac",
   "metadata": {
    "scrolled": false
   },
   "outputs": [
    {
     "name": "stdout",
     "output_type": "stream",
     "text": [
      "ACSF1\n"
     ]
    },
    {
     "data": {
      "text/html": [
       "<div>\n",
       "<style scoped>\n",
       "    .dataframe tbody tr th:only-of-type {\n",
       "        vertical-align: middle;\n",
       "    }\n",
       "\n",
       "    .dataframe tbody tr th {\n",
       "        vertical-align: top;\n",
       "    }\n",
       "\n",
       "    .dataframe thead th {\n",
       "        text-align: right;\n",
       "    }\n",
       "</style>\n",
       "<table border=\"1\" class=\"dataframe\">\n",
       "  <thead>\n",
       "    <tr style=\"text-align: right;\">\n",
       "      <th></th>\n",
       "      <th>0</th>\n",
       "      <th>1</th>\n",
       "      <th>2</th>\n",
       "      <th>3</th>\n",
       "      <th>4</th>\n",
       "      <th>5</th>\n",
       "      <th>6</th>\n",
       "      <th>7</th>\n",
       "      <th>8</th>\n",
       "      <th>9</th>\n",
       "      <th>...</th>\n",
       "      <th>1451</th>\n",
       "      <th>1452</th>\n",
       "      <th>1453</th>\n",
       "      <th>1454</th>\n",
       "      <th>1455</th>\n",
       "      <th>1456</th>\n",
       "      <th>1457</th>\n",
       "      <th>1458</th>\n",
       "      <th>1459</th>\n",
       "      <th>1460</th>\n",
       "    </tr>\n",
       "  </thead>\n",
       "  <tbody>\n",
       "    <tr>\n",
       "      <th>0</th>\n",
       "      <td>9</td>\n",
       "      <td>-0.584754</td>\n",
       "      <td>-0.584754</td>\n",
       "      <td>1.730991</td>\n",
       "      <td>-0.584754</td>\n",
       "      <td>-0.584754</td>\n",
       "      <td>-0.584754</td>\n",
       "      <td>1.729917</td>\n",
       "      <td>-0.584754</td>\n",
       "      <td>-0.584754</td>\n",
       "      <td>...</td>\n",
       "      <td>1.732726</td>\n",
       "      <td>-0.584734</td>\n",
       "      <td>-0.583729</td>\n",
       "      <td>-0.578603</td>\n",
       "      <td>1.732726</td>\n",
       "      <td>-0.584734</td>\n",
       "      <td>-0.583729</td>\n",
       "      <td>-0.578603</td>\n",
       "      <td>1.732726</td>\n",
       "      <td>-0.584734</td>\n",
       "    </tr>\n",
       "    <tr>\n",
       "      <th>1</th>\n",
       "      <td>9</td>\n",
       "      <td>-0.591434</td>\n",
       "      <td>-0.511104</td>\n",
       "      <td>1.726820</td>\n",
       "      <td>-0.580422</td>\n",
       "      <td>-0.591434</td>\n",
       "      <td>-0.511104</td>\n",
       "      <td>1.727921</td>\n",
       "      <td>-0.580422</td>\n",
       "      <td>-0.591434</td>\n",
       "      <td>...</td>\n",
       "      <td>1.727396</td>\n",
       "      <td>-0.580731</td>\n",
       "      <td>-0.580731</td>\n",
       "      <td>-0.580731</td>\n",
       "      <td>1.727396</td>\n",
       "      <td>-0.580731</td>\n",
       "      <td>-0.580731</td>\n",
       "      <td>-0.580731</td>\n",
       "      <td>1.727396</td>\n",
       "      <td>-0.580731</td>\n",
       "    </tr>\n",
       "    <tr>\n",
       "      <th>2</th>\n",
       "      <td>9</td>\n",
       "      <td>-0.577945</td>\n",
       "      <td>-0.577945</td>\n",
       "      <td>1.730793</td>\n",
       "      <td>-0.577945</td>\n",
       "      <td>-0.578946</td>\n",
       "      <td>-0.564882</td>\n",
       "      <td>1.731094</td>\n",
       "      <td>-0.577829</td>\n",
       "      <td>-0.580956</td>\n",
       "      <td>...</td>\n",
       "      <td>1.734727</td>\n",
       "      <td>-0.577751</td>\n",
       "      <td>-0.580956</td>\n",
       "      <td>-0.549798</td>\n",
       "      <td>1.734727</td>\n",
       "      <td>-0.577751</td>\n",
       "      <td>-0.580956</td>\n",
       "      <td>-0.549798</td>\n",
       "      <td>1.734727</td>\n",
       "      <td>-0.577751</td>\n",
       "    </tr>\n",
       "    <tr>\n",
       "      <th>3</th>\n",
       "      <td>9</td>\n",
       "      <td>-0.588925</td>\n",
       "      <td>-0.538088</td>\n",
       "      <td>1.735718</td>\n",
       "      <td>-0.588716</td>\n",
       "      <td>-0.589962</td>\n",
       "      <td>-0.523551</td>\n",
       "      <td>1.735619</td>\n",
       "      <td>-0.588646</td>\n",
       "      <td>-0.588925</td>\n",
       "      <td>...</td>\n",
       "      <td>1.743664</td>\n",
       "      <td>-0.588876</td>\n",
       "      <td>-0.586852</td>\n",
       "      <td>-0.576483</td>\n",
       "      <td>1.743664</td>\n",
       "      <td>-0.588876</td>\n",
       "      <td>-0.586852</td>\n",
       "      <td>-0.576483</td>\n",
       "      <td>1.743664</td>\n",
       "      <td>-0.588876</td>\n",
       "    </tr>\n",
       "    <tr>\n",
       "      <th>4</th>\n",
       "      <td>9</td>\n",
       "      <td>-0.596633</td>\n",
       "      <td>-0.532188</td>\n",
       "      <td>1.718067</td>\n",
       "      <td>-0.592117</td>\n",
       "      <td>-0.596633</td>\n",
       "      <td>-0.532188</td>\n",
       "      <td>1.715241</td>\n",
       "      <td>-0.592117</td>\n",
       "      <td>-0.595605</td>\n",
       "      <td>...</td>\n",
       "      <td>1.743258</td>\n",
       "      <td>-0.592403</td>\n",
       "      <td>-0.591524</td>\n",
       "      <td>-0.575158</td>\n",
       "      <td>1.743258</td>\n",
       "      <td>-0.592403</td>\n",
       "      <td>-0.591524</td>\n",
       "      <td>-0.575158</td>\n",
       "      <td>1.743258</td>\n",
       "      <td>-0.592403</td>\n",
       "    </tr>\n",
       "    <tr>\n",
       "      <th>...</th>\n",
       "      <td>...</td>\n",
       "      <td>...</td>\n",
       "      <td>...</td>\n",
       "      <td>...</td>\n",
       "      <td>...</td>\n",
       "      <td>...</td>\n",
       "      <td>...</td>\n",
       "      <td>...</td>\n",
       "      <td>...</td>\n",
       "      <td>...</td>\n",
       "      <td>...</td>\n",
       "      <td>...</td>\n",
       "      <td>...</td>\n",
       "      <td>...</td>\n",
       "      <td>...</td>\n",
       "      <td>...</td>\n",
       "      <td>...</td>\n",
       "      <td>...</td>\n",
       "      <td>...</td>\n",
       "      <td>...</td>\n",
       "      <td>...</td>\n",
       "    </tr>\n",
       "    <tr>\n",
       "      <th>195</th>\n",
       "      <td>1</td>\n",
       "      <td>-0.865824</td>\n",
       "      <td>0.116534</td>\n",
       "      <td>1.665577</td>\n",
       "      <td>-0.664466</td>\n",
       "      <td>-0.668138</td>\n",
       "      <td>-0.668138</td>\n",
       "      <td>1.667320</td>\n",
       "      <td>-0.668138</td>\n",
       "      <td>-0.668138</td>\n",
       "      <td>...</td>\n",
       "      <td>1.672843</td>\n",
       "      <td>-0.664985</td>\n",
       "      <td>-0.842507</td>\n",
       "      <td>0.008064</td>\n",
       "      <td>1.672843</td>\n",
       "      <td>-0.664985</td>\n",
       "      <td>-0.842507</td>\n",
       "      <td>0.008064</td>\n",
       "      <td>1.672843</td>\n",
       "      <td>-0.664985</td>\n",
       "    </tr>\n",
       "    <tr>\n",
       "      <th>196</th>\n",
       "      <td>1</td>\n",
       "      <td>-0.631937</td>\n",
       "      <td>-0.631937</td>\n",
       "      <td>1.612754</td>\n",
       "      <td>-0.631937</td>\n",
       "      <td>-0.631937</td>\n",
       "      <td>-0.631937</td>\n",
       "      <td>1.602539</td>\n",
       "      <td>-0.631937</td>\n",
       "      <td>-0.631937</td>\n",
       "      <td>...</td>\n",
       "      <td>1.573765</td>\n",
       "      <td>-0.628213</td>\n",
       "      <td>-1.017398</td>\n",
       "      <td>0.088009</td>\n",
       "      <td>1.573765</td>\n",
       "      <td>-0.628213</td>\n",
       "      <td>-1.017398</td>\n",
       "      <td>0.088009</td>\n",
       "      <td>1.573765</td>\n",
       "      <td>-0.628213</td>\n",
       "    </tr>\n",
       "    <tr>\n",
       "      <th>197</th>\n",
       "      <td>1</td>\n",
       "      <td>-0.997077</td>\n",
       "      <td>0.108756</td>\n",
       "      <td>1.585963</td>\n",
       "      <td>-0.695920</td>\n",
       "      <td>-0.996043</td>\n",
       "      <td>0.106678</td>\n",
       "      <td>1.585752</td>\n",
       "      <td>-0.695931</td>\n",
       "      <td>-0.994998</td>\n",
       "      <td>...</td>\n",
       "      <td>1.589317</td>\n",
       "      <td>-0.695931</td>\n",
       "      <td>-0.996043</td>\n",
       "      <td>0.106678</td>\n",
       "      <td>1.589317</td>\n",
       "      <td>-0.695931</td>\n",
       "      <td>-0.996043</td>\n",
       "      <td>0.106678</td>\n",
       "      <td>1.589317</td>\n",
       "      <td>-0.695931</td>\n",
       "    </tr>\n",
       "    <tr>\n",
       "      <th>198</th>\n",
       "      <td>1</td>\n",
       "      <td>-0.891590</td>\n",
       "      <td>-0.752940</td>\n",
       "      <td>1.424231</td>\n",
       "      <td>-0.752324</td>\n",
       "      <td>-0.891590</td>\n",
       "      <td>-0.751933</td>\n",
       "      <td>1.421933</td>\n",
       "      <td>-0.752324</td>\n",
       "      <td>-0.892596</td>\n",
       "      <td>...</td>\n",
       "      <td>1.431407</td>\n",
       "      <td>-0.747132</td>\n",
       "      <td>-1.069707</td>\n",
       "      <td>0.481769</td>\n",
       "      <td>1.431407</td>\n",
       "      <td>-0.747132</td>\n",
       "      <td>-1.069707</td>\n",
       "      <td>0.481769</td>\n",
       "      <td>1.431407</td>\n",
       "      <td>-0.747132</td>\n",
       "    </tr>\n",
       "    <tr>\n",
       "      <th>199</th>\n",
       "      <td>1</td>\n",
       "      <td>-0.845868</td>\n",
       "      <td>-0.650711</td>\n",
       "      <td>1.561223</td>\n",
       "      <td>-0.650859</td>\n",
       "      <td>-0.845868</td>\n",
       "      <td>-0.650711</td>\n",
       "      <td>1.561076</td>\n",
       "      <td>-0.650859</td>\n",
       "      <td>-0.846880</td>\n",
       "      <td>...</td>\n",
       "      <td>1.553132</td>\n",
       "      <td>-0.646646</td>\n",
       "      <td>-0.989189</td>\n",
       "      <td>0.434901</td>\n",
       "      <td>1.553132</td>\n",
       "      <td>-0.646646</td>\n",
       "      <td>-0.989189</td>\n",
       "      <td>0.434901</td>\n",
       "      <td>1.553132</td>\n",
       "      <td>-0.646646</td>\n",
       "    </tr>\n",
       "  </tbody>\n",
       "</table>\n",
       "<p>200 rows × 1461 columns</p>\n",
       "</div>"
      ],
      "text/plain": [
       "     0         1         2         3         4         5         6     \\\n",
       "0       9 -0.584754 -0.584754  1.730991 -0.584754 -0.584754 -0.584754   \n",
       "1       9 -0.591434 -0.511104  1.726820 -0.580422 -0.591434 -0.511104   \n",
       "2       9 -0.577945 -0.577945  1.730793 -0.577945 -0.578946 -0.564882   \n",
       "3       9 -0.588925 -0.538088  1.735718 -0.588716 -0.589962 -0.523551   \n",
       "4       9 -0.596633 -0.532188  1.718067 -0.592117 -0.596633 -0.532188   \n",
       "..    ...       ...       ...       ...       ...       ...       ...   \n",
       "195     1 -0.865824  0.116534  1.665577 -0.664466 -0.668138 -0.668138   \n",
       "196     1 -0.631937 -0.631937  1.612754 -0.631937 -0.631937 -0.631937   \n",
       "197     1 -0.997077  0.108756  1.585963 -0.695920 -0.996043  0.106678   \n",
       "198     1 -0.891590 -0.752940  1.424231 -0.752324 -0.891590 -0.751933   \n",
       "199     1 -0.845868 -0.650711  1.561223 -0.650859 -0.845868 -0.650711   \n",
       "\n",
       "         7         8         9     ...      1451      1452      1453  \\\n",
       "0    1.729917 -0.584754 -0.584754  ...  1.732726 -0.584734 -0.583729   \n",
       "1    1.727921 -0.580422 -0.591434  ...  1.727396 -0.580731 -0.580731   \n",
       "2    1.731094 -0.577829 -0.580956  ...  1.734727 -0.577751 -0.580956   \n",
       "3    1.735619 -0.588646 -0.588925  ...  1.743664 -0.588876 -0.586852   \n",
       "4    1.715241 -0.592117 -0.595605  ...  1.743258 -0.592403 -0.591524   \n",
       "..        ...       ...       ...  ...       ...       ...       ...   \n",
       "195  1.667320 -0.668138 -0.668138  ...  1.672843 -0.664985 -0.842507   \n",
       "196  1.602539 -0.631937 -0.631937  ...  1.573765 -0.628213 -1.017398   \n",
       "197  1.585752 -0.695931 -0.994998  ...  1.589317 -0.695931 -0.996043   \n",
       "198  1.421933 -0.752324 -0.892596  ...  1.431407 -0.747132 -1.069707   \n",
       "199  1.561076 -0.650859 -0.846880  ...  1.553132 -0.646646 -0.989189   \n",
       "\n",
       "         1454      1455      1456      1457      1458      1459      1460  \n",
       "0   -0.578603  1.732726 -0.584734 -0.583729 -0.578603  1.732726 -0.584734  \n",
       "1   -0.580731  1.727396 -0.580731 -0.580731 -0.580731  1.727396 -0.580731  \n",
       "2   -0.549798  1.734727 -0.577751 -0.580956 -0.549798  1.734727 -0.577751  \n",
       "3   -0.576483  1.743664 -0.588876 -0.586852 -0.576483  1.743664 -0.588876  \n",
       "4   -0.575158  1.743258 -0.592403 -0.591524 -0.575158  1.743258 -0.592403  \n",
       "..        ...       ...       ...       ...       ...       ...       ...  \n",
       "195  0.008064  1.672843 -0.664985 -0.842507  0.008064  1.672843 -0.664985  \n",
       "196  0.088009  1.573765 -0.628213 -1.017398  0.088009  1.573765 -0.628213  \n",
       "197  0.106678  1.589317 -0.695931 -0.996043  0.106678  1.589317 -0.695931  \n",
       "198  0.481769  1.431407 -0.747132 -1.069707  0.481769  1.431407 -0.747132  \n",
       "199  0.434901  1.553132 -0.646646 -0.989189  0.434901  1.553132 -0.646646  \n",
       "\n",
       "[200 rows x 1461 columns]"
      ]
     },
     "execution_count": 136,
     "metadata": {},
     "output_type": "execute_result"
    }
   ],
   "source": [
    "print(list_df_names[0])\n",
    "list_dfs[0]"
   ]
  },
  {
   "cell_type": "markdown",
   "id": "e0499f19",
   "metadata": {},
   "source": [
    "Similar for the list_missing_dfs"
   ]
  },
  {
   "cell_type": "code",
   "execution_count": 137,
   "id": "5859edc8",
   "metadata": {
    "scrolled": false
   },
   "outputs": [
    {
     "name": "stdout",
     "output_type": "stream",
     "text": [
      "DodgerLoopGame\n"
     ]
    },
    {
     "data": {
      "text/html": [
       "<div>\n",
       "<style scoped>\n",
       "    .dataframe tbody tr th:only-of-type {\n",
       "        vertical-align: middle;\n",
       "    }\n",
       "\n",
       "    .dataframe tbody tr th {\n",
       "        vertical-align: top;\n",
       "    }\n",
       "\n",
       "    .dataframe thead th {\n",
       "        text-align: right;\n",
       "    }\n",
       "</style>\n",
       "<table border=\"1\" class=\"dataframe\">\n",
       "  <thead>\n",
       "    <tr style=\"text-align: right;\">\n",
       "      <th></th>\n",
       "      <th>0</th>\n",
       "      <th>1</th>\n",
       "      <th>2</th>\n",
       "      <th>3</th>\n",
       "      <th>4</th>\n",
       "      <th>5</th>\n",
       "      <th>6</th>\n",
       "      <th>7</th>\n",
       "      <th>8</th>\n",
       "      <th>9</th>\n",
       "      <th>...</th>\n",
       "      <th>279</th>\n",
       "      <th>280</th>\n",
       "      <th>281</th>\n",
       "      <th>282</th>\n",
       "      <th>283</th>\n",
       "      <th>284</th>\n",
       "      <th>285</th>\n",
       "      <th>286</th>\n",
       "      <th>287</th>\n",
       "      <th>288</th>\n",
       "    </tr>\n",
       "  </thead>\n",
       "  <tbody>\n",
       "    <tr>\n",
       "      <th>0</th>\n",
       "      <td>1.0</td>\n",
       "      <td>7.0</td>\n",
       "      <td>3.0</td>\n",
       "      <td>6.0</td>\n",
       "      <td>11.0</td>\n",
       "      <td>8.0</td>\n",
       "      <td>6.0</td>\n",
       "      <td>6.0</td>\n",
       "      <td>10.0</td>\n",
       "      <td>4.0</td>\n",
       "      <td>...</td>\n",
       "      <td>12.0</td>\n",
       "      <td>5.0</td>\n",
       "      <td>9.0</td>\n",
       "      <td>4.0</td>\n",
       "      <td>4.0</td>\n",
       "      <td>6.0</td>\n",
       "      <td>9.0</td>\n",
       "      <td>5.0</td>\n",
       "      <td>16.0</td>\n",
       "      <td>8.0</td>\n",
       "    </tr>\n",
       "    <tr>\n",
       "      <th>1</th>\n",
       "      <td>1.0</td>\n",
       "      <td>9.0</td>\n",
       "      <td>10.0</td>\n",
       "      <td>5.0</td>\n",
       "      <td>7.0</td>\n",
       "      <td>10.0</td>\n",
       "      <td>9.0</td>\n",
       "      <td>5.0</td>\n",
       "      <td>6.0</td>\n",
       "      <td>8.0</td>\n",
       "      <td>...</td>\n",
       "      <td>8.0</td>\n",
       "      <td>5.0</td>\n",
       "      <td>4.0</td>\n",
       "      <td>8.0</td>\n",
       "      <td>6.0</td>\n",
       "      <td>11.0</td>\n",
       "      <td>5.0</td>\n",
       "      <td>8.0</td>\n",
       "      <td>9.0</td>\n",
       "      <td>6.0</td>\n",
       "    </tr>\n",
       "    <tr>\n",
       "      <th>2</th>\n",
       "      <td>1.0</td>\n",
       "      <td>12.0</td>\n",
       "      <td>18.0</td>\n",
       "      <td>11.0</td>\n",
       "      <td>11.0</td>\n",
       "      <td>19.0</td>\n",
       "      <td>17.0</td>\n",
       "      <td>4.0</td>\n",
       "      <td>6.0</td>\n",
       "      <td>8.0</td>\n",
       "      <td>...</td>\n",
       "      <td>10.0</td>\n",
       "      <td>9.0</td>\n",
       "      <td>11.0</td>\n",
       "      <td>8.0</td>\n",
       "      <td>4.0</td>\n",
       "      <td>7.0</td>\n",
       "      <td>3.0</td>\n",
       "      <td>6.0</td>\n",
       "      <td>3.0</td>\n",
       "      <td>6.0</td>\n",
       "    </tr>\n",
       "    <tr>\n",
       "      <th>3</th>\n",
       "      <td>1.0</td>\n",
       "      <td>11.0</td>\n",
       "      <td>9.0</td>\n",
       "      <td>11.0</td>\n",
       "      <td>12.0</td>\n",
       "      <td>8.0</td>\n",
       "      <td>8.0</td>\n",
       "      <td>5.0</td>\n",
       "      <td>8.0</td>\n",
       "      <td>8.0</td>\n",
       "      <td>...</td>\n",
       "      <td>17.0</td>\n",
       "      <td>16.0</td>\n",
       "      <td>10.0</td>\n",
       "      <td>7.0</td>\n",
       "      <td>10.0</td>\n",
       "      <td>11.0</td>\n",
       "      <td>12.0</td>\n",
       "      <td>13.0</td>\n",
       "      <td>7.0</td>\n",
       "      <td>10.0</td>\n",
       "    </tr>\n",
       "    <tr>\n",
       "      <th>4</th>\n",
       "      <td>1.0</td>\n",
       "      <td>12.0</td>\n",
       "      <td>9.0</td>\n",
       "      <td>11.0</td>\n",
       "      <td>7.0</td>\n",
       "      <td>12.0</td>\n",
       "      <td>14.0</td>\n",
       "      <td>10.0</td>\n",
       "      <td>10.0</td>\n",
       "      <td>10.0</td>\n",
       "      <td>...</td>\n",
       "      <td>4.0</td>\n",
       "      <td>7.0</td>\n",
       "      <td>9.0</td>\n",
       "      <td>11.0</td>\n",
       "      <td>6.0</td>\n",
       "      <td>9.0</td>\n",
       "      <td>7.0</td>\n",
       "      <td>10.0</td>\n",
       "      <td>4.0</td>\n",
       "      <td>9.0</td>\n",
       "    </tr>\n",
       "    <tr>\n",
       "      <th>...</th>\n",
       "      <td>...</td>\n",
       "      <td>...</td>\n",
       "      <td>...</td>\n",
       "      <td>...</td>\n",
       "      <td>...</td>\n",
       "      <td>...</td>\n",
       "      <td>...</td>\n",
       "      <td>...</td>\n",
       "      <td>...</td>\n",
       "      <td>...</td>\n",
       "      <td>...</td>\n",
       "      <td>...</td>\n",
       "      <td>...</td>\n",
       "      <td>...</td>\n",
       "      <td>...</td>\n",
       "      <td>...</td>\n",
       "      <td>...</td>\n",
       "      <td>...</td>\n",
       "      <td>...</td>\n",
       "      <td>...</td>\n",
       "      <td>...</td>\n",
       "    </tr>\n",
       "    <tr>\n",
       "      <th>153</th>\n",
       "      <td>2.0</td>\n",
       "      <td>17.0</td>\n",
       "      <td>11.0</td>\n",
       "      <td>9.0</td>\n",
       "      <td>16.0</td>\n",
       "      <td>10.0</td>\n",
       "      <td>4.0</td>\n",
       "      <td>10.0</td>\n",
       "      <td>13.0</td>\n",
       "      <td>7.0</td>\n",
       "      <td>...</td>\n",
       "      <td>7.0</td>\n",
       "      <td>9.0</td>\n",
       "      <td>12.0</td>\n",
       "      <td>4.0</td>\n",
       "      <td>5.0</td>\n",
       "      <td>4.0</td>\n",
       "      <td>10.0</td>\n",
       "      <td>6.0</td>\n",
       "      <td>4.0</td>\n",
       "      <td>3.0</td>\n",
       "    </tr>\n",
       "    <tr>\n",
       "      <th>154</th>\n",
       "      <td>2.0</td>\n",
       "      <td>18.0</td>\n",
       "      <td>12.0</td>\n",
       "      <td>14.0</td>\n",
       "      <td>13.0</td>\n",
       "      <td>8.0</td>\n",
       "      <td>7.0</td>\n",
       "      <td>7.0</td>\n",
       "      <td>6.0</td>\n",
       "      <td>13.0</td>\n",
       "      <td>...</td>\n",
       "      <td>28.0</td>\n",
       "      <td>24.0</td>\n",
       "      <td>11.0</td>\n",
       "      <td>20.0</td>\n",
       "      <td>28.0</td>\n",
       "      <td>20.0</td>\n",
       "      <td>22.0</td>\n",
       "      <td>19.0</td>\n",
       "      <td>16.0</td>\n",
       "      <td>24.0</td>\n",
       "    </tr>\n",
       "    <tr>\n",
       "      <th>155</th>\n",
       "      <td>2.0</td>\n",
       "      <td>7.0</td>\n",
       "      <td>6.0</td>\n",
       "      <td>5.0</td>\n",
       "      <td>4.0</td>\n",
       "      <td>6.0</td>\n",
       "      <td>3.0</td>\n",
       "      <td>8.0</td>\n",
       "      <td>4.0</td>\n",
       "      <td>5.0</td>\n",
       "      <td>...</td>\n",
       "      <td>10.0</td>\n",
       "      <td>9.0</td>\n",
       "      <td>7.0</td>\n",
       "      <td>9.0</td>\n",
       "      <td>11.0</td>\n",
       "      <td>9.0</td>\n",
       "      <td>12.0</td>\n",
       "      <td>6.0</td>\n",
       "      <td>5.0</td>\n",
       "      <td>6.0</td>\n",
       "    </tr>\n",
       "    <tr>\n",
       "      <th>156</th>\n",
       "      <td>2.0</td>\n",
       "      <td>14.0</td>\n",
       "      <td>10.0</td>\n",
       "      <td>10.0</td>\n",
       "      <td>7.0</td>\n",
       "      <td>10.0</td>\n",
       "      <td>5.0</td>\n",
       "      <td>11.0</td>\n",
       "      <td>9.0</td>\n",
       "      <td>11.0</td>\n",
       "      <td>...</td>\n",
       "      <td>14.0</td>\n",
       "      <td>4.0</td>\n",
       "      <td>9.0</td>\n",
       "      <td>2.0</td>\n",
       "      <td>15.0</td>\n",
       "      <td>7.0</td>\n",
       "      <td>12.0</td>\n",
       "      <td>3.0</td>\n",
       "      <td>6.0</td>\n",
       "      <td>6.0</td>\n",
       "    </tr>\n",
       "    <tr>\n",
       "      <th>157</th>\n",
       "      <td>2.0</td>\n",
       "      <td>8.0</td>\n",
       "      <td>8.0</td>\n",
       "      <td>4.0</td>\n",
       "      <td>5.0</td>\n",
       "      <td>5.0</td>\n",
       "      <td>8.0</td>\n",
       "      <td>3.0</td>\n",
       "      <td>6.0</td>\n",
       "      <td>6.0</td>\n",
       "      <td>...</td>\n",
       "      <td>15.0</td>\n",
       "      <td>8.0</td>\n",
       "      <td>9.0</td>\n",
       "      <td>10.0</td>\n",
       "      <td>5.0</td>\n",
       "      <td>5.0</td>\n",
       "      <td>8.0</td>\n",
       "      <td>11.0</td>\n",
       "      <td>8.0</td>\n",
       "      <td>4.0</td>\n",
       "    </tr>\n",
       "  </tbody>\n",
       "</table>\n",
       "<p>158 rows × 289 columns</p>\n",
       "</div>"
      ],
      "text/plain": [
       "     0     1     2     3     4     5     6     7     8     9    ...   279  \\\n",
       "0    1.0   7.0   3.0   6.0  11.0   8.0   6.0   6.0  10.0   4.0  ...  12.0   \n",
       "1    1.0   9.0  10.0   5.0   7.0  10.0   9.0   5.0   6.0   8.0  ...   8.0   \n",
       "2    1.0  12.0  18.0  11.0  11.0  19.0  17.0   4.0   6.0   8.0  ...  10.0   \n",
       "3    1.0  11.0   9.0  11.0  12.0   8.0   8.0   5.0   8.0   8.0  ...  17.0   \n",
       "4    1.0  12.0   9.0  11.0   7.0  12.0  14.0  10.0  10.0  10.0  ...   4.0   \n",
       "..   ...   ...   ...   ...   ...   ...   ...   ...   ...   ...  ...   ...   \n",
       "153  2.0  17.0  11.0   9.0  16.0  10.0   4.0  10.0  13.0   7.0  ...   7.0   \n",
       "154  2.0  18.0  12.0  14.0  13.0   8.0   7.0   7.0   6.0  13.0  ...  28.0   \n",
       "155  2.0   7.0   6.0   5.0   4.0   6.0   3.0   8.0   4.0   5.0  ...  10.0   \n",
       "156  2.0  14.0  10.0  10.0   7.0  10.0   5.0  11.0   9.0  11.0  ...  14.0   \n",
       "157  2.0   8.0   8.0   4.0   5.0   5.0   8.0   3.0   6.0   6.0  ...  15.0   \n",
       "\n",
       "      280   281   282   283   284   285   286   287   288  \n",
       "0     5.0   9.0   4.0   4.0   6.0   9.0   5.0  16.0   8.0  \n",
       "1     5.0   4.0   8.0   6.0  11.0   5.0   8.0   9.0   6.0  \n",
       "2     9.0  11.0   8.0   4.0   7.0   3.0   6.0   3.0   6.0  \n",
       "3    16.0  10.0   7.0  10.0  11.0  12.0  13.0   7.0  10.0  \n",
       "4     7.0   9.0  11.0   6.0   9.0   7.0  10.0   4.0   9.0  \n",
       "..    ...   ...   ...   ...   ...   ...   ...   ...   ...  \n",
       "153   9.0  12.0   4.0   5.0   4.0  10.0   6.0   4.0   3.0  \n",
       "154  24.0  11.0  20.0  28.0  20.0  22.0  19.0  16.0  24.0  \n",
       "155   9.0   7.0   9.0  11.0   9.0  12.0   6.0   5.0   6.0  \n",
       "156   4.0   9.0   2.0  15.0   7.0  12.0   3.0   6.0   6.0  \n",
       "157   8.0   9.0  10.0   5.0   5.0   8.0  11.0   8.0   4.0  \n",
       "\n",
       "[158 rows x 289 columns]"
      ]
     },
     "execution_count": 137,
     "metadata": {},
     "output_type": "execute_result"
    }
   ],
   "source": [
    "print(list_missing_names[1])\n",
    "list_missing_dfs[1]"
   ]
  },
  {
   "cell_type": "markdown",
   "id": "12f0220c",
   "metadata": {},
   "source": [
    "To confirm if there are still any rows having missing values."
   ]
  },
  {
   "cell_type": "code",
   "execution_count": 138,
   "id": "1d3e4479",
   "metadata": {},
   "outputs": [
    {
     "data": {
      "text/html": [
       "<div>\n",
       "<style scoped>\n",
       "    .dataframe tbody tr th:only-of-type {\n",
       "        vertical-align: middle;\n",
       "    }\n",
       "\n",
       "    .dataframe tbody tr th {\n",
       "        vertical-align: top;\n",
       "    }\n",
       "\n",
       "    .dataframe thead th {\n",
       "        text-align: right;\n",
       "    }\n",
       "</style>\n",
       "<table border=\"1\" class=\"dataframe\">\n",
       "  <thead>\n",
       "    <tr style=\"text-align: right;\">\n",
       "      <th></th>\n",
       "      <th>0</th>\n",
       "      <th>1</th>\n",
       "      <th>2</th>\n",
       "      <th>3</th>\n",
       "      <th>4</th>\n",
       "      <th>5</th>\n",
       "      <th>6</th>\n",
       "      <th>7</th>\n",
       "      <th>8</th>\n",
       "      <th>9</th>\n",
       "      <th>...</th>\n",
       "      <th>279</th>\n",
       "      <th>280</th>\n",
       "      <th>281</th>\n",
       "      <th>282</th>\n",
       "      <th>283</th>\n",
       "      <th>284</th>\n",
       "      <th>285</th>\n",
       "      <th>286</th>\n",
       "      <th>287</th>\n",
       "      <th>288</th>\n",
       "    </tr>\n",
       "  </thead>\n",
       "  <tbody>\n",
       "    <tr>\n",
       "      <th>7</th>\n",
       "      <td>1.0</td>\n",
       "      <td>9.0</td>\n",
       "      <td>5.0</td>\n",
       "      <td>1.0</td>\n",
       "      <td>4.0</td>\n",
       "      <td>2.0</td>\n",
       "      <td>6.0</td>\n",
       "      <td>7.0</td>\n",
       "      <td>2.0</td>\n",
       "      <td>7.0</td>\n",
       "      <td>...</td>\n",
       "      <td>13.0</td>\n",
       "      <td>12.0</td>\n",
       "      <td>9.0</td>\n",
       "      <td>12.0</td>\n",
       "      <td>18.0</td>\n",
       "      <td>10.0</td>\n",
       "      <td>17.0</td>\n",
       "      <td>9.0</td>\n",
       "      <td>15.0</td>\n",
       "      <td>10.0</td>\n",
       "    </tr>\n",
       "    <tr>\n",
       "      <th>15</th>\n",
       "      <td>2.0</td>\n",
       "      <td>5.0</td>\n",
       "      <td>4.0</td>\n",
       "      <td>6.0</td>\n",
       "      <td>8.0</td>\n",
       "      <td>2.0</td>\n",
       "      <td>4.0</td>\n",
       "      <td>6.0</td>\n",
       "      <td>2.0</td>\n",
       "      <td>1.0</td>\n",
       "      <td>...</td>\n",
       "      <td>10.0</td>\n",
       "      <td>13.0</td>\n",
       "      <td>17.0</td>\n",
       "      <td>11.0</td>\n",
       "      <td>11.0</td>\n",
       "      <td>11.0</td>\n",
       "      <td>12.0</td>\n",
       "      <td>8.0</td>\n",
       "      <td>3.0</td>\n",
       "      <td>6.0</td>\n",
       "    </tr>\n",
       "    <tr>\n",
       "      <th>19</th>\n",
       "      <td>2.0</td>\n",
       "      <td>7.0</td>\n",
       "      <td>5.0</td>\n",
       "      <td>5.0</td>\n",
       "      <td>5.0</td>\n",
       "      <td>0.0</td>\n",
       "      <td>5.0</td>\n",
       "      <td>1.0</td>\n",
       "      <td>7.0</td>\n",
       "      <td>7.0</td>\n",
       "      <td>...</td>\n",
       "      <td>11.0</td>\n",
       "      <td>9.0</td>\n",
       "      <td>8.0</td>\n",
       "      <td>6.0</td>\n",
       "      <td>7.0</td>\n",
       "      <td>6.0</td>\n",
       "      <td>7.0</td>\n",
       "      <td>7.0</td>\n",
       "      <td>10.0</td>\n",
       "      <td>7.0</td>\n",
       "    </tr>\n",
       "    <tr>\n",
       "      <th>27</th>\n",
       "      <td>1.0</td>\n",
       "      <td>6.0</td>\n",
       "      <td>9.0</td>\n",
       "      <td>2.0</td>\n",
       "      <td>2.0</td>\n",
       "      <td>3.0</td>\n",
       "      <td>10.0</td>\n",
       "      <td>7.0</td>\n",
       "      <td>7.0</td>\n",
       "      <td>3.0</td>\n",
       "      <td>...</td>\n",
       "      <td>8.0</td>\n",
       "      <td>12.0</td>\n",
       "      <td>10.0</td>\n",
       "      <td>14.0</td>\n",
       "      <td>11.0</td>\n",
       "      <td>6.0</td>\n",
       "      <td>8.0</td>\n",
       "      <td>7.0</td>\n",
       "      <td>12.0</td>\n",
       "      <td>7.0</td>\n",
       "    </tr>\n",
       "    <tr>\n",
       "      <th>33</th>\n",
       "      <td>1.0</td>\n",
       "      <td>4.0</td>\n",
       "      <td>6.0</td>\n",
       "      <td>8.0</td>\n",
       "      <td>4.0</td>\n",
       "      <td>2.0</td>\n",
       "      <td>4.0</td>\n",
       "      <td>1.0</td>\n",
       "      <td>10.0</td>\n",
       "      <td>5.0</td>\n",
       "      <td>...</td>\n",
       "      <td>15.0</td>\n",
       "      <td>6.0</td>\n",
       "      <td>3.0</td>\n",
       "      <td>11.0</td>\n",
       "      <td>7.0</td>\n",
       "      <td>7.0</td>\n",
       "      <td>4.0</td>\n",
       "      <td>2.0</td>\n",
       "      <td>4.0</td>\n",
       "      <td>4.0</td>\n",
       "    </tr>\n",
       "    <tr>\n",
       "      <th>41</th>\n",
       "      <td>1.0</td>\n",
       "      <td>NaN</td>\n",
       "      <td>NaN</td>\n",
       "      <td>NaN</td>\n",
       "      <td>NaN</td>\n",
       "      <td>NaN</td>\n",
       "      <td>NaN</td>\n",
       "      <td>NaN</td>\n",
       "      <td>NaN</td>\n",
       "      <td>NaN</td>\n",
       "      <td>...</td>\n",
       "      <td>16.0</td>\n",
       "      <td>13.0</td>\n",
       "      <td>14.0</td>\n",
       "      <td>9.0</td>\n",
       "      <td>19.0</td>\n",
       "      <td>9.0</td>\n",
       "      <td>4.0</td>\n",
       "      <td>11.0</td>\n",
       "      <td>5.0</td>\n",
       "      <td>13.0</td>\n",
       "    </tr>\n",
       "    <tr>\n",
       "      <th>42</th>\n",
       "      <td>1.0</td>\n",
       "      <td>5.0</td>\n",
       "      <td>4.0</td>\n",
       "      <td>6.0</td>\n",
       "      <td>6.0</td>\n",
       "      <td>5.0</td>\n",
       "      <td>6.0</td>\n",
       "      <td>4.0</td>\n",
       "      <td>10.0</td>\n",
       "      <td>11.0</td>\n",
       "      <td>...</td>\n",
       "      <td>12.0</td>\n",
       "      <td>20.0</td>\n",
       "      <td>16.0</td>\n",
       "      <td>17.0</td>\n",
       "      <td>12.0</td>\n",
       "      <td>6.0</td>\n",
       "      <td>12.0</td>\n",
       "      <td>14.0</td>\n",
       "      <td>11.0</td>\n",
       "      <td>12.0</td>\n",
       "    </tr>\n",
       "    <tr>\n",
       "      <th>52</th>\n",
       "      <td>1.0</td>\n",
       "      <td>8.0</td>\n",
       "      <td>3.0</td>\n",
       "      <td>11.0</td>\n",
       "      <td>7.0</td>\n",
       "      <td>9.0</td>\n",
       "      <td>7.0</td>\n",
       "      <td>7.0</td>\n",
       "      <td>1.0</td>\n",
       "      <td>4.0</td>\n",
       "      <td>...</td>\n",
       "      <td>8.0</td>\n",
       "      <td>10.0</td>\n",
       "      <td>11.0</td>\n",
       "      <td>10.0</td>\n",
       "      <td>6.0</td>\n",
       "      <td>5.0</td>\n",
       "      <td>5.0</td>\n",
       "      <td>9.0</td>\n",
       "      <td>4.0</td>\n",
       "      <td>3.0</td>\n",
       "    </tr>\n",
       "    <tr>\n",
       "      <th>57</th>\n",
       "      <td>1.0</td>\n",
       "      <td>16.0</td>\n",
       "      <td>11.0</td>\n",
       "      <td>3.0</td>\n",
       "      <td>10.0</td>\n",
       "      <td>11.0</td>\n",
       "      <td>3.0</td>\n",
       "      <td>6.0</td>\n",
       "      <td>6.0</td>\n",
       "      <td>2.0</td>\n",
       "      <td>...</td>\n",
       "      <td>8.0</td>\n",
       "      <td>14.0</td>\n",
       "      <td>9.0</td>\n",
       "      <td>12.0</td>\n",
       "      <td>8.0</td>\n",
       "      <td>7.0</td>\n",
       "      <td>8.0</td>\n",
       "      <td>10.0</td>\n",
       "      <td>2.0</td>\n",
       "      <td>11.0</td>\n",
       "    </tr>\n",
       "    <tr>\n",
       "      <th>77</th>\n",
       "      <td>1.0</td>\n",
       "      <td>9.0</td>\n",
       "      <td>5.0</td>\n",
       "      <td>7.0</td>\n",
       "      <td>3.0</td>\n",
       "      <td>6.0</td>\n",
       "      <td>1.0</td>\n",
       "      <td>6.0</td>\n",
       "      <td>6.0</td>\n",
       "      <td>1.0</td>\n",
       "      <td>...</td>\n",
       "      <td>19.0</td>\n",
       "      <td>9.0</td>\n",
       "      <td>13.0</td>\n",
       "      <td>8.0</td>\n",
       "      <td>9.0</td>\n",
       "      <td>7.0</td>\n",
       "      <td>8.0</td>\n",
       "      <td>6.0</td>\n",
       "      <td>8.0</td>\n",
       "      <td>7.0</td>\n",
       "    </tr>\n",
       "    <tr>\n",
       "      <th>95</th>\n",
       "      <td>2.0</td>\n",
       "      <td>11.0</td>\n",
       "      <td>10.0</td>\n",
       "      <td>8.0</td>\n",
       "      <td>14.0</td>\n",
       "      <td>8.0</td>\n",
       "      <td>6.0</td>\n",
       "      <td>5.0</td>\n",
       "      <td>7.0</td>\n",
       "      <td>3.0</td>\n",
       "      <td>...</td>\n",
       "      <td>30.0</td>\n",
       "      <td>21.0</td>\n",
       "      <td>17.0</td>\n",
       "      <td>19.0</td>\n",
       "      <td>18.0</td>\n",
       "      <td>18.0</td>\n",
       "      <td>12.0</td>\n",
       "      <td>14.0</td>\n",
       "      <td>9.0</td>\n",
       "      <td>13.0</td>\n",
       "    </tr>\n",
       "    <tr>\n",
       "      <th>107</th>\n",
       "      <td>2.0</td>\n",
       "      <td>6.0</td>\n",
       "      <td>4.0</td>\n",
       "      <td>12.0</td>\n",
       "      <td>4.0</td>\n",
       "      <td>7.0</td>\n",
       "      <td>8.0</td>\n",
       "      <td>7.0</td>\n",
       "      <td>14.0</td>\n",
       "      <td>7.0</td>\n",
       "      <td>...</td>\n",
       "      <td>16.0</td>\n",
       "      <td>20.0</td>\n",
       "      <td>18.0</td>\n",
       "      <td>8.0</td>\n",
       "      <td>13.0</td>\n",
       "      <td>6.0</td>\n",
       "      <td>10.0</td>\n",
       "      <td>10.0</td>\n",
       "      <td>10.0</td>\n",
       "      <td>10.0</td>\n",
       "    </tr>\n",
       "    <tr>\n",
       "      <th>110</th>\n",
       "      <td>2.0</td>\n",
       "      <td>11.0</td>\n",
       "      <td>7.0</td>\n",
       "      <td>6.0</td>\n",
       "      <td>8.0</td>\n",
       "      <td>4.0</td>\n",
       "      <td>10.0</td>\n",
       "      <td>5.0</td>\n",
       "      <td>7.0</td>\n",
       "      <td>2.0</td>\n",
       "      <td>...</td>\n",
       "      <td>20.0</td>\n",
       "      <td>21.0</td>\n",
       "      <td>19.0</td>\n",
       "      <td>14.0</td>\n",
       "      <td>15.0</td>\n",
       "      <td>14.0</td>\n",
       "      <td>14.0</td>\n",
       "      <td>12.0</td>\n",
       "      <td>17.0</td>\n",
       "      <td>10.0</td>\n",
       "    </tr>\n",
       "    <tr>\n",
       "      <th>124</th>\n",
       "      <td>2.0</td>\n",
       "      <td>NaN</td>\n",
       "      <td>NaN</td>\n",
       "      <td>NaN</td>\n",
       "      <td>NaN</td>\n",
       "      <td>NaN</td>\n",
       "      <td>NaN</td>\n",
       "      <td>NaN</td>\n",
       "      <td>NaN</td>\n",
       "      <td>NaN</td>\n",
       "      <td>...</td>\n",
       "      <td>9.0</td>\n",
       "      <td>7.0</td>\n",
       "      <td>5.0</td>\n",
       "      <td>9.0</td>\n",
       "      <td>8.0</td>\n",
       "      <td>6.0</td>\n",
       "      <td>3.0</td>\n",
       "      <td>3.0</td>\n",
       "      <td>7.0</td>\n",
       "      <td>2.0</td>\n",
       "    </tr>\n",
       "  </tbody>\n",
       "</table>\n",
       "<p>14 rows × 289 columns</p>\n",
       "</div>"
      ],
      "text/plain": [
       "     0     1     2     3     4     5     6    7     8     9    ...   279  \\\n",
       "7    1.0   9.0   5.0   1.0   4.0   2.0   6.0  7.0   2.0   7.0  ...  13.0   \n",
       "15   2.0   5.0   4.0   6.0   8.0   2.0   4.0  6.0   2.0   1.0  ...  10.0   \n",
       "19   2.0   7.0   5.0   5.0   5.0   0.0   5.0  1.0   7.0   7.0  ...  11.0   \n",
       "27   1.0   6.0   9.0   2.0   2.0   3.0  10.0  7.0   7.0   3.0  ...   8.0   \n",
       "33   1.0   4.0   6.0   8.0   4.0   2.0   4.0  1.0  10.0   5.0  ...  15.0   \n",
       "41   1.0   NaN   NaN   NaN   NaN   NaN   NaN  NaN   NaN   NaN  ...  16.0   \n",
       "42   1.0   5.0   4.0   6.0   6.0   5.0   6.0  4.0  10.0  11.0  ...  12.0   \n",
       "52   1.0   8.0   3.0  11.0   7.0   9.0   7.0  7.0   1.0   4.0  ...   8.0   \n",
       "57   1.0  16.0  11.0   3.0  10.0  11.0   3.0  6.0   6.0   2.0  ...   8.0   \n",
       "77   1.0   9.0   5.0   7.0   3.0   6.0   1.0  6.0   6.0   1.0  ...  19.0   \n",
       "95   2.0  11.0  10.0   8.0  14.0   8.0   6.0  5.0   7.0   3.0  ...  30.0   \n",
       "107  2.0   6.0   4.0  12.0   4.0   7.0   8.0  7.0  14.0   7.0  ...  16.0   \n",
       "110  2.0  11.0   7.0   6.0   8.0   4.0  10.0  5.0   7.0   2.0  ...  20.0   \n",
       "124  2.0   NaN   NaN   NaN   NaN   NaN   NaN  NaN   NaN   NaN  ...   9.0   \n",
       "\n",
       "      280   281   282   283   284   285   286   287   288  \n",
       "7    12.0   9.0  12.0  18.0  10.0  17.0   9.0  15.0  10.0  \n",
       "15   13.0  17.0  11.0  11.0  11.0  12.0   8.0   3.0   6.0  \n",
       "19    9.0   8.0   6.0   7.0   6.0   7.0   7.0  10.0   7.0  \n",
       "27   12.0  10.0  14.0  11.0   6.0   8.0   7.0  12.0   7.0  \n",
       "33    6.0   3.0  11.0   7.0   7.0   4.0   2.0   4.0   4.0  \n",
       "41   13.0  14.0   9.0  19.0   9.0   4.0  11.0   5.0  13.0  \n",
       "42   20.0  16.0  17.0  12.0   6.0  12.0  14.0  11.0  12.0  \n",
       "52   10.0  11.0  10.0   6.0   5.0   5.0   9.0   4.0   3.0  \n",
       "57   14.0   9.0  12.0   8.0   7.0   8.0  10.0   2.0  11.0  \n",
       "77    9.0  13.0   8.0   9.0   7.0   8.0   6.0   8.0   7.0  \n",
       "95   21.0  17.0  19.0  18.0  18.0  12.0  14.0   9.0  13.0  \n",
       "107  20.0  18.0   8.0  13.0   6.0  10.0  10.0  10.0  10.0  \n",
       "110  21.0  19.0  14.0  15.0  14.0  14.0  12.0  17.0  10.0  \n",
       "124   7.0   5.0   9.0   8.0   6.0   3.0   3.0   7.0   2.0  \n",
       "\n",
       "[14 rows x 289 columns]"
      ]
     },
     "execution_count": 138,
     "metadata": {},
     "output_type": "execute_result"
    }
   ],
   "source": [
    "null_data = list_missing_dfs[1][list_missing_dfs[1].isnull().any(axis=1)]\n",
    "null_data"
   ]
  },
  {
   "cell_type": "markdown",
   "id": "c0377b53",
   "metadata": {},
   "source": [
    "Re-split and standardize dataframes along with putting equal ratios of all classes in the train, validation and test set using stratification."
   ]
  },
  {
   "cell_type": "code",
   "execution_count": 139,
   "id": "4911c6e9",
   "metadata": {},
   "outputs": [],
   "source": [
    "def resplit_std(dfs):     \n",
    "    n_df = dfs.iloc[:, 1:]              \n",
    "    std_df = (n_df - n_df.mean())/n_df.std()\n",
    "    std_df.insert(loc = 0, column = 0, value = dfs.iloc[:, 0])\n",
    "    \n",
    "    std_df = std_df.rename(columns={0: \"Y\"})\n",
    "    list_unique = std_df['Y'].unique()           # list containing all unique classes\n",
    "    finalTrain = []\n",
    "    finalVal = []\n",
    "    finalTest = []\n",
    "    train = []\n",
    "\n",
    "    for l in list_unique:\n",
    "        dataFrameWithl = std_df.loc[std_df['Y'] == l].to_numpy()\n",
    "        r = dataFrameWithl.shape[0]\n",
    "        size = int(0.7*r)\n",
    "        \n",
    "        train = dataFrameWithl[0:size, :]\n",
    "        if(len(finalTrain) > 0):\n",
    "\n",
    "            finalTrain = np.concatenate((finalTrain, train), axis=0)\n",
    "        else:\n",
    "            finalTrain = train\n",
    "            \n",
    "        val = dataFrameWithl[size: size + int( 0.15*r), : ]\n",
    "        if(len(finalVal) > 0):\n",
    "            finalVal =np.concatenate((finalVal, val), axis=0)\n",
    "        else:\n",
    "            finalVal = val   \n",
    "            \n",
    "        test = dataFrameWithl[size + int( 0.15*r):, :]\n",
    "        if(len(finalTest) > 0):\n",
    "            finalTest = np.concatenate((finalTest, test), axis=0)\n",
    "        else:\n",
    "            finalTest = test\n",
    "        \n",
    "    return finalTrain, finalVal, finalTest"
   ]
  },
  {
   "cell_type": "markdown",
   "id": "3005b814",
   "metadata": {},
   "source": [
    "Plot indicating the total length of samples (across all datasets)"
   ]
  },
  {
   "cell_type": "code",
   "execution_count": 141,
   "id": "910c55f5",
   "metadata": {},
   "outputs": [],
   "source": [
    "local_list_names = list_df_names + list_missing_names        # list containing names of all dataframes"
   ]
  },
  {
   "cell_type": "code",
   "execution_count": 142,
   "id": "fc4105be",
   "metadata": {},
   "outputs": [],
   "source": [
    "local_list_dfs = list_dfs[:]                         # list containing all dataframes\n",
    "local_list_dfs.extend(list_missing_dfs)"
   ]
  },
  {
   "cell_type": "code",
   "execution_count": 143,
   "id": "a0fdf64a",
   "metadata": {},
   "outputs": [],
   "source": [
    "yaxis = []\n",
    "for d_f in local_list_dfs:\n",
    "    yaxis.append(d_f.shape[0])"
   ]
  },
  {
   "cell_type": "code",
   "execution_count": 294,
   "id": "064730e1",
   "metadata": {},
   "outputs": [
    {
     "data": {
      "image/png": "[encoded data removed]",
      "text/plain": [
       "<Figure size 1296x576 with 1 Axes>"
      ]
     },
     "metadata": {
      "needs_background": "light"
     },
     "output_type": "display_data"
    }
   ],
   "source": [
    "plt.figure(figsize = (18, 8))\n",
    "plt.bar(local_list_names, yaxis)\n",
    "plt.xticks(rotation = 90)\n",
    "plt.title('Size of the samples')\n",
    "plt.xlabel('Samples')\n",
    "plt.ylabel('Size (Number of instances)')\n",
    "plt.show()"
   ]
  },
  {
   "cell_type": "code",
   "execution_count": 295,
   "id": "c6d4e5e4",
   "metadata": {},
   "outputs": [],
   "source": [
    "zaxis = []\n",
    "for d_f in local_list_dfs:\n",
    "    zaxis.append(d_f.shape[1])"
   ]
  },
  {
   "cell_type": "code",
   "execution_count": 296,
   "id": "018267a0",
   "metadata": {},
   "outputs": [
    {
     "data": {
      "image/png": "[encoded data removed]",
      "text/plain": [
       "<Figure size 1296x576 with 1 Axes>"
      ]
     },
     "metadata": {
      "needs_background": "light"
     },
     "output_type": "display_data"
    }
   ],
   "source": [
    "plt.figure(figsize = (18, 8))\n",
    "plt.bar(local_list_names, zaxis)\n",
    "plt.xticks(rotation = 90)\n",
    "plt.title('length of the samples')\n",
    "plt.xlabel('Samples')\n",
    "plt.ylabel('length (Number of features)')\n",
    "plt.show()"
   ]
  },
  {
   "cell_type": "markdown",
   "id": "88972083",
   "metadata": {},
   "source": [
    "Plot the number of Classes in each dataframe. "
   ]
  },
  {
   "cell_type": "code",
   "execution_count": 145,
   "id": "0b301197",
   "metadata": {},
   "outputs": [],
   "source": [
    "classes_df = []\n",
    "for e_df in local_list_dfs:\n",
    "    classes_df.append(e_df[:][0].nunique())"
   ]
  },
  {
   "cell_type": "code",
   "execution_count": 302,
   "id": "95187646",
   "metadata": {},
   "outputs": [
    {
     "data": {
      "image/png": "[encoded data removed]",
      "text/plain": [
       "<Figure size 1296x576 with 1 Axes>"
      ]
     },
     "metadata": {
      "needs_background": "light"
     },
     "output_type": "display_data"
    }
   ],
   "source": [
    "plt.figure(figsize = (18, 8))\n",
    "plt.plot(local_list_names, classes_df, '-o')\n",
    "plt.xticks(rotation = 90)\n",
    "plt.title('Number of Classes')\n",
    "plt.xlabel('Samples')\n",
    "plt.ylabel('Classes')\n",
    "plt.show()\n"
   ]
  },
  {
   "cell_type": "markdown",
   "id": "3eabb9a3",
   "metadata": {},
   "source": [
    "# Exercise 1: Dataset Imputation with KNN"
   ]
  },
  {
   "cell_type": "markdown",
   "id": "8594d0a0",
   "metadata": {},
   "source": [
    "Datasets with missing values"
   ]
  },
  {
   "cell_type": "code",
   "execution_count": 147,
   "id": "546164aa",
   "metadata": {},
   "outputs": [
    {
     "data": {
      "text/plain": [
       "['DodgerLoopDay', 'DodgerLoopGame', 'DodgerLoopWeekend', 'MelbournePedestrian']"
      ]
     },
     "execution_count": 147,
     "metadata": {},
     "output_type": "execute_result"
    }
   ],
   "source": [
    "list_missing_names"
   ]
  },
  {
   "cell_type": "code",
   "execution_count": 155,
   "id": "6f6c4a26",
   "metadata": {},
   "outputs": [],
   "source": [
    "def avg_KNN(data, target, p, K):               # p gives rows which has null values\n",
    "                                                         # data = entire dataframe except column that has null values\n",
    "                                                                # target = column of dataframe that has null values\n",
    "    l_dist = []     # list containing distances of query point from training set\n",
    "    X = data.to_numpy()\n",
    "    Y = target.to_numpy().reshape(-1,1)\n",
    "    m, n = np.shape(X)\n",
    "    for i in [x for x in range(m) if x != p]:\n",
    "        s = 0\n",
    "        for j in [x for x in range(n) if  str(X[i, x]) != 'nan']:\n",
    "            s += (X[p, j] - X[i, j])**2\n",
    "        s = s**(0.5)    \n",
    "        l_dist.append([i, s])\n",
    "    l_dist.sort(key = lambda x : x[1])  \n",
    "    K_dist = 0\n",
    "    for l in range(K):\n",
    "        K_dist += Y[l_dist[l][0]][0]            # add first K values that are nearest to missing value\n",
    "    return K_dist/K                                       # returns the average\n",
    "\n",
    "def dataset_imputation(df, K):\n",
    "    X = df.to_numpy()\n",
    "    m, n = np.shape(X)\n",
    "    for i in range(m):\n",
    "        for j in range(n):\n",
    "            l = [k for k in range(n) if k != j]\n",
    "            if np.isnan(X[i, j]):\n",
    "                X[i, j] = avg_KNN(df.iloc[:, l], df.iloc[:, j], i, K)\n",
    "    return pd.DataFrame(X)            \n",
    "    "
   ]
  },
  {
   "cell_type": "code",
   "execution_count": 156,
   "id": "69c3897f",
   "metadata": {},
   "outputs": [],
   "source": [
    "def knn_classifier(train, val, k_clas):\n",
    "    sample = train[:, 1:]                     # stores all of the train except labels\n",
    "    query = val[:, 1:]                               # stores all of the validation except labels\n",
    "    l_dist = []     # list containing distances \n",
    "    index = []            # list containing indices\n",
    "    acc_k = []                      # list containing accuracy with each k\n",
    "    m, n = np.shape(sample)\n",
    "    for K in k_clas:\n",
    "        acc = 0\n",
    "        for h in range(len(query)):\n",
    "            for i in range(m):\n",
    "                s = 0\n",
    "                for j in range(n):\n",
    "                    s += (query[h, j] - sample[i, j])**2\n",
    "                s = s**(0.5)    \n",
    "                l_dist.append([s, i])\n",
    "            index = [k for l, k in sorted(l_dist, key = lambda x:x[0])][:K]\n",
    "            pred = [train[indx, 0] for indx in index]                  # predicting classes for thr validation set\n",
    "            if max(set(pred), key = pred.count) == val[h, 0]:\n",
    "                acc += 1\n",
    "        acc_k.append([(acc/query.shape[0])*100, K])  \n",
    "    return max(acc_k)"
   ]
  },
  {
   "cell_type": "markdown",
   "id": "dcd182fb",
   "metadata": {},
   "source": [
    "We have made two functions above\n",
    "\n",
    "one for data imputation which uses KNN to replace missing values with the average of values nearest to it\n",
    "\n",
    "second is for classification"
   ]
  },
  {
   "cell_type": "markdown",
   "id": "316ba6f8",
   "metadata": {},
   "source": [
    "Now we will use different values of K in KNN to find the one which gives best accuracy."
   ]
  },
  {
   "cell_type": "code",
   "execution_count": 195,
   "id": "07d58372",
   "metadata": {},
   "outputs": [],
   "source": [
    "def tune_K(df):\n",
    "    k_imp = [1, 3, 5, 8]\n",
    "    k_clas = [1, 2, 3, 4, 5]\n",
    "    k_acc = []\n",
    "    if df.isnull().values.any():\n",
    "        for K in k_imp:\n",
    "            new_df = dataset_imputation(df, K)\n",
    "            train, val, test = resplit_std(new_df)\n",
    "            acc, k_cc = knn_classifier(train, val, k_clas)\n",
    "            k_acc.append([acc, K, k_cc])\n",
    "        k_acc = max(k_acc)   \n",
    "    else:\n",
    "        train, val, test = resplit_std(df)\n",
    "        ac, k_c = knn_classifier(train, val, k_clas)\n",
    "        k_acc = [ac, k_c]\n",
    "    return k_acc      \n",
    "    "
   ]
  },
  {
   "cell_type": "markdown",
   "id": "99653375",
   "metadata": {},
   "source": [
    "Let's find the accuracy of some randomly selected dataframes firstly on validation."
   ]
  },
  {
   "cell_type": "code",
   "execution_count": 160,
   "id": "e4381f2d",
   "metadata": {},
   "outputs": [
    {
     "name": "stdout",
     "output_type": "stream",
     "text": [
      "For the dataframe: ArrowHead\n",
      "Best accuaracy 53.333333333333336 when K = 1\n"
     ]
    }
   ],
   "source": [
    "print(f'For the dataframe: {list_df_names[5]}')\n",
    "acc_df5, k_df5 = tune_K(list_dfs[5])\n",
    "print(f'Best accuaracy {acc_df5} when K = {k_df5}')"
   ]
  },
  {
   "cell_type": "markdown",
   "id": "d33db6a9",
   "metadata": {},
   "source": [
    "With this best selected K lets check the accuaracy of classifier on test."
   ]
  },
  {
   "cell_type": "code",
   "execution_count": 164,
   "id": "396d8e73",
   "metadata": {},
   "outputs": [
    {
     "name": "stdout",
     "output_type": "stream",
     "text": [
      "For the dataframe: ArrowHead\n",
      "Accuaracy on the test 51.42857142857142 when K = 1\n"
     ]
    }
   ],
   "source": [
    "print(f'For the dataframe: {list_df_names[5]}')\n",
    "train_df5, val_df5, test_df5 = resplit_std(list_dfs[5])\n",
    "nAcc_df5, nK_df5 =  knn_classifier(train_df5, test_df5, [k_df5])\n",
    "print(f'Accuaracy on the test {nAcc_df5} when K = {nK_df5}')"
   ]
  },
  {
   "cell_type": "code",
   "execution_count": 165,
   "id": "f96d9bfe",
   "metadata": {},
   "outputs": [
    {
     "name": "stdout",
     "output_type": "stream",
     "text": [
      "For the dataframe: Car\n",
      "Best accuaracy 50.0 when K = 1\n"
     ]
    }
   ],
   "source": [
    "print(f'For the dataframe: {list_df_names[10]}')\n",
    "acc_df10, k_df10 = tune_K(list_dfs[10])\n",
    "print(f'Best accuaracy {acc_df10} when K = {k_df10}')"
   ]
  },
  {
   "cell_type": "code",
   "execution_count": 167,
   "id": "4d8009ae",
   "metadata": {},
   "outputs": [
    {
     "name": "stdout",
     "output_type": "stream",
     "text": [
      "For the dataframe: Car\n",
      "Accuaracy on the test 55.00000000000001 when K = 1\n"
     ]
    }
   ],
   "source": [
    "print(f'For the dataframe: {list_df_names[10]}')\n",
    "train_df10, val_df10, test_df10 = resplit_std(list_dfs[10])\n",
    "nAcc_df10, nK_df10 = knn_classifier(train_df10, test_df10, [k_df10])\n",
    "print(f'Accuaracy on the test {nAcc_df10} when K = {nK_df10}')"
   ]
  },
  {
   "cell_type": "code",
   "execution_count": 168,
   "id": "376c3b75",
   "metadata": {
    "scrolled": true
   },
   "outputs": [
    {
     "name": "stdout",
     "output_type": "stream",
     "text": [
      "For the dataframe: Earthquakes\n",
      "Best accuaracy 80.88235294117648 when K = 5\n"
     ]
    }
   ],
   "source": [
    "print(f'For the dataframe: {list_df_names[25]}')\n",
    "acc_df25, k_df25 = tune_K(list_dfs[25])\n",
    "print(f'Best accuaracy {acc_df25} when K = {k_df25}')"
   ]
  },
  {
   "cell_type": "code",
   "execution_count": 169,
   "id": "9f417dd0",
   "metadata": {},
   "outputs": [
    {
     "name": "stdout",
     "output_type": "stream",
     "text": [
      "For the dataframe: Earthquakes\n",
      "Accuaracy on the test 78.87323943661971 when K = 5\n"
     ]
    }
   ],
   "source": [
    "print(f'For the dataframe: {list_df_names[25]}')\n",
    "train_df25, val_df25, test_df25 = resplit_std(list_dfs[25])\n",
    "nAcc_df25, nK_df25 = knn_classifier(train_df25, test_df25, [k_df25])\n",
    "print(f'Accuaracy on the test {nAcc_df25} when K = {nK_df25}')"
   ]
  },
  {
   "cell_type": "code",
   "execution_count": 170,
   "id": "5c10ad7b",
   "metadata": {},
   "outputs": [
    {
     "name": "stdout",
     "output_type": "stream",
     "text": [
      "For the dataframe: GestureMidAirD3\n",
      "Best accuaracy 3.8461538461538463 when K = 5\n"
     ]
    }
   ],
   "source": [
    "print(f'For the dataframe: {list_df_names[45]}')\n",
    "acc_df45, k_df45 = tune_K(list_dfs[45])\n",
    "print(f'Best accuaracy {acc_df45} when K = {k_df45}')"
   ]
  },
  {
   "cell_type": "code",
   "execution_count": 171,
   "id": "53e050e8",
   "metadata": {},
   "outputs": [
    {
     "name": "stdout",
     "output_type": "stream",
     "text": [
      "For the dataframe: GestureMidAirD3\n",
      "Accuaracy on the test 10.256410256410255 when K = 5\n"
     ]
    }
   ],
   "source": [
    "print(f'For the dataframe: {list_df_names[45]}')\n",
    "train_df45, val_df45, test_df45 = resplit_std(list_dfs[45])\n",
    "nAcc_df45, nK_df45 = knn_classifier(train_df45, test_df45, [k_df45])\n",
    "print(f'Accuaracy on the test {nAcc_df45} when K = {nK_df45}')"
   ]
  },
  {
   "cell_type": "code",
   "execution_count": 172,
   "id": "edfce782",
   "metadata": {},
   "outputs": [
    {
     "name": "stdout",
     "output_type": "stream",
     "text": [
      "For the dataframe: InsectEPGRegularTrain\n",
      "Best accuaracy 84.44444444444444 when K = 1\n"
     ]
    }
   ],
   "source": [
    "print(f'For the dataframe: {list_df_names[58]}')\n",
    "acc_df58, k_df58 = tune_K(list_dfs[58])\n",
    "print(f'Best accuaracy {acc_df58} when K = {k_df58}')"
   ]
  },
  {
   "cell_type": "code",
   "execution_count": 173,
   "id": "11138567",
   "metadata": {},
   "outputs": [
    {
     "name": "stdout",
     "output_type": "stream",
     "text": [
      "For the dataframe: InsectEPGRegularTrain\n",
      "Accuaracy on the test 74.0 when K = 1\n"
     ]
    }
   ],
   "source": [
    "print(f'For the dataframe: {list_df_names[58]}')\n",
    "train_df58, val_df58, test_df58 = resplit_std(list_dfs[58])\n",
    "nAcc_df58, nK_df58 = knn_classifier(train_df58, test_df58, [k_df58])\n",
    "print(f'Accuaracy on the test {nAcc_df58} when K = {nK_df58}')"
   ]
  },
  {
   "cell_type": "code",
   "execution_count": 174,
   "id": "cec860b4",
   "metadata": {},
   "outputs": [
    {
     "name": "stdout",
     "output_type": "stream",
     "text": [
      "For the dataframe: LargeKitchenAppliances\n",
      "Best accuaracy 57.65765765765766 when K = 2\n"
     ]
    }
   ],
   "source": [
    "print(f'For the dataframe: {list_df_names[62]}')\n",
    "acc_df62, k_df62 = tune_K(list_dfs[62])\n",
    "print(f'Best accuaracy {acc_df62} when K = {k_df62}')"
   ]
  },
  {
   "cell_type": "code",
   "execution_count": 175,
   "id": "0eb6e2c1",
   "metadata": {
    "scrolled": true
   },
   "outputs": [
    {
     "name": "stdout",
     "output_type": "stream",
     "text": [
      "For the dataframe: LargeKitchenAppliances\n",
      "Accuaracy on the test 36.84210526315789 when K = 2\n"
     ]
    }
   ],
   "source": [
    "print(f'For the dataframe: {list_df_names[62]}')\n",
    "train_df62, val_df62, test_df62 = resplit_std(list_dfs[62])\n",
    "nAcc_df62, nK_df62 = knn_classifier(train_df62, test_df62, [k_df62])\n",
    "print(f'Accuaracy on the test {nAcc_df62} when K = {nK_df62}')"
   ]
  },
  {
   "cell_type": "code",
   "execution_count": 176,
   "id": "ddb19872",
   "metadata": {},
   "outputs": [
    {
     "name": "stdout",
     "output_type": "stream",
     "text": [
      "For the dataframe: Plane\n",
      "Best accuaracy 14.285714285714285 when K = 5\n"
     ]
    }
   ],
   "source": [
    "print(f'For the dataframe: {list_df_names[85]}')\n",
    "acc_df85, k_df85 = tune_K(list_dfs[85])\n",
    "print(f'Best accuaracy {acc_df85} when K = {k_df85}')"
   ]
  },
  {
   "cell_type": "code",
   "execution_count": 177,
   "id": "eef0c13a",
   "metadata": {
    "scrolled": false
   },
   "outputs": [
    {
     "name": "stdout",
     "output_type": "stream",
     "text": [
      "For the dataframe: Plane\n",
      "Accuaracy on the test 20.0 when K = 5\n"
     ]
    }
   ],
   "source": [
    "print(f'For the dataframe: {list_df_names[85]}')\n",
    "train_df85, val_df85, test_df85 = resplit_std(list_dfs[85])\n",
    "nAcc_df85, nK_df85 = knn_classifier(train_df85, test_df85, [k_df85])\n",
    "print(f'Accuaracy on the test {nAcc_df85} when K = {nK_df85}')"
   ]
  },
  {
   "cell_type": "code",
   "execution_count": 178,
   "id": "5beee20c",
   "metadata": {},
   "outputs": [
    {
     "name": "stdout",
     "output_type": "stream",
     "text": [
      "For the dataframe: SemgHandSubjectCh2\n",
      "Best accuaracy 35.55555555555556 when K = 1\n"
     ]
    }
   ],
   "source": [
    "print(f'For the dataframe: {list_df_names[95]}')\n",
    "acc_df95, k_df95 = tune_K(list_dfs[95])\n",
    "print(f'Best accuaracy {acc_df95} when K = {k_df95}')"
   ]
  },
  {
   "cell_type": "code",
   "execution_count": 179,
   "id": "8de2877f",
   "metadata": {},
   "outputs": [
    {
     "name": "stdout",
     "output_type": "stream",
     "text": [
      "For the dataframe: SemgHandSubjectCh2\n",
      "Accuaracy on the test 24.285714285714285 when K = 1\n"
     ]
    }
   ],
   "source": [
    "print(f'For the dataframe: {list_df_names[95]}')\n",
    "train_df95, val_df95, test_df95 = resplit_std(list_dfs[95])\n",
    "nAcc_df95, nK_df95 = knn_classifier(train_df95, test_df95, [k_df95])\n",
    "print(f'Accuaracy on the test {nAcc_df95} when K = {nK_df95}')"
   ]
  },
  {
   "cell_type": "code",
   "execution_count": 180,
   "id": "17a910d7",
   "metadata": {},
   "outputs": [
    {
     "name": "stdout",
     "output_type": "stream",
     "text": [
      "For the dataframe: SonyAIBORobotSurface2\n",
      "Best accuaracy 61.64383561643836 when K = 5\n"
     ]
    }
   ],
   "source": [
    "print(f'For the dataframe: {list_df_names[102]}')\n",
    "acc_df102, k_df102 = tune_K(list_dfs[102])\n",
    "print(f'Best accuaracy {acc_df102} when K = {k_df102}')"
   ]
  },
  {
   "cell_type": "code",
   "execution_count": 181,
   "id": "f882f4a5",
   "metadata": {
    "scrolled": true
   },
   "outputs": [
    {
     "name": "stdout",
     "output_type": "stream",
     "text": [
      "For the dataframe: SonyAIBORobotSurface2\n",
      "Accuaracy on the test 61.74496644295302 when K = 5\n"
     ]
    }
   ],
   "source": [
    "print(f'For the dataframe: {list_df_names[102]}')\n",
    "train_df102, val_df102, test_df102 = resplit_std(list_dfs[102])\n",
    "nAcc_df102, nK_df102 = knn_classifier(train_df102, test_df102, [k_df102])\n",
    "print(f'Accuaracy on the test {nAcc_df102} when K = {nK_df102}')"
   ]
  },
  {
   "cell_type": "markdown",
   "id": "587c7335",
   "metadata": {},
   "source": [
    "Now for the dataframes that had missing values, we will impute the values with different K's and then check the accuaracy of the classifier on the validation to select the best k."
   ]
  },
  {
   "cell_type": "code",
   "execution_count": 198,
   "id": "05d2b4a8",
   "metadata": {},
   "outputs": [
    {
     "name": "stdout",
     "output_type": "stream",
     "text": [
      "For the dataframe: DodgerLoopDay\n",
      "Best accuaracy 42.857142857142854 when K for imputation = 8 and k for classification = 1\n"
     ]
    }
   ],
   "source": [
    "print(f'For the dataframe: {list_missing_names[0]}')\n",
    "Macc_df0, Mimpk_df0, Mclak_df0 = tune_K(list_missing_dfs[0])\n",
    "print(f'Best accuaracy {Macc_df0} when K for imputation = {Mimpk_df0} and k for classification = {Mclak_df0}')"
   ]
  },
  {
   "cell_type": "code",
   "execution_count": 200,
   "id": "5f85641a",
   "metadata": {},
   "outputs": [
    {
     "name": "stdout",
     "output_type": "stream",
     "text": [
      "For the dataframe: DodgerLoopDay\n",
      "Accuaracy on the test 13.333333333333334 when k for classification = 1\n"
     ]
    }
   ],
   "source": [
    "print(f'For the dataframe: {list_missing_names[0]}')\n",
    "Mtrain_df0, Mval_df0, Mtest_df0 = resplit_std(dataset_imputation(list_missing_dfs[0], Mimpk_df0))\n",
    "MnAcc_df0, MnK_df0 = knn_classifier(Mtrain_df0, Mtest_df0, [Mclak_df0])\n",
    "print(f'Accuaracy on the test {MnAcc_df0} when k for classification = {MnK_df0}')"
   ]
  },
  {
   "cell_type": "code",
   "execution_count": 201,
   "id": "fad9979c",
   "metadata": {},
   "outputs": [
    {
     "name": "stdout",
     "output_type": "stream",
     "text": [
      "For the dataframe: DodgerLoopGame\n",
      "Best accuaracy 52.17391304347826 when K for imputation = 8 and k for classification = 5\n"
     ]
    }
   ],
   "source": [
    "print(f'For the dataframe: {list_missing_names[1]}')\n",
    "Macc_df1, Mimpk_df1, Mclak_df1 = tune_K(list_missing_dfs[1])\n",
    "print(f'Best accuaracy {Macc_df1} when K for imputation = {Mimpk_df1} and k for classification = {Mclak_df1}')"
   ]
  },
  {
   "cell_type": "code",
   "execution_count": 202,
   "id": "8b457a80",
   "metadata": {},
   "outputs": [
    {
     "name": "stdout",
     "output_type": "stream",
     "text": [
      "For the dataframe: DodgerLoopGame\n",
      "Accuaracy on the test 52.0 when k for classification = 5\n"
     ]
    }
   ],
   "source": [
    "print(f'For the dataframe: {list_missing_names[1]}')\n",
    "Mtrain_df1, Mval_df1, Mtest_df1 = resplit_std(dataset_imputation(list_missing_dfs[1], Mimpk_df1))\n",
    "MnAcc_df1, MnK_df1 = knn_classifier(Mtrain_df1, Mtest_df1, [Mclak_df1])\n",
    "print(f'Accuaracy on the test {MnAcc_df1} when k for classification = {MnK_df1}')"
   ]
  },
  {
   "cell_type": "code",
   "execution_count": 203,
   "id": "7d048d9e",
   "metadata": {
    "scrolled": true
   },
   "outputs": [
    {
     "name": "stdout",
     "output_type": "stream",
     "text": [
      "For the dataframe: DodgerLoopWeekend\n",
      "Best accuaracy 72.72727272727273 when K for imputation = 8 and k for classification = 5\n"
     ]
    }
   ],
   "source": [
    "print(f'For the dataframe: {list_missing_names[2]}')\n",
    "Macc_df2, Mimpk_df2, Mclak_df2 = tune_K(list_missing_dfs[2])\n",
    "print(f'Best accuaracy {Macc_df2} when K for imputation = {Mimpk_df2} and k for classification = {Mclak_df2}')"
   ]
  },
  {
   "cell_type": "code",
   "execution_count": 204,
   "id": "e2d3a12c",
   "metadata": {
    "scrolled": true
   },
   "outputs": [
    {
     "name": "stdout",
     "output_type": "stream",
     "text": [
      "For the dataframe: DodgerLoopWeekend\n",
      "Accuaracy on the test 69.23076923076923 when k for classification = 5\n"
     ]
    }
   ],
   "source": [
    "print(f'For the dataframe: {list_missing_names[2]}')\n",
    "Mtrain_df2, Mval_df2, Mtest_df2 = resplit_std(dataset_imputation(list_missing_dfs[2], Mimpk_df2))\n",
    "MnAcc_df2, MnK_df2 = knn_classifier(Mtrain_df2, Mtest_df2, [Mclak_df2])\n",
    "print(f'Accuaracy on the test {MnAcc_df2} when k for classification = {MnK_df2}')"
   ]
  },
  {
   "cell_type": "markdown",
   "id": "3fa2c853",
   "metadata": {},
   "source": [
    "Above we have tested various datasets from our repository and checked for various values of K for classification and reported the final test accuracy on the optimal k."
   ]
  },
  {
   "cell_type": "markdown",
   "id": "90b457d0",
   "metadata": {},
   "source": [
    "# Exercise 2: Time Series Classification with Various Distance Measures"
   ]
  },
  {
   "cell_type": "markdown",
   "id": "03d556a5",
   "metadata": {},
   "source": [
    "For different values of K in knn and different distance metric, we will find the accuracy on the validation set in order to get the optimal K and distance for which accuracy is highest. Then with this K and distance function we will calculate the accuracy on the test set."
   ]
  },
  {
   "cell_type": "code",
   "execution_count": 292,
   "id": "7a5b0c36",
   "metadata": {},
   "outputs": [],
   "source": [
    "distance_metric = ['braycurtis', 'canberra', 'chebyshev', 'cityblock', 'correlation', 'cosine', 'dice', 'euclidean',\n",
    "                       'hamming', 'jaccard', 'jensenshannon', 'kulsinski', 'matching', 'minkowski', \n",
    "                       'rogerstanimoto', 'russellrao', 'seuclidean', 'sokalmichener', 'sokalsneath', 'sqeuclidean', 'yule']\n",
    "\n",
    "knn = [2, 5, 8]\n",
    "\n",
    "def optimalDistance_K(train, val, k_nn, dist):\n",
    "    grid = [[kn, dis] for kn in k_nn for dis in dist]\n",
    "    \n",
    "    sample = train[:, 1:]\n",
    "    query = val[:, 1:]\n",
    "    m, n = np.shape(sample)\n",
    "    acc_k = []\n",
    "    for K, d in grid:\n",
    "        acc = 0\n",
    "        for h in range(len(query)):\n",
    "            pred = []\n",
    "            l_dist = []           # list containing distances\n",
    "            X = np.vstack([query[h, :].reshape(1,n), sample])\n",
    "            for i in range(X.shape[0]-1):\n",
    "                l_dist.append([distance.pdist(X, d)[i], i])     \n",
    "            index = [k for l, k in sorted(l_dist, key = lambda x:x[0])][:K]\n",
    "            pred = [train[indx, 0] for indx in index]\n",
    "            if max(set(pred), key = pred.count) == val[h, 0]:\n",
    "                acc += 1   \n",
    "        acc_k.append([(acc/query.shape[0])*100, d, K])\n",
    "    return max(acc_k)\n",
    "    "
   ]
  },
  {
   "cell_type": "markdown",
   "id": "602e6182",
   "metadata": {},
   "source": [
    "For the list of distances defined above and values of k for knn, we will check the accuracy of the datasets on test by using the best k and best distance metric found by tuning k and distance on the validation set."
   ]
  },
  {
   "cell_type": "code",
   "execution_count": 293,
   "id": "7c391a8a",
   "metadata": {
    "scrolled": true
   },
   "outputs": [
    {
     "name": "stdout",
     "output_type": "stream",
     "text": [
      "For the dataframe: ACSF1\n",
      "Best accuaracy 83.33333333333334 when K = 2 and distance metric cityblock\n"
     ]
    }
   ],
   "source": [
    "print(f'For the dataframe: {list_df_names[0]}')\n",
    "odTrain_df0, odVal_df0, odTest_df0 = resplit_std(list_dfs[0])\n",
    "opt_acc_df0, opt_dist_df0, opt_k_df0 = optimalDistance_K(odTrain_df0, odVal_df0, knn, distance_metric)\n",
    "print(f'Best accuaracy {opt_acc_df0} when K = {opt_k_df0} and distance metric {opt_dist_df0}')\n"
   ]
  },
  {
   "cell_type": "code",
   "execution_count": 310,
   "id": "db25f257",
   "metadata": {},
   "outputs": [
    {
     "name": "stdout",
     "output_type": "stream",
     "text": [
      "For the dataframe: ACSF1\n",
      "Accuracy on the test 80.0 when K = 2 and distance metric cityblock\n"
     ]
    }
   ],
   "source": [
    "print(f'For the dataframe: {list_df_names[0]}')\n",
    "Test_acc_df0, Test_dist_df0, Test_k_df0 = optimalDistance_K(odTrain_df0, odTest_df0, [2], ['cityblock'])\n",
    "print(f'Accuracy on the test {Test_acc_df0} when K = {Test_k_df0} and distance metric {Test_dist_df0}')"
   ]
  },
  {
   "cell_type": "code",
   "execution_count": 311,
   "id": "2aafded2",
   "metadata": {},
   "outputs": [
    {
     "name": "stdout",
     "output_type": "stream",
     "text": [
      "For the dataframe: ArrowHead\n",
      "Best accuaracy 83.33333333333334 when K = 2 and distance metric cosine\n"
     ]
    }
   ],
   "source": [
    "print(f'For the dataframe: {list_df_names[5]}')\n",
    "odTrain_df5, odVal_df5, odTest_df5 = resplit_std(list_dfs[5])\n",
    "opt_acc_df5, opt_dist_df5, opt_k_df5 = optimalDistance_K(odTrain_df5, odVal_df5, knn, distance_metric)\n",
    "print(f'Best accuaracy {opt_acc_df5} when K = {opt_k_df5} and distance metric {opt_dist_df5}')"
   ]
  },
  {
   "cell_type": "code",
   "execution_count": 312,
   "id": "69eb4ffe",
   "metadata": {},
   "outputs": [
    {
     "name": "stdout",
     "output_type": "stream",
     "text": [
      "For the dataframe: ArrowHead\n",
      "Accuracy on the test 85.71428571428571 when K = 2 and distance metric cosine\n"
     ]
    }
   ],
   "source": [
    "print(f'For the dataframe: {list_df_names[5]}')\n",
    "Test_acc_df5, Test_dist_df5, Test_k_df5 = optimalDistance_K(odTrain_df5, odTest_df5, [2], ['cosine'])\n",
    "print(f'Accuracy on the test {Test_acc_df5} when K = {Test_k_df5} and distance metric {Test_dist_df5}')"
   ]
  },
  {
   "cell_type": "code",
   "execution_count": 314,
   "id": "7bda4c17",
   "metadata": {},
   "outputs": [
    {
     "name": "stdout",
     "output_type": "stream",
     "text": [
      "For the dataframe: Trace\n",
      "Best accuaracy 82.14285714285714 when K = 2 and distance metric sqeuclidean\n"
     ]
    }
   ],
   "source": [
    "print(f'For the dataframe: {list_df_names[110]}')\n",
    "odTrain_df110, odVal_df110, odTest_df110 = resplit_std(list_dfs[110])\n",
    "opt_acc_df110, opt_dist_df110, opt_k_df110 = optimalDistance_K(odTrain_df110, odVal_df110, knn, distance_metric)\n",
    "print(f'Best accuaracy {opt_acc_df110} when K = {opt_k_df110} and distance metric {opt_dist_df110}')"
   ]
  },
  {
   "cell_type": "code",
   "execution_count": 315,
   "id": "38a78551",
   "metadata": {},
   "outputs": [
    {
     "name": "stdout",
     "output_type": "stream",
     "text": [
      "For the dataframe: Trace\n",
      "Accuracy on the test 78.125 when K = 2 and distance metric sqeuclidean\n"
     ]
    }
   ],
   "source": [
    "print(f'For the dataframe: {list_df_names[110]}')\n",
    "Test_acc_df110, Test_dist_df110, Test_k_df110 = optimalDistance_K(odTrain_df110, odTest_df110, [2], ['sqeuclidean'])\n",
    "print(f'Accuracy on the test {Test_acc_df110} when K = {Test_k_df110} and distance metric {Test_dist_df110}')"
   ]
  },
  {
   "cell_type": "markdown",
   "id": "74a9e290",
   "metadata": {},
   "source": [
    "It was taking too long for a single dataset itself:-\n",
    "\n",
    "As we have performed this optimal distance measurement on three datasets and comparing the accuracy on the test with the best k for knn and best distance found using training on validation set, we can conclude among these that\n",
    "\n",
    "cosine   85.71428571428571\n",
    "\n",
    "cityblock    80.0\n",
    "\n",
    "sqeuclidean     78.125"
   ]
  },
  {
   "cell_type": "markdown",
   "id": "f5659d13",
   "metadata": {},
   "source": [
    "# Exercise 3: Accelerating K-Nearest Neighbour Classifier"
   ]
  },
  {
   "cell_type": "markdown",
   "id": "14d7e249",
   "metadata": {},
   "source": [
    "For the lower bounding, we will basically be going around all features taking distance of one feature at a time. Since we know distance increases as the number of features increases, the moment the distance is greater than the already stored K distances we will drop that instance as it will not be a neighbor since the distance is alrady greater than the already stored distances. \n",
    "\n",
    "In this way K-Nearest Neighbour will work faster as it will not be going through all features of each instance."
   ]
  },
  {
   "cell_type": "code",
   "execution_count": 305,
   "id": "5ffbd93e",
   "metadata": {},
   "outputs": [],
   "source": [
    "def lowerBounding(train, val, K):\n",
    "    sample = train[:, 1:]\n",
    "    query = val[:, 1:]\n",
    "    m, n = np.shape(sample)\n",
    "    acc = 0\n",
    "    for h in range(len(query)):\n",
    "        l_dist = []             # list containing distances\n",
    "        for i in range(K):\n",
    "            s = 0\n",
    "            for j in range(n):\n",
    "                s += (query[h, j] - sample[i, j])**2  \n",
    "            l_dist.append([s, i])\n",
    "        l_dist.sort()                                  # list contains first three distances of query from training set\n",
    "        \n",
    "        for l in range(K, m):\n",
    "            dist = 0\n",
    "            r = 0\n",
    "            while(dist < max(l_dist)[0] and r < n):\n",
    "                dist += (query[h, r] - sample[l, r])**2 \n",
    "                r += 1\n",
    "            if dist < max(l_dist)[0]:\n",
    "                l_dist.append([dist, l])\n",
    "                l_dist.sort()\n",
    "                l_dist.pop(-1)\n",
    "                    \n",
    "        index = [idx for dis, idx in l_dist]                    # list containing indices\n",
    "        pred = []                       # predicting classes for thr validation set\n",
    "        for indx in index:\n",
    "            pred.append(train[indx, 0]) \n",
    "        if max(set(pred), key = pred.count) == val[h, 0]:\n",
    "            acc += 1\n",
    "    return ((acc/query.shape[0])*100) \n",
    "    \n",
    "    "
   ]
  },
  {
   "cell_type": "markdown",
   "id": "0e68e9dd",
   "metadata": {},
   "source": [
    "On the crop dataframe we performed lower bounding taking k = 2"
   ]
  },
  {
   "cell_type": "code",
   "execution_count": 306,
   "id": "d5a4dbc0",
   "metadata": {},
   "outputs": [
    {
     "name": "stdout",
     "output_type": "stream",
     "text": [
      "For the dataframe: Crop\n",
      "Accuracy is 74.77777777777777\n"
     ]
    }
   ],
   "source": [
    "print(f'For the dataframe: {list_df_names[20]}')\n",
    "train_lb, val_lb, test_lb = resplit_std(list_dfs[20])\n",
    "acc_lb = lowerBounding(train_lb, val_lb, K = 2)\n",
    "print(f'Accuracy is {acc_lb}')"
   ]
  },
  {
   "cell_type": "markdown",
   "id": "737ef54b",
   "metadata": {},
   "source": [
    "For k = 3"
   ]
  },
  {
   "cell_type": "code",
   "execution_count": 307,
   "id": "4584614d",
   "metadata": {},
   "outputs": [
    {
     "name": "stdout",
     "output_type": "stream",
     "text": [
      "For the dataframe: Crop\n",
      "Accuracy is 77.08333333333334\n"
     ]
    }
   ],
   "source": [
    "print(f'For the dataframe: {list_df_names[20]}')\n",
    "train_lb, val_lb, test_lb = resplit_std(list_dfs[20])\n",
    "acc_lb = lowerBounding(train_lb, val_lb, K = 3)\n",
    "print(f'Accuracy is {acc_lb}')"
   ]
  },
  {
   "cell_type": "markdown",
   "id": "c5c158e6",
   "metadata": {},
   "source": [
    "We have tested it on two values of k i.e. k = 2 and k = 3 to see how accuracy changes.\n",
    "\n",
    "As the size of the array containing distances will be equal to the value of k and the here we have seen accuaracy has increased by shifting k from 2 to 3, so we can conclude that the accuaracy will be better for k which are not too small."
   ]
  }
 ],
 "metadata": {
  "kernelspec": {
   "display_name": "Python 3 (ipykernel)",
   "language": "python",
   "name": "python3"
  },
  "language_info": {
   "codemirror_mode": {
    "name": "ipython",
    "version": 3
   },
   "file_extension": ".py",
   "mimetype": "text/x-python",
   "name": "python",
   "nbconvert_exporter": "python",
   "pygments_lexer": "ipython3",
   "version": "3.9.7"
  }
 },
 "nbformat": 4,
 "nbformat_minor": 5
}
