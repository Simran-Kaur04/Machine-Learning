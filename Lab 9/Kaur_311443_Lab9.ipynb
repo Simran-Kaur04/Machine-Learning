{
 "cells": [
  {
   "cell_type": "markdown",
   "id": "0a378775",
   "metadata": {},
   "source": [
    "# Machine Learning Lab 9\n",
    "\n",
    "# Simran Kaur\n",
    "\n",
    "# 311443"
   ]
  },
  {
   "cell_type": "markdown",
   "id": "78dba4b1",
   "metadata": {},
   "source": [
    "# Exercise 1: Implement Decision Tree"
   ]
  },
  {
   "cell_type": "code",
   "execution_count": 96,
   "id": "90e98054",
   "metadata": {},
   "outputs": [],
   "source": [
    "import pandas as pd\n",
    "import math"
   ]
  },
  {
   "cell_type": "markdown",
   "id": "7cdb81f4",
   "metadata": {},
   "source": [
    "Iris Dataset"
   ]
  },
  {
   "cell_type": "code",
   "execution_count": 110,
   "id": "6819576e",
   "metadata": {},
   "outputs": [
    {
     "data": {
      "text/html": [
       "<div>\n",
       "<style scoped>\n",
       "    .dataframe tbody tr th:only-of-type {\n",
       "        vertical-align: middle;\n",
       "    }\n",
       "\n",
       "    .dataframe tbody tr th {\n",
       "        vertical-align: top;\n",
       "    }\n",
       "\n",
       "    .dataframe thead th {\n",
       "        text-align: right;\n",
       "    }\n",
       "</style>\n",
       "<table border=\"1\" class=\"dataframe\">\n",
       "  <thead>\n",
       "    <tr style=\"text-align: right;\">\n",
       "      <th></th>\n",
       "      <th>sepal length</th>\n",
       "      <th>sepal width</th>\n",
       "      <th>petal length</th>\n",
       "      <th>petal width</th>\n",
       "      <th>class</th>\n",
       "    </tr>\n",
       "  </thead>\n",
       "  <tbody>\n",
       "    <tr>\n",
       "      <th>0</th>\n",
       "      <td>5.1</td>\n",
       "      <td>3.5</td>\n",
       "      <td>1.4</td>\n",
       "      <td>0.2</td>\n",
       "      <td>Iris-setosa</td>\n",
       "    </tr>\n",
       "    <tr>\n",
       "      <th>1</th>\n",
       "      <td>4.9</td>\n",
       "      <td>3.0</td>\n",
       "      <td>1.4</td>\n",
       "      <td>0.2</td>\n",
       "      <td>Iris-setosa</td>\n",
       "    </tr>\n",
       "    <tr>\n",
       "      <th>2</th>\n",
       "      <td>4.7</td>\n",
       "      <td>3.2</td>\n",
       "      <td>1.3</td>\n",
       "      <td>0.2</td>\n",
       "      <td>Iris-setosa</td>\n",
       "    </tr>\n",
       "    <tr>\n",
       "      <th>3</th>\n",
       "      <td>4.6</td>\n",
       "      <td>3.1</td>\n",
       "      <td>1.5</td>\n",
       "      <td>0.2</td>\n",
       "      <td>Iris-setosa</td>\n",
       "    </tr>\n",
       "    <tr>\n",
       "      <th>4</th>\n",
       "      <td>5.0</td>\n",
       "      <td>3.6</td>\n",
       "      <td>1.4</td>\n",
       "      <td>0.2</td>\n",
       "      <td>Iris-setosa</td>\n",
       "    </tr>\n",
       "    <tr>\n",
       "      <th>...</th>\n",
       "      <td>...</td>\n",
       "      <td>...</td>\n",
       "      <td>...</td>\n",
       "      <td>...</td>\n",
       "      <td>...</td>\n",
       "    </tr>\n",
       "    <tr>\n",
       "      <th>145</th>\n",
       "      <td>6.7</td>\n",
       "      <td>3.0</td>\n",
       "      <td>5.2</td>\n",
       "      <td>2.3</td>\n",
       "      <td>Iris-virginica</td>\n",
       "    </tr>\n",
       "    <tr>\n",
       "      <th>146</th>\n",
       "      <td>6.3</td>\n",
       "      <td>2.5</td>\n",
       "      <td>5.0</td>\n",
       "      <td>1.9</td>\n",
       "      <td>Iris-virginica</td>\n",
       "    </tr>\n",
       "    <tr>\n",
       "      <th>147</th>\n",
       "      <td>6.5</td>\n",
       "      <td>3.0</td>\n",
       "      <td>5.2</td>\n",
       "      <td>2.0</td>\n",
       "      <td>Iris-virginica</td>\n",
       "    </tr>\n",
       "    <tr>\n",
       "      <th>148</th>\n",
       "      <td>6.2</td>\n",
       "      <td>3.4</td>\n",
       "      <td>5.4</td>\n",
       "      <td>2.3</td>\n",
       "      <td>Iris-virginica</td>\n",
       "    </tr>\n",
       "    <tr>\n",
       "      <th>149</th>\n",
       "      <td>5.9</td>\n",
       "      <td>3.0</td>\n",
       "      <td>5.1</td>\n",
       "      <td>1.8</td>\n",
       "      <td>Iris-virginica</td>\n",
       "    </tr>\n",
       "  </tbody>\n",
       "</table>\n",
       "<p>150 rows × 5 columns</p>\n",
       "</div>"
      ],
      "text/plain": [
       "     sepal length  sepal width  petal length  petal width           class\n",
       "0             5.1          3.5           1.4          0.2     Iris-setosa\n",
       "1             4.9          3.0           1.4          0.2     Iris-setosa\n",
       "2             4.7          3.2           1.3          0.2     Iris-setosa\n",
       "3             4.6          3.1           1.5          0.2     Iris-setosa\n",
       "4             5.0          3.6           1.4          0.2     Iris-setosa\n",
       "..            ...          ...           ...          ...             ...\n",
       "145           6.7          3.0           5.2          2.3  Iris-virginica\n",
       "146           6.3          2.5           5.0          1.9  Iris-virginica\n",
       "147           6.5          3.0           5.2          2.0  Iris-virginica\n",
       "148           6.2          3.4           5.4          2.3  Iris-virginica\n",
       "149           5.9          3.0           5.1          1.8  Iris-virginica\n",
       "\n",
       "[150 rows x 5 columns]"
      ]
     },
     "execution_count": 110,
     "metadata": {},
     "output_type": "execute_result"
    }
   ],
   "source": [
    "data2 = pd.read_csv(\"iris.data\", sep = \",\", header = None)\n",
    "data2.columns = [\"sepal length\", \"sepal width\", \"petal length\", \"petal width\", \"class\"] \n",
    "data2"
   ]
  },
  {
   "cell_type": "markdown",
   "id": "4b169cad",
   "metadata": {},
   "source": [
    "For each Feature, splits function takes all the unique values that feature has and sort it in ascending order and then takes the average of each of the two consecutive points. This function returns a dictionary with each feature as a key of the dictionary with list of averages as the value corressponding to that key."
   ]
  },
  {
   "cell_type": "code",
   "execution_count": 111,
   "id": "2d193923",
   "metadata": {},
   "outputs": [],
   "source": [
    "def splits(df):             # input is dataframe\n",
    "    c1 = {}                          # dictionary for storing features and list of possible split values\n",
    "    for col in df.columns:\n",
    "        values = []\n",
    "        if df[col].dtypes == 'float64':\n",
    "            l1 = list(set(df[col].unique()))\n",
    "            l1.sort()\n",
    "            for i in range(len(l1) - 1):\n",
    "                values.append((l1[i] + l1[i+1])/2)\n",
    "            c1[col] = values    \n",
    "    return c1                 "
   ]
  },
  {
   "cell_type": "markdown",
   "id": "6ac3d9aa",
   "metadata": {},
   "source": [
    "This function takes a particular feature and the value at which to split rows of the dataframe as left and right branch for further using quality criterion on these branches to know whether they form best splits or not."
   ]
  },
  {
   "cell_type": "code",
   "execution_count": 5,
   "id": "798035fe",
   "metadata": {},
   "outputs": [],
   "source": [
    "def branches(df, col, val):        \n",
    "    left = df.loc[df[col] < val]\n",
    "    right = df.loc[df[col] >= val]\n",
    "    return left, right"
   ]
  },
  {
   "cell_type": "markdown",
   "id": "af2b29e4",
   "metadata": {},
   "source": [
    "Possible classes in our dataframe."
   ]
  },
  {
   "cell_type": "code",
   "execution_count": 112,
   "id": "8255ebfc",
   "metadata": {
    "scrolled": true
   },
   "outputs": [
    {
     "data": {
      "text/plain": [
       "array(['Iris-setosa', 'Iris-versicolor', 'Iris-virginica'], dtype=object)"
      ]
     },
     "execution_count": 112,
     "metadata": {},
     "output_type": "execute_result"
    }
   ],
   "source": [
    "n_unique_classes = data2[\"class\"].unique()\n",
    "n_unique_classes"
   ]
  },
  {
   "cell_type": "markdown",
   "id": "785df186",
   "metadata": {},
   "source": [
    "For each of the left and right branch we will get from branches function we will calculate misclassification rate for each of them to take the split in the end with minimum misclassification rate."
   ]
  },
  {
   "cell_type": "code",
   "execution_count": 114,
   "id": "e7ea855f",
   "metadata": {},
   "outputs": [],
   "source": [
    "def misclassificationRate(df1, df2):\n",
    "    rate_dict_left = {}\n",
    "    rate_dict_right = {}\n",
    "    for c in n_unique_classes:          # for each class count number of times it occurs in a particular split\n",
    "        left_count = 0\n",
    "        right_count = 0\n",
    "        for lrow in df1.iterrows():\n",
    "            if lrow[1]['class'] == c:\n",
    "                left_count += 1\n",
    "        rate_dict_left[c] = left_count       \n",
    "        for rrow in df2.iterrows():\n",
    "            if rrow[1]['class'] == c:\n",
    "                right_count += 1\n",
    "        rate_dict_right[c] = right_count\n",
    "    misclass = ((df1.shape[0] - max(rate_dict_left.values()) + (df2.shape[0] - \n",
    "                                                                max(rate_dict_right.values()))))/(df1.shape[0] + df2.shape[0])\n",
    "   \n",
    "    return misclass\n",
    "                "
   ]
  },
  {
   "cell_type": "markdown",
   "id": "c66d69ad",
   "metadata": {},
   "source": [
    "For example lets check on feature sepal length at value 4.35"
   ]
  },
  {
   "cell_type": "code",
   "execution_count": 115,
   "id": "31319bf5",
   "metadata": {},
   "outputs": [
    {
     "data": {
      "text/plain": [
       "0.66"
      ]
     },
     "execution_count": 115,
     "metadata": {},
     "output_type": "execute_result"
    }
   ],
   "source": [
    "lt, rt = branches(data2, 'sepal length', 4.35)\n",
    "misclassificationRate(lt, rt)"
   ]
  },
  {
   "cell_type": "markdown",
   "id": "aac0e365",
   "metadata": {},
   "source": [
    "Node function sums up whatever has been done so far. For each of the feature and at each of the value that feature will be splitted it calculates misclassification rate and then stores the best split for that particular feature and then this process is repeated on all of the features and finally we get the best split."
   ]
  },
  {
   "cell_type": "code",
   "execution_count": 116,
   "id": "7ab2aa71",
   "metadata": {},
   "outputs": [],
   "source": [
    "def Node(df):\n",
    "    column_values = splits(df)\n",
    "    min_misclassRate = {}\n",
    "    for key in column_values:\n",
    "        ll = []\n",
    "        for val in column_values[key]:\n",
    "            left, right = branches(df, key, val)\n",
    "            ll.append([misclassificationRate(left, right), left, right, val])\n",
    "        min_misclassRate[key] = min(ll, key = lambda x: x[0]) \n",
    "    val = (min(min_misclassRate.items(), key=lambda x: x[0])[1])[-1]\n",
    "    name = (min(min_misclassRate.items(), key = lambda x: x[0])[0])    \n",
    "    left_n = (min(min_misclassRate.items(), key=lambda x: x[0])[1])[1]\n",
    "    right_n = (min(min_misclassRate.items(), key=lambda x: x[0])[1])[2]\n",
    "    return name, val, left_n, right_n\n",
    "        "
   ]
  },
  {
   "cell_type": "code",
   "execution_count": 117,
   "id": "491d6b7f",
   "metadata": {},
   "outputs": [],
   "source": [
    "class CreatingNode:\n",
    "    \n",
    "    def __init__(self, name, value, left, right):\n",
    "        self.name = name\n",
    "        self.value = value\n",
    "        self.left = left\n",
    "        self.right = right\n",
    "    \n",
    "    def leftnode(self):\n",
    "        if len(self.left[\"class\"].unique()) == 1:\n",
    "            self.leftn = self.left[\"class\"][0]\n",
    "            print(f'{self.name} < {self.value}')\n",
    "            return self.leftn\n",
    "        else:\n",
    "            return Node(self.left)\n",
    "\n",
    "    def rightnode(self):\n",
    "        if len(self.right[\"class\"].unique()) == 1:\n",
    "            self.rightn = self.right[\"class\"][0]\n",
    "            return self.rightn\n",
    "        else:\n",
    "            return Node(self.right)\n",
    "        \n",
    "    def displayTree(self, space):\n",
    "        print(f'{self.name} < {self.value}'.center(space))\n",
    "        "
   ]
  },
  {
   "cell_type": "code",
   "execution_count": 109,
   "id": "d619a62f",
   "metadata": {},
   "outputs": [],
   "source": [
    "name_r, val_r, left_r, right_r = Node(data2)\n",
    "rootnode = CreatingNode(name_r, val_r, left_r, right_r)"
   ]
  },
  {
   "cell_type": "code",
   "execution_count": 79,
   "id": "0b6c8345",
   "metadata": {},
   "outputs": [
    {
     "name": "stdout",
     "output_type": "stream",
     "text": [
      "Iris-setosa\n"
     ]
    }
   ],
   "source": [
    "try:\n",
    "    name2, val2, left2, right2 = rootnode.leftnode()\n",
    "    newnode_l = CreatingNode(name2, val2, left2, right2)\n",
    "    newnode_1.displayTree()\n",
    "except:\n",
    "    label1 = rootnode.leftnode()\n",
    "    print(label1)"
   ]
  },
  {
   "cell_type": "code",
   "execution_count": 75,
   "id": "d661967a",
   "metadata": {
    "scrolled": true
   },
   "outputs": [
    {
     "name": "stdout",
     "output_type": "stream",
     "text": [
      "petal length < 4.75\n"
     ]
    }
   ],
   "source": [
    "try:\n",
    "    name3, val3, left3, right3 = rootnode.rightnode()\n",
    "    newnode_r = CreatingNode(name3, val3, left3, right3)\n",
    "    newnode_r.displayTree()\n",
    "except:\n",
    "    print(f\"{rootnode.rightnode()}\")"
   ]
  },
  {
   "cell_type": "markdown",
   "id": "cf92706e",
   "metadata": {},
   "source": [
    "I tried implementing tree but it didn't work and I don't where it's wrong."
   ]
  },
  {
   "cell_type": "code",
   "execution_count": 106,
   "id": "133c368a",
   "metadata": {},
   "outputs": [],
   "source": [
    "def tree(df):\n",
    "    max_depth = 3\n",
    "    for i in range(max_depth):\n",
    "\n",
    "    \n",
    "        name_r, val_r, left_r, right_r = Node(df)\n",
    "        rootnode = CreatingNode(name_r, val_r, left_r, right_r)\n",
    "        rootnode.displayTree(100 - i*10)\n",
    "        \n",
    "        if not isinstance(left_r, str):\n",
    "        \n",
    "            try:\n",
    "                name2, val2, left2, right2 = rootnode.leftnode()\n",
    "                newnode_l = CreatingNode(name2, val2, left2, right2)\n",
    "                newnode_1.displayTree(100 - (i+1)*20)\n",
    "            except:\n",
    "                label1 = rootnode.leftnode()\n",
    "                print(label1)\n",
    "        \n",
    "        if not isinstance(right_r, str):\n",
    "        \n",
    "            try:\n",
    "                name3, val3, left3, right3 = rootnode.rightnode()\n",
    "                newnode_r = CreatingNode(name3, val3, left3, right3)\n",
    "                newnode_r.displayTree(100 + (i+1)*20)\n",
    "            except:\n",
    "                label2 = rootnode.rightnode()\n",
    "                print(label2)                \n"
   ]
  },
  {
   "cell_type": "code",
   "execution_count": 107,
   "id": "9f6afbcc",
   "metadata": {
    "scrolled": true
   },
   "outputs": [
    {
     "name": "stdout",
     "output_type": "stream",
     "text": [
      "                                        petal length < 2.45                                         \n",
      "Iris-setosa\n",
      "                                                  petal length < 4.75                                                   \n",
      "                                   petal length < 2.45                                    \n",
      "Iris-setosa\n",
      "                                                            petal length < 4.75                                                             \n",
      "                              petal length < 2.45                               \n",
      "Iris-setosa\n",
      "                                                                      petal length < 4.75                                                                       \n"
     ]
    }
   ],
   "source": [
    "tree(data2)"
   ]
  },
  {
   "cell_type": "markdown",
   "id": "ad046f35",
   "metadata": {},
   "source": [
    "This function calculates the entropy for a given split by calculating the frequencies of different classes."
   ]
  },
  {
   "cell_type": "code",
   "execution_count": 102,
   "id": "674186c1",
   "metadata": {},
   "outputs": [],
   "source": [
    "def entropy(df):\n",
    "    label_count = dict(df[\"class\"].value_counts())\n",
    "    sum = 0\n",
    "    for key in label_count:\n",
    "        sum += (label_count[key]/df.shape[0])*math.log(label_count[key]/df.shape[0], 2)  \n",
    "        \n",
    "    return sum          "
   ]
  },
  {
   "cell_type": "markdown",
   "id": "b1f64c0e",
   "metadata": {},
   "source": [
    "This function calculates the Information gain by using entropy function defined above."
   ]
  },
  {
   "cell_type": "code",
   "execution_count": 104,
   "id": "b87000ae",
   "metadata": {},
   "outputs": [],
   "source": [
    "def informationGain(df, df1, df2):\n",
    "    return entropy(df) - (df1.shape[0]/df.shape[0])*entropy(df1) - (df2.shape[0]/df.shape[0])*entropy(df2)\n"
   ]
  },
  {
   "cell_type": "markdown",
   "id": "4761186d",
   "metadata": {},
   "source": [
    "This function splits our dataset into training, validation and test set."
   ]
  },
  {
   "cell_type": "code",
   "execution_count": 120,
   "id": "0c2475d4",
   "metadata": {},
   "outputs": [],
   "source": [
    "def trainValTest(df):\n",
    "    r = int(.7*df.shape[0])\n",
    "    Train = df.iloc[:r, :]\n",
    "    Val = df.iloc[r: int(.85*df.shape[0]), :]\n",
    "    Test = df.iloc[int(.85*df.shape[0]):, :]\n",
    "    return Train, Val, Test"
   ]
  },
  {
   "cell_type": "code",
   "execution_count": 121,
   "id": "b03b7d2c",
   "metadata": {},
   "outputs": [
    {
     "data": {
      "text/html": [
       "<div>\n",
       "<style scoped>\n",
       "    .dataframe tbody tr th:only-of-type {\n",
       "        vertical-align: middle;\n",
       "    }\n",
       "\n",
       "    .dataframe tbody tr th {\n",
       "        vertical-align: top;\n",
       "    }\n",
       "\n",
       "    .dataframe thead th {\n",
       "        text-align: right;\n",
       "    }\n",
       "</style>\n",
       "<table border=\"1\" class=\"dataframe\">\n",
       "  <thead>\n",
       "    <tr style=\"text-align: right;\">\n",
       "      <th></th>\n",
       "      <th>sepal length</th>\n",
       "      <th>sepal width</th>\n",
       "      <th>petal length</th>\n",
       "      <th>petal width</th>\n",
       "      <th>class</th>\n",
       "    </tr>\n",
       "  </thead>\n",
       "  <tbody>\n",
       "    <tr>\n",
       "      <th>0</th>\n",
       "      <td>5.1</td>\n",
       "      <td>3.5</td>\n",
       "      <td>1.4</td>\n",
       "      <td>0.2</td>\n",
       "      <td>Iris-setosa</td>\n",
       "    </tr>\n",
       "    <tr>\n",
       "      <th>1</th>\n",
       "      <td>4.9</td>\n",
       "      <td>3.0</td>\n",
       "      <td>1.4</td>\n",
       "      <td>0.2</td>\n",
       "      <td>Iris-setosa</td>\n",
       "    </tr>\n",
       "    <tr>\n",
       "      <th>2</th>\n",
       "      <td>4.7</td>\n",
       "      <td>3.2</td>\n",
       "      <td>1.3</td>\n",
       "      <td>0.2</td>\n",
       "      <td>Iris-setosa</td>\n",
       "    </tr>\n",
       "    <tr>\n",
       "      <th>3</th>\n",
       "      <td>4.6</td>\n",
       "      <td>3.1</td>\n",
       "      <td>1.5</td>\n",
       "      <td>0.2</td>\n",
       "      <td>Iris-setosa</td>\n",
       "    </tr>\n",
       "    <tr>\n",
       "      <th>4</th>\n",
       "      <td>5.0</td>\n",
       "      <td>3.6</td>\n",
       "      <td>1.4</td>\n",
       "      <td>0.2</td>\n",
       "      <td>Iris-setosa</td>\n",
       "    </tr>\n",
       "    <tr>\n",
       "      <th>...</th>\n",
       "      <td>...</td>\n",
       "      <td>...</td>\n",
       "      <td>...</td>\n",
       "      <td>...</td>\n",
       "      <td>...</td>\n",
       "    </tr>\n",
       "    <tr>\n",
       "      <th>100</th>\n",
       "      <td>6.3</td>\n",
       "      <td>3.3</td>\n",
       "      <td>6.0</td>\n",
       "      <td>2.5</td>\n",
       "      <td>Iris-virginica</td>\n",
       "    </tr>\n",
       "    <tr>\n",
       "      <th>101</th>\n",
       "      <td>5.8</td>\n",
       "      <td>2.7</td>\n",
       "      <td>5.1</td>\n",
       "      <td>1.9</td>\n",
       "      <td>Iris-virginica</td>\n",
       "    </tr>\n",
       "    <tr>\n",
       "      <th>102</th>\n",
       "      <td>7.1</td>\n",
       "      <td>3.0</td>\n",
       "      <td>5.9</td>\n",
       "      <td>2.1</td>\n",
       "      <td>Iris-virginica</td>\n",
       "    </tr>\n",
       "    <tr>\n",
       "      <th>103</th>\n",
       "      <td>6.3</td>\n",
       "      <td>2.9</td>\n",
       "      <td>5.6</td>\n",
       "      <td>1.8</td>\n",
       "      <td>Iris-virginica</td>\n",
       "    </tr>\n",
       "    <tr>\n",
       "      <th>104</th>\n",
       "      <td>6.5</td>\n",
       "      <td>3.0</td>\n",
       "      <td>5.8</td>\n",
       "      <td>2.2</td>\n",
       "      <td>Iris-virginica</td>\n",
       "    </tr>\n",
       "  </tbody>\n",
       "</table>\n",
       "<p>105 rows × 5 columns</p>\n",
       "</div>"
      ],
      "text/plain": [
       "     sepal length  sepal width  petal length  petal width           class\n",
       "0             5.1          3.5           1.4          0.2     Iris-setosa\n",
       "1             4.9          3.0           1.4          0.2     Iris-setosa\n",
       "2             4.7          3.2           1.3          0.2     Iris-setosa\n",
       "3             4.6          3.1           1.5          0.2     Iris-setosa\n",
       "4             5.0          3.6           1.4          0.2     Iris-setosa\n",
       "..            ...          ...           ...          ...             ...\n",
       "100           6.3          3.3           6.0          2.5  Iris-virginica\n",
       "101           5.8          2.7           5.1          1.9  Iris-virginica\n",
       "102           7.1          3.0           5.9          2.1  Iris-virginica\n",
       "103           6.3          2.9           5.6          1.8  Iris-virginica\n",
       "104           6.5          3.0           5.8          2.2  Iris-virginica\n",
       "\n",
       "[105 rows x 5 columns]"
      ]
     },
     "execution_count": 121,
     "metadata": {},
     "output_type": "execute_result"
    }
   ],
   "source": [
    "train, val, test = trainValTest(data2)\n",
    "train"
   ]
  },
  {
   "cell_type": "code",
   "execution_count": 122,
   "id": "1dd56df8",
   "metadata": {},
   "outputs": [
    {
     "name": "stdout",
     "output_type": "stream",
     "text": [
      "                                        petal length < 2.45                                         \n",
      "petal length < 2.45\n",
      "petal length < 2.45\n",
      "Iris-setosa\n",
      "                                                  petal length < 5.05                                                   \n",
      "                                   petal length < 2.45                                    \n",
      "petal length < 2.45\n",
      "petal length < 2.45\n",
      "Iris-setosa\n",
      "                                                            petal length < 5.05                                                             \n",
      "                              petal length < 2.45                               \n",
      "petal length < 2.45\n",
      "petal length < 2.45\n",
      "Iris-setosa\n",
      "                                                                      petal length < 5.05                                                                       \n"
     ]
    }
   ],
   "source": [
    "tree(train)"
   ]
  },
  {
   "cell_type": "code",
   "execution_count": null,
   "id": "37d72e80",
   "metadata": {},
   "outputs": [],
   "source": []
  }
 ],
 "metadata": {
  "kernelspec": {
   "display_name": "Python 3 (ipykernel)",
   "language": "python",
   "name": "python3"
  },
  "language_info": {
   "codemirror_mode": {
    "name": "ipython",
    "version": 3
   },
   "file_extension": ".py",
   "mimetype": "text/x-python",
   "name": "python",
   "nbconvert_exporter": "python",
   "pygments_lexer": "ipython3",
   "version": "3.9.7"
  }
 },
 "nbformat": 4,
 "nbformat_minor": 5
}
